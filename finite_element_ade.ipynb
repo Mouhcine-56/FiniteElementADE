{
 "cells": [
  {
   "cell_type": "markdown",
   "metadata": {},
   "source": [
    "# Finite Element Advection Diffusion Equation"
   ]
  },
  {
   "cell_type": "markdown",
   "metadata": {},
   "source": [
    "## Weak formulation"
   ]
  },
  {
   "cell_type": "markdown",
   "metadata": {},
   "source": [
    "We will start with the 2D pure conduction equation:\n",
    "$$\\rho c \\frac{\\partial T}{\\partial t} = \\frac{\\partial}{\\partial x}\\biggl(k \\frac{\\partial T}{\\partial x}\\biggr) + \\frac{\\partial}{\\partial y}\\biggl(k \\frac{\\partial T}{\\partial y}\\biggr)$$\n",
    "where $k$ is the material conductivity, $\\rho$ is the material density, $c$ is the material capacitance.  "
   ]
  },
  {
   "cell_type": "markdown",
   "metadata": {},
   "source": [
    "Let's multiply each side of the equation on the test function (shape function) $\\phi$ and integrate it over the domain volume $\\Omega$):\n",
    "$$\n",
    "\\int_{\\Omega}{\\rho c \\frac{\\partial T}{\\partial t} \\phi_e dx dy} = \\int_{\\Omega}{\\frac{\\partial}{\\partial x}\\biggl(k \\frac{\\partial{T}}{\\partial x} \\biggr)\\phi_e dx dy} + \\int_{\\Omega}{\\frac{\\partial}{\\partial y}\\biggl(k \\frac{\\partial{T}}{\\partial y}\\biggr) \\phi_e dx dy} \n",
    "$$"
   ]
  },
  {
   "cell_type": "markdown",
   "metadata": {},
   "source": [
    "We need to use Gauss-Ostrogradsky theorem which is represented as:\n",
    "$$\\int_{\\Omega}{\\mathbf{\\nabla}\\cdot \\mathbf{F} dV} = \\int_{\\partial\\Omega}{\\mathbf{F}\\cdot\\mathbf{n}} dS$$\n",
    "\n",
    "Notice also, that the following can be represented as:\n",
    "$$\\mathbf{\\nabla}\\cdot \\phi \\mathbf{\\nabla} G = \\phi \\mathbf{\\nabla}\\cdot\\mathbf{\\nabla G} + \\mathbf{\\nabla}\\phi\\cdot\\mathbf{\\nabla}G$$\n"
   ]
  },
  {
   "cell_type": "markdown",
   "metadata": {},
   "source": [
    "Assuming that $k$, $\\rho$ and $c$ are all constants and $G=k T$, the following is obtained:\n",
    "$$\n",
    "\\int_{\\Omega}{\\rho c \\partial_t T \\phi dV} =\\int_{\\partial \\Omega}{k\\partial_n T \\phi dS} - \\int_{\\Omega}{\\biggl(k \\partial_x T \\partial_x \\phi + k \\partial_y T \\partial_y \\phi\\biggr) dV}\n",
    "$$"
   ]
  },
  {
   "cell_type": "markdown",
   "metadata": {},
   "source": [
    "We now need to take integrals over the boundary. For the Newmann boundary condition there is a prescribed flux boundary condition: $k\\partial_n T|_{\\partial \\Omega_N} = g_N$. Whenever on boundary we have a prescribed Dirichlet boundary condition, i.e. $T|_{\\partial \\Omega_D} = g_D$, to avoid calculating the integral over the boundary $\\int_{\\partial \\Omega}{k\\partial_n T\\phi dS}$ for Dirichlet boundary condition we ask a test function to have a zero value on the boudnary $\\phi|_{\\partial \\Omega_D} = 0$."
   ]
  },
  {
   "cell_type": "markdown",
   "metadata": {},
   "source": [
    "Therefore the following integral can be calculated as follows:\n",
    "$$\n",
    "\\int_{\\Omega}{\\rho c \\partial_t T \\phi dV} =\\int_{\\partial \\Omega_N}{g_N \\phi dS} - \\int_{\\Omega}{\\biggl(k \\partial_x T \\partial_x \\phi + k \\partial_y T \\partial_y \\phi\\biggr) dV}\n",
    "$$"
   ]
  },
  {
   "cell_type": "markdown",
   "metadata": {},
   "source": [
    "Now we approximate the test function $\\phi$ from the space of the first order polynomials defined in the whole domain. We also approximate the temperature function as the summation through all possible first order polynomials. However, it's almost impossible to work with all possible first order polynomials in space and represent the temperature through their summation ($\\sum_{i=0}^{\\infty}{a_i x + b_i y + c_i}$). \n",
    "\n",
    "Instead, we introduce the discretization of space into certain geometrical features, say the domain $\\Omega$ is subdivided onto $M$ features (triangles in our case) and have $N$ nodes. \n",
    "\n",
    "In each geometrical feature $ e = 1..M$ the solution is represented through one of polynomials. Assuming that we have a basis for polynomials in this geometrical feature, one can write:  \n",
    "$$\n",
    "T_e = \\sum_{j=1}^{d}{a_j \\phi^e_j(x,y)},\n",
    "$$\n",
    "where $a_j$ are the weights, $d$ is the number of coefficients, $\\phi_j^e$ is the linear shape function corresponding to the node $j$ of the element $e$. \n",
    "\n",
    "A few things to note in triangle we have only three points that will be searched for in the final solution, so we will have only three basis functions inside the triangle.  At this particular point nothing stops us to assume that the shape function takes $1$ at node itself and $0$ at any other nodes. So the profile of temperatures inside the geometrical feature $e$ can be represented through its nodal values:\n",
    "$$\n",
    "T_e = \\sum_{j=1}^{d}{T_j^e \\phi^e_j(x,y)},\n",
    "$$\n",
    "where $\\phi^e_j(x_j,y_j) = 1$ and $\\phi^e_j(x_k,y_k)=0$ for $j\\neq k$ ($x_j,y_j$ are coordinates of the node $j$). Also, outside the element $e$ this shape function equals zero. Notice, that each shape function is represented as $\\phi^e_j(x,y) = a_j x + b_j y +c_j$."
   ]
  },
  {
   "cell_type": "markdown",
   "metadata": {},
   "source": [
    "Now the big integral (assuming that the basis function has non-zero value only inside the corresponding triangle), then the whole integral is taken as summation over the geometrical features. If we take the test function to be a shape function, then the integral with this shape function $\\phi^e_j$ will be taken only inside the corresponding geometrical feature:\n",
    "$$\n",
    "\\int_{\\Omega^e}{\\rho c \\partial_t \\sum_k{T_k^e \\phi^e_k} \\phi^e_j dV}=\\int_{\\partial\\Omega_N^e}{g^e_N \\phi_j^e dS} - \\int_{\\Omega^e}{\\biggl(k\\partial_x \\phi_j^e \\sum_k{T_k^e \\partial_x \\phi_k^e + k\\partial_y \\phi_j^e \\sum_k{T_k^e \\partial_y \\phi_k^e}}\\biggr)}\n",
    "$$"
   ]
  },
  {
   "cell_type": "markdown",
   "metadata": {},
   "source": [
    "We discretize in time using the implicit discretization:\n",
    "$$\n",
    "\\partial_t T_k^e = \\frac{{T_k^e}_{n+1}-{T_k^e}_n}{t_{n+1}-t_n}\n",
    "$$\n"
   ]
  },
  {
   "cell_type": "markdown",
   "metadata": {},
   "source": [
    "Eventually we will have the linear system involving the nodal temperatures. Let us see derive this matrix:\n",
    "$$\n",
    "\\int_{\\Omega^e}{\\frac{\\rho c}{t_{n+1}-t_n}  \\sum_k{\\bigl({T_k^e}_{n+1}-{T_k^e}_n\\bigr) \\phi^e_k} \\phi^e_j dV}=\\int_{\\partial\\Omega_N^e}{{g^e_N}_{n+1} \\phi_j^e dS} - \\int_{\\Omega^e}{\\biggl(k\\partial_x \\phi_j^e \\sum_k{{T_k^e}_{n+1} \\partial_x \\phi_k^e + k\\partial_y \\phi_j^e \\sum_k{{T_k^e}_{n+1} \\partial_y \\phi_k^e}}\\biggr)}\n",
    "$$"
   ]
  },
  {
   "cell_type": "markdown",
   "metadata": {},
   "source": [
    "For each element we have the following coefficients:\n",
    "$$\n",
    "\\frac{\\rho c}{t_{n+1}-t_n}\\sum_k{{T_k^e}_{n+1} M_{kj}}-\\frac{\\rho c}{t_{n+1}-t_n}\\sum_k{{T_k^e}_n M_{kj}} = \n",
    "\\int_{\\partial_{\\Omega^e_N}}{{g^e_N}_{n+1}\\phi^e_j dS} - k\\sum_k{{T_k^e}_{n+1} A_{kj}},\n",
    "$$\n",
    "where the mass matrix is $M_{kj} = \\int_{\\Omega^e}{\\phi_k^e\\phi_j^e dV}$ and the stiffness matrix $A_{kj} = \\int_{\\Omega^e}{\\bigl(\\partial_x \\phi_k^e \\partial_x\\phi_j^e +\\partial_y \\phi_k^e \\partial_y\\phi_j^e \\bigr)}$."
   ]
  },
  {
   "cell_type": "markdown",
   "metadata": {},
   "source": [
    "Overall we can obtain the matrix equation:\n",
    "$$\n",
    "\\frac{\\rho c}{t_{n+1}-t_n} \\mathbf{M} \\mathbf{T}_{n+1} + k \\mathbf{A} T_{n+1} = \\mathbf{G}_{n+1}+\\frac{\\rho c}{t_{n+1}-t_n} \\mathbf{M}\\mathbf{T}_n \n",
    "$$"
   ]
  },
  {
   "cell_type": "markdown",
   "metadata": {},
   "source": [
    "This equation is valid only for one element but eventually we will have many elements contributing to the same node. It means that the contributions need to be summed up."
   ]
  },
  {
   "cell_type": "markdown",
   "metadata": {},
   "source": [
    "# Shape functions"
   ]
  },
  {
   "cell_type": "markdown",
   "metadata": {},
   "source": [
    "So far we didn't talk much about the shape functions. Those need to equal $1$ on the corresponding node and $0$ on another one. Given arbitrary coordinates of the triangle, we kind of need to come up with the new shape functions formulation for each new triangle. Instead, we will offer the basic form of the shape functions.\n",
    "\n",
    "Each triangle with coordinates of vertices $(x_0,y_0)$, $(x_1,y_1)$ and $(x_2,y_2)$ is transformed to the basis triangle with coordinates  $(0,0)$, $(1,0)$ and $(1,1)$. We call this transformation from $\\Omega_e$ to $\\Omega_{\\bar{e}}$.\n",
    "\n",
    "<img src=\"mapping.png\"/>"
   ]
  },
  {
   "cell_type": "markdown",
   "metadata": {},
   "source": [
    "Let's derive the transformation matrix:\n",
    "$$\n",
    "\\begin{pmatrix}\n",
    "0\\\\\n",
    "0\n",
    "\\end{pmatrix} = \n",
    "A \n",
    "\\begin{pmatrix}\n",
    "x_0\\\\\n",
    "y_0\\\\\n",
    "\\end{pmatrix} + B\n",
    "$$\n",
    "$$\n",
    "\\begin{pmatrix}\n",
    "1\\\\\n",
    "0\n",
    "\\end{pmatrix} = \n",
    "A \n",
    "\\begin{pmatrix}\n",
    "x_1\\\\\n",
    "y_1\\\\\n",
    "\\end{pmatrix} + B\n",
    "$$\n",
    "$$\n",
    "\\begin{pmatrix}\n",
    "0\\\\\n",
    "1\n",
    "\\end{pmatrix} = \n",
    "A \n",
    "\\begin{pmatrix}\n",
    "x_2\\\\\n",
    "y_2\\\\\n",
    "\\end{pmatrix} + B\n",
    "$$\n",
    "\n"
   ]
  },
  {
   "cell_type": "code",
   "execution_count": 2,
   "metadata": {},
   "outputs": [
    {
     "name": "stdout",
     "output_type": "stream",
     "text": [
      "Populating the interactive namespace from numpy and matplotlib\n"
     ]
    },
    {
     "name": "stderr",
     "output_type": "stream",
     "text": [
      "/home/shurik/anaconda3/lib/python3.6/site-packages/IPython/core/magics/pylab.py:160: UserWarning: pylab import has clobbered these variables: ['pylab']\n",
      "`%matplotlib` prevents importing * from pylab and numpy\n",
      "  \"\\n`%matplotlib` prevents importing * from pylab and numpy\"\n"
     ]
    }
   ],
   "source": [
    "import pylab\n",
    "%pylab inline\n",
    "import sympy"
   ]
  },
  {
   "cell_type": "code",
   "execution_count": 3,
   "metadata": {},
   "outputs": [],
   "source": [
    "x0,y0,x1,y1,x2,y2 = sympy.symbols('x0,y0,x1,y1,x2,y2')"
   ]
  },
  {
   "cell_type": "markdown",
   "metadata": {},
   "source": [
    "Matrix $A$ and vector $B$ represent the transformation:\n",
    "$$\n",
    "A = \n",
    "\\begin{pmatrix}\n",
    "a&b\\\\\n",
    "c&d\\\\\n",
    "\\end{pmatrix}\n",
    "$$\n",
    "$$\n",
    "B=\n",
    "\\begin{pmatrix}\n",
    "e\\\\\n",
    "f\n",
    "\\end{pmatrix}\n",
    "$$"
   ]
  },
  {
   "cell_type": "markdown",
   "metadata": {},
   "source": [
    "In terms of unknown things, i.e. $a$,$b$,$c$,$d$,$e$,$f$, we can write the following:\n",
    "$$\n",
    "\\begin{pmatrix}\n",
    "0\\\\\n",
    "0\\\\\n",
    "1\\\\\n",
    "0\\\\\n",
    "0\\\\\n",
    "1\n",
    "\\end{pmatrix} = \n",
    "\\begin{pmatrix}\n",
    "x_0&y_0&1&0&0&0\\\\\n",
    "0&0&0&x_0&y_0&1\\\\\n",
    "x_1&y_1&1&0&0&0\\\\\n",
    "0&0&0&x_1&y_1&1\\\\\n",
    "x_2&y_2&1&0&0&0\\\\\n",
    "0&0&0&x_2&y_2&1\\\\\n",
    "\\end{pmatrix}\n",
    "\\begin{pmatrix}\n",
    "a\\\\\n",
    "b\\\\\n",
    "e\\\\\n",
    "c\\\\\n",
    "d\\\\\n",
    "f\n",
    "\\end{pmatrix}\n",
    "$$"
   ]
  },
  {
   "cell_type": "code",
   "execution_count": 4,
   "metadata": {},
   "outputs": [],
   "source": [
    "a,b,c,d,e,f = sympy.symbols('a,b,c,d,e,f')\n",
    "system = sympy.Matrix(((x0,y0,1,0,0,0,0),(0,0,0,x0,y0,1,0),(x1,y1,1,0,0,0,1),(0,0,0,x1,y1,1,0),(x2,y2,1,0,0,0,0),(0,0,0,x2,y2,1,1)))"
   ]
  },
  {
   "cell_type": "code",
   "execution_count": 5,
   "metadata": {},
   "outputs": [
    {
     "data": {
      "text/plain": [
       "{a: (-y0 + y2)/(x0*y1 - x0*y2 - x1*y0 + x1*y2 + x2*y0 - x2*y1),\n",
       " b: (x0 - x2)/(x0*y1 - x0*y2 - x1*y0 + x1*y2 + x2*y0 - x2*y1),\n",
       " c: (y0 - y1)/(x0*y1 - x0*y2 - x1*y0 + x1*y2 + x2*y0 - x2*y1),\n",
       " d: (-x0 + x1)/(x0*y1 - x0*y2 - x1*y0 + x1*y2 + x2*y0 - x2*y1),\n",
       " e: (-x0*y2 + x2*y0)/(x0*y1 - x0*y2 - x1*y0 + x1*y2 + x2*y0 - x2*y1),\n",
       " f: (x0*y1 - x1*y0)/(x0*y1 - x0*y2 - x1*y0 + x1*y2 + x2*y0 - x2*y1)}"
      ]
     },
     "execution_count": 5,
     "metadata": {},
     "output_type": "execute_result"
    }
   ],
   "source": [
    "solution=sympy.solve_linear_system(system,a,b,e,c,d,f)\n",
    "solution"
   ]
  },
  {
   "cell_type": "markdown",
   "metadata": {},
   "source": [
    "Let's check if we obtained equations right:"
   ]
  },
  {
   "cell_type": "code",
   "execution_count": 6,
   "metadata": {},
   "outputs": [
    {
     "name": "stdout",
     "output_type": "stream",
     "text": [
      "The first point =  0 0\n",
      "The second point =  1 0\n",
      "The third point =  0 1\n"
     ]
    }
   ],
   "source": [
    "print(\"The first point = \",sympy.simplify(solution[a]*x0+solution[b]*y0+solution[e]),sympy.simplify(solution[c]*x0+solution[d]*y0+solution[f]))\n",
    "print(\"The second point = \",sympy.simplify(solution[a]*x1+solution[b]*y1+solution[e]),sympy.simplify(solution[c]*x1+solution[d]*y1+solution[f]))\n",
    "print(\"The third point = \",sympy.simplify(solution[a]*x2+solution[b]*y2+solution[e]),sympy.simplify(solution[c]*x2+solution[d]*y2+solution[f]))"
   ]
  },
  {
   "cell_type": "markdown",
   "metadata": {},
   "source": [
    "Therefore the transformation is as follows:\n",
    "$$\n",
    "\\begin{aligned}\n",
    "&s =\\frac{-y_0 + y_2}{2 A} x + \\frac{x_0 - x_2}{2 A} y + \\frac{-x_0 y_2 + x_2 y_0}{2 A}\\\\\n",
    "&t = \\frac{y_0 - y_1}{2 A} x + \\frac{-x_0 + x_1}{2 A} y + \\frac{x_0 y_1 - x_1 y_0}{2 A}\n",
    "\\end{aligned}\n",
    "$$\n",
    "where $2 A = x_0 y_1 - x_0 y_2 - x_1 y_0 + x_1 y_2 + x_2 y_0 - x_2 y_1$ is double area of the original triangle. "
   ]
  },
  {
   "cell_type": "markdown",
   "metadata": {},
   "source": [
    "Now let's represent the new variables' derivatives through the old ones:\n",
    "$$\n",
    "\\begin{aligned}\n",
    "ds =\\frac{-y_0 + y_2}{2 A} dx + \\frac{x_0 - x_2}{2 A} dy \\\\\n",
    "dt = \\frac{y_0 - y_1}{2 A} dx + \\frac{-x_0 + x_1}{2 A} dy\n",
    "\\end{aligned}\n",
    "$$\n",
    "Basically the fractions become:\n",
    "$$\n",
    "\\begin{pmatrix}\n",
    "ds\\\\\n",
    "dt\n",
    "\\end{pmatrix}=\n",
    "J\n",
    "\\begin{pmatrix}\n",
    "dx\\\\\n",
    "dy\n",
    "\\end{pmatrix}\n",
    "$$\n",
    "where the Jacobian is represented as:\n",
    "$$\n",
    "J=\n",
    "\\frac{1}{2A}\\begin{pmatrix}\n",
    "-y_0 + y_2 & x_0 - x_2 \\\\\n",
    "y_0 - y_1 & -x_0 + x_1 \n",
    "\\end{pmatrix}\n",
    "$$"
   ]
  },
  {
   "cell_type": "code",
   "execution_count": 7,
   "metadata": {},
   "outputs": [],
   "source": [
    "area, jacobian = sympy.symbols('area,jacobian')\n",
    "area = (x0*y1 - x0*y2 - x1*y0 + x1*y2 + x2*y0 - x2*y1)/2\n",
    "jacobian = 1/(2*area) * sympy.Matrix(((y2-y0,x0-x2),(y0-y1,-x0+x1)))"
   ]
  },
  {
   "cell_type": "code",
   "execution_count": 8,
   "metadata": {},
   "outputs": [
    {
     "data": {
      "text/plain": [
       "Matrix([\n",
       "[-x0 + x1, -x0 + x2],\n",
       "[-y0 + y1, -y0 + y2]])"
      ]
     },
     "execution_count": 8,
     "metadata": {},
     "output_type": "execute_result"
    }
   ],
   "source": [
    "inv_jacobian=sympy.simplify(jacobian.inv())\n",
    "inv_jacobian"
   ]
  },
  {
   "cell_type": "code",
   "execution_count": 9,
   "metadata": {},
   "outputs": [
    {
     "data": {
      "text/plain": [
       "(x0 - x1)*(y0 - y2) - (x0 - x2)*(y0 - y1)"
      ]
     },
     "execution_count": 9,
     "metadata": {},
     "output_type": "execute_result"
    }
   ],
   "source": [
    "sympy.simplify(inv_jacobian.det())"
   ]
  },
  {
   "cell_type": "markdown",
   "metadata": {},
   "source": [
    "Or in other words:\n",
    "$$\n",
    "\\begin{pmatrix}\n",
    "dx\\\\\n",
    "dy\n",
    "\\end{pmatrix} = J^{-1}\n",
    "\\begin{pmatrix}\n",
    "ds\\\\\n",
    "dt\n",
    "\\end{pmatrix}\n",
    "$$"
   ]
  },
  {
   "cell_type": "markdown",
   "metadata": {},
   "source": [
    "Now we need to estimate certain integrals that are involved in mass and stiffness matrix:\n",
    "$$\n",
    "\\int_{\\Omega_e}{\\phi_k^e(x,y)\\phi_j^e(x,y) dx dy} = \\int_{\\Omega_\\bar{e}}{\\phi_k^\\bar{e}(s,t)\\phi_j^\\bar{e}(s,t) |J^{-1}| ds dt}\n",
    "$$"
   ]
  },
  {
   "cell_type": "markdown",
   "metadata": {},
   "source": [
    "As far as we are working in the linear  space the Jacobian is a constant depending only on the coordinates of nodes in the original space, so we can take it out of the integral:\n",
    "$$\n",
    "\\int_{\\Omega_\\bar{e}}{\\phi_k^\\bar{e}(s,t)\\phi_j^\\bar{e}(s,t) |J^{-1}| ds dt} = |J^{-1}| \\int_{\\Omega_\\bar{e}}{\\phi_k^\\bar{e}(s,t)\\phi_j^\\bar{e}(s,t)  ds dt} \n",
    "$$"
   ]
  },
  {
   "cell_type": "markdown",
   "metadata": {},
   "source": [
    "It's easy to show that the shape functions in the linear space are the following:\n",
    "$$\n",
    "\\begin{aligned}\n",
    "&\\phi_0(s,t) = 1-s-t\\\\\n",
    "&\\phi_1(s,t) = s\\\\\n",
    "&\\phi_2(s,t) = t\n",
    "\\end{aligned}\n",
    "$$"
   ]
  },
  {
   "cell_type": "markdown",
   "metadata": {},
   "source": [
    "The integrals then can be calculated as follows:\n",
    "$$\n",
    "\\int_{\\Omega^{\\bar{e}}}{\n",
    "\\begin{pmatrix}\n",
    "\\phi_0 & \\phi_1 & \\phi_2\n",
    "\\end{pmatrix}\n",
    "\\begin{pmatrix}\n",
    "\\phi_0\\\\\n",
    "\\phi_1\\\\\n",
    "\\phi_2\n",
    "\\end{pmatrix} \n",
    "ds dt\n",
    "}=\n",
    "\\frac{A}{12}\n",
    "\\begin{pmatrix}\n",
    "2 & 1 & 1\\\\\n",
    "1 & 2 & 1\\\\\n",
    "1 & 1 & 2\n",
    "\\end{pmatrix}\n",
    "$$"
   ]
  },
  {
   "cell_type": "markdown",
   "metadata": {},
   "source": [
    "Now let's derive the stiffness matrix. First of all according to the chain rule the following can be obtained:\n",
    "$$\n",
    "\\begin{aligned}\n",
    "&\\partial_x \\phi_i(x,y) = \\partial_s \\phi_i(s,t) \\partial_x s + \\partial_t \\phi_i(s,t) \\partial_x t\\\\\n",
    "&\\partial_y \\phi_i(x,y) = \\partial_s \\phi_i(s,t) \\partial_y s + \\partial_t \\phi_i(s,t) \\partial_y t\\\\\n",
    "\\end{aligned}\n",
    "$$"
   ]
  },
  {
   "cell_type": "markdown",
   "metadata": {},
   "source": [
    "Substituting expressions for $s$ and $t$ the equations become:\n",
    "$$\n",
    "\\begin{aligned}\n",
    "&\\partial_x \\phi_i(x,y) = \\partial_s \\phi_i(s,t) \\frac{-y_0 + y_2}{2 A} + \\partial_t \\phi_i(s,t) \\frac{y_0-y_1}{2 A}\\\\\n",
    "&\\partial_y \\phi_i(x,y) = \\partial_s \\phi_i(s,t) \\frac{x_0-x_2}{2 A} + \\partial_t \\phi_i(s,t) \\frac{-x_0 + x_1}{2 A}\n",
    "\\end{aligned}\n",
    "$$"
   ]
  },
  {
   "cell_type": "markdown",
   "metadata": {},
   "source": [
    "Therefore, the derivatives for the shape functions are the following:\n",
    "$$\n",
    "\\begin{aligned}\n",
    "&\\partial_x \\phi_0(x,y) = -\\frac{-y_0+y_2}{2 A} - \\frac{y_0 - y_1}{2 A} = \\frac{y_1 - y_2}{2 A} && \\partial_y \\phi_0(x,y) =-\\frac{x_0 - x_2}{2 A} - \\frac{-x_0 + x_1}{2 A} = \\frac{x_2 - x_1}{2 A} \\\\\n",
    "&\\partial_x \\phi_1(x,y) = \\frac{-y_0 +y_2}{2 A} && \\partial_y \\phi_1(x,y) = \\frac{x_0 - x_2}{2 A}\\\\\n",
    "&\\partial_x \\phi_2(x,y) = \\frac{y_0-y_1}{2 A}&& \\partial_y \\phi_2(x,y) = \\frac{-x_0+x_1}{2 A} \\\\\n",
    "\\end{aligned}\n",
    "$$"
   ]
  },
  {
   "cell_type": "markdown",
   "metadata": {},
   "source": [
    "Therefore the stiffness matrix will be the following:\n",
    "$$\n",
    "\\mathbf{A} =\\int_{\\Omega_e}{ \n",
    "\\begin{pmatrix}\n",
    "\\partial_x \\phi_0 \\partial_x \\phi_0 + \\partial_y \\phi_0 \\partial_y \\phi_0 & \\partial_x \\phi_0 \\partial_x \\phi_1 + \\partial_y \\phi_0 \\partial_y \\phi_1 & \\partial_x \\phi_0 \\partial_x \\phi_2 + \\partial_y \\phi_0 \\partial_y \\phi_2\\\\\n",
    "\\partial_x \\phi_1 \\partial_x \\phi_0 + \\partial_y \\phi_1 \\partial_y \\phi_0 & \\partial_x \\phi_1 \\partial_x \\phi_1 + \\partial_y \\phi_1 \\partial_y \\phi_1 & \\partial_x \\phi_1 \\partial_x \\phi_2 + \\partial_y \\phi_1 \\partial_y \\phi_2\\\\\n",
    "\\partial_x \\phi_2 \\partial_x \\phi_0 + \\partial_y \\phi_2 \\partial_y \\phi_0 & \\partial_x \\phi_2 \\partial_x \\phi_1 + \\partial_y \\phi_2 \\partial_y \\phi_1 & \\partial_x \\phi_2 \\partial_x \\phi_2 + \\partial_y \\phi_2 \\partial_y \\phi_2\\\\\n",
    "\\end{pmatrix}\n",
    "dV}\n",
    "$$"
   ]
  },
  {
   "cell_type": "markdown",
   "metadata": {},
   "source": [
    "The matrix $\\mathbf{A}$ is therefore the following:\n",
    "$$\n",
    "\\mathbf{A} = \n",
    "\\begin{pmatrix}\n",
    "\\frac{1}{4 A}\\Bigl((y_2-y_1)^2 + (x_2 - x_1)^2\\Bigr)& \\frac{1}{4 A} \\Bigl((y_1-y_2)(-y_0+y_2) + (x_2-x_1)(x_0-x_2)\\Bigr)& \n",
    "\\frac{1}{4 A}\\Bigl((y_1-y_2)(y_0-y_1)+(x_2-x_1)(-x_0+x_1) \\Bigr)\\\\\n",
    "\\frac{1}{4 A} \\Bigl((y_1-y_2)(-y_0+y_2) + (x_2-x_1)(x_0-x_2)\\Bigr)& \\frac{1}{4 A}\\Bigl((y_2-y_0)^2 + (x_2-x_0)^2\\Bigr)& \\frac{1}{4 A} \\Bigl((-y_0+y_2)(y_0-y_1)+(x_0-x_2)(-x_0+x_1) \\Bigr)\\\\\n",
    "\\frac{1}{4 A}\\Bigl((y_1-y_2)(y_0-y_1)+(x_2-x_1)(-x_0+x_1) \\Bigr)& \\frac{1}{4 A} \\Bigl((-y_0+y_2)(y_0-y_1)+(x_0-x_2)(-x_0+x_1) \\Bigr) & \\frac{1}{4 A}\\Bigl((y_1-y_0)^2+(x_1-x_0)^2\\Bigr) \n",
    "\\end{pmatrix}\n",
    "$$"
   ]
  },
  {
   "cell_type": "markdown",
   "metadata": {},
   "source": [
    "# Spatial discretization"
   ]
  },
  {
   "cell_type": "markdown",
   "metadata": {},
   "source": [
    "Let us generate the triangulation for the square box with the height $H$ and length $L$. We will first generate certain number of points and then perform Delaunay triangulation. "
   ]
  },
  {
   "cell_type": "code",
   "execution_count": 10,
   "metadata": {},
   "outputs": [],
   "source": [
    "L = 1.0\n",
    "H = 2.0\n",
    "NX = 10\n",
    "NY = 20\n",
    "NPOINTS = 200\n",
    "NDIRICHLET = 10\n",
    "NNEUMANN = 10"
   ]
  },
  {
   "cell_type": "code",
   "execution_count": 11,
   "metadata": {},
   "outputs": [
    {
     "name": "stdout",
     "output_type": "stream",
     "text": [
      "[[0.         0.        ]\n",
      " [0.         1.29227264]\n",
      " [0.         1.12653402]\n",
      " [0.         0.16800589]\n",
      " [0.         0.78194209]\n",
      " [0.         1.99689411]\n",
      " [0.         1.21760793]\n",
      " [0.         1.77816267]\n",
      " [0.         1.27846463]\n",
      " [0.         2.        ]\n",
      " [1.         0.        ]\n",
      " [1.         1.74240542]\n",
      " [1.         0.81096143]\n",
      " [1.         1.37641874]\n",
      " [1.         1.50633131]\n",
      " [1.         0.9625151 ]\n",
      " [1.         0.39607578]\n",
      " [1.         0.89533763]\n",
      " [1.         1.93635931]\n",
      " [1.         2.        ]\n",
      " [0.38490252 0.        ]\n",
      " [0.78447629 0.        ]\n",
      " [0.07385441 0.        ]\n",
      " [0.02656183 0.        ]\n",
      " [0.43753388 0.        ]\n",
      " [0.65660928 0.        ]\n",
      " [0.19053395 0.        ]\n",
      " [0.03926295 0.        ]\n",
      " [0.78780015 0.        ]\n",
      " [0.38493878 0.        ]\n",
      " [0.61244495 2.        ]\n",
      " [0.73329295 2.        ]\n",
      " [0.6114373  2.        ]\n",
      " [0.93928751 2.        ]\n",
      " [0.9457669  2.        ]\n",
      " [0.78536291 2.        ]\n",
      " [0.70539746 2.        ]\n",
      " [0.069959   2.        ]\n",
      " [0.13723606 2.        ]\n",
      " [0.73201485 2.        ]\n",
      " [0.73998846 1.01401287]\n",
      " [0.40394105 1.86728575]\n",
      " [0.99961952 0.13730126]\n",
      " [0.34624467 1.28267522]\n",
      " [0.53830484 1.30380378]\n",
      " [0.9963518  1.87637421]\n",
      " [0.66521434 1.9475481 ]\n",
      " [0.81913914 1.56724218]\n",
      " [0.76638677 1.5977086 ]\n",
      " [0.70520801 0.61763778]\n",
      " [0.4847288  1.82705783]\n",
      " [0.07593659 1.7837725 ]\n",
      " [0.10494843 0.1572859 ]\n",
      " [0.70552856 1.97420315]\n",
      " [0.76250718 1.27758451]\n",
      " [0.7609921  0.85894131]\n",
      " [0.48792956 1.61676365]\n",
      " [0.5162532  1.04033502]\n",
      " [0.36735782 1.11286297]\n",
      " [0.6482159  1.13199896]\n",
      " [0.51332676 0.27408901]\n",
      " [0.12319065 1.10784824]\n",
      " [0.64253312 1.52448325]\n",
      " [0.53549781 1.15634553]\n",
      " [0.28613034 1.78087734]\n",
      " [0.90828798 1.47841682]\n",
      " [0.87944821 0.83456486]\n",
      " [0.47363517 0.76835739]\n",
      " [0.66479892 1.63204806]\n",
      " [0.82283476 1.28216377]\n",
      " [0.69133364 1.8823182 ]\n",
      " [0.45998658 1.78687513]\n",
      " [0.97730233 1.36751837]\n",
      " [0.32058921 0.51498737]\n",
      " [0.496804   1.31756792]\n",
      " [0.88451672 0.21378579]\n",
      " [0.09462093 0.91032489]\n",
      " [0.44557401 0.74942505]\n",
      " [0.79646505 1.91743645]\n",
      " [0.96303893 0.51900206]\n",
      " [0.162611   1.69827163]\n",
      " [0.84630405 1.27600626]\n",
      " [0.94365877 1.57020648]\n",
      " [0.95438316 0.76724303]\n",
      " [0.96314516 1.23619096]\n",
      " [0.04777529 0.4128427 ]\n",
      " [0.26317484 0.40838548]\n",
      " [0.96888214 1.43033249]\n",
      " [0.79750562 0.22609812]\n",
      " [0.983259   0.06616969]\n",
      " [0.74021991 1.81741861]\n",
      " [0.73830439 1.66121689]\n",
      " [0.69930438 1.12307572]\n",
      " [0.72865857 0.83672913]\n",
      " [0.84336655 0.75190317]\n",
      " [0.52702675 0.04242552]\n",
      " [0.4391695  0.25235197]\n",
      " [0.14984903 1.75368571]\n",
      " [0.90130405 0.55165022]\n",
      " [0.86109343 1.15670836]\n",
      " [0.12812086 1.05905196]\n",
      " [0.48550951 1.68662916]\n",
      " [0.57573173 0.38421368]\n",
      " [0.40903174 0.37767762]\n",
      " [0.99425582 1.99299189]\n",
      " [0.99135921 1.92769382]\n",
      " [0.84612012 0.52227197]\n",
      " [0.16048004 0.3152967 ]\n",
      " [0.39471887 1.47635095]\n",
      " [0.64694509 1.94608639]\n",
      " [0.75461599 0.02005883]\n",
      " [0.24898928 0.86749468]\n",
      " [0.14853081 1.83867219]\n",
      " [0.21894085 1.67018909]\n",
      " [0.53066549 1.30206671]\n",
      " [0.834097   0.72600973]\n",
      " [0.38621843 1.06472873]\n",
      " [0.77626134 0.99439826]\n",
      " [0.66274278 0.87890295]\n",
      " [0.41859853 0.78044795]\n",
      " [0.53150205 1.58011425]\n",
      " [0.19280584 0.12523392]\n",
      " [0.6506384  1.99825707]\n",
      " [0.01724146 0.19754923]\n",
      " [0.67766263 1.22594507]\n",
      " [0.96840026 1.64398255]\n",
      " [0.08903153 1.91091897]\n",
      " [0.34312777 0.81369817]\n",
      " [0.19603774 0.95977287]\n",
      " [0.36118503 1.73253537]\n",
      " [0.32141555 0.95767589]\n",
      " [0.97511457 1.24213674]\n",
      " [0.54608861 0.09120105]\n",
      " [0.05991176 0.57835173]\n",
      " [0.11448486 1.99420025]\n",
      " [0.81757945 1.40871745]\n",
      " [0.39967363 0.20427486]\n",
      " [0.1461622  0.56857793]\n",
      " [0.78436085 0.32432729]\n",
      " [0.06599311 1.07060546]\n",
      " [0.28423585 0.25513998]\n",
      " [0.25874077 1.63608795]\n",
      " [0.47687636 1.95283898]\n",
      " [0.47513678 1.82649362]\n",
      " [0.58112652 1.15397096]\n",
      " [0.90315003 1.60825473]\n",
      " [0.88726779 0.80785272]\n",
      " [0.97166153 0.21278282]\n",
      " [0.28813021 1.25042828]\n",
      " [0.72381179 0.68886031]\n",
      " [0.05575093 1.75104499]\n",
      " [0.32989979 1.5360285 ]\n",
      " [0.88214526 0.65412445]\n",
      " [0.14420034 1.64025845]\n",
      " [0.33671418 0.64160826]\n",
      " [0.21607168 0.07210703]\n",
      " [0.32998247 0.21069222]\n",
      " [0.81254405 0.7917395 ]\n",
      " [0.93738849 0.98055389]\n",
      " [0.10429609 1.55871433]\n",
      " [0.36799244 0.61870943]\n",
      " [0.84658095 1.45027599]\n",
      " [0.3580077  1.378965  ]\n",
      " [0.63859656 1.59508997]\n",
      " [0.52476616 1.27138131]\n",
      " [0.42703892 0.13148298]\n",
      " [0.33767649 1.86735026]\n",
      " [0.69236322 1.94308839]\n",
      " [0.47743423 0.70964148]\n",
      " [0.84878109 0.55185845]\n",
      " [0.80656503 1.82989167]\n",
      " [0.29631965 1.58515226]\n",
      " [0.16426163 0.66173452]\n",
      " [0.51231069 0.20525541]\n",
      " [0.25098344 0.05077786]\n",
      " [0.70786935 1.92780794]\n",
      " [0.89189235 0.09905276]\n",
      " [0.43712077 0.65092014]\n",
      " [0.50236267 1.74933641]\n",
      " [0.91605158 0.98455473]\n",
      " [0.78191873 0.29177976]\n",
      " [0.09174108 1.30768543]\n",
      " [0.67298171 0.5400572 ]\n",
      " [0.52358201 0.08019796]\n",
      " [0.56221101 0.36157665]\n",
      " [0.74305193 1.89884771]\n",
      " [0.65437608 0.64972687]\n",
      " [0.86509866 1.41489256]\n",
      " [0.37914042 0.88188415]\n",
      " [0.54511167 1.85177997]\n",
      " [0.59364055 1.89577482]\n",
      " [0.1917275  0.44677623]\n",
      " [0.21507436 1.59294936]\n",
      " [0.05312524 0.39274881]\n",
      " [0.45739197 0.66774389]\n",
      " [0.71439909 0.31069607]\n",
      " [0.71034496 0.64836179]\n",
      " [0.659509   0.67928382]\n",
      " [0.10287049 0.10827343]\n",
      " [0.70878123 0.1214893 ]]\n"
     ]
    }
   ],
   "source": [
    "import random\n",
    "import numpy\n",
    "points = numpy.zeros((NPOINTS,2))\n",
    "points[0,0] = 0.0\n",
    "points[0,1] = 0.0\n",
    "points[NDIRICHLET,0] = L\n",
    "points[NDIRICHLET,1] = 0.0\n",
    "for i in range(1,NDIRICHLET-1):\n",
    "    points[i,0] = 0.0\n",
    "    points[i,1] = random.random() * H\n",
    "    points[i+NDIRICHLET,0] = L\n",
    "    points[i+NDIRICHLET,1] = random.random() * H\n",
    "points[NDIRICHLET-1,0] = 0.0\n",
    "points[NDIRICHLET-1,1] = H\n",
    "points[2*NDIRICHLET-1,0] = L\n",
    "points[2*NDIRICHLET-1,1] = H\n",
    "\n",
    "for i in range(NNEUMANN):\n",
    "    points[2*NDIRICHLET+i,0] = random.random() * L\n",
    "    points[2*NDIRICHLET+i,1] = 0\n",
    "    points[2*NDIRICHLET+NNEUMANN+i,0] = random.random() * L\n",
    "    points[2*NDIRICHLET+NNEUMANN+i,1] = H\n",
    "    \n",
    "for i in range(2*NDIRICHLET+2*NNEUMANN,NPOINTS):\n",
    "    points[i,0] = random.random() * L\n",
    "    points[i,1] = random.random() * H\n",
    "print(points)"
   ]
  },
  {
   "cell_type": "code",
   "execution_count": 12,
   "metadata": {},
   "outputs": [
    {
     "data": {
      "text/plain": [
       "[<matplotlib.lines.Line2D at 0x7f4721dbb160>]"
      ]
     },
     "execution_count": 12,
     "metadata": {},
     "output_type": "execute_result"
    },
    {
     "data": {
      "image/png": "[encoded data removed]",
      "text/plain": [
       "<matplotlib.figure.Figure at 0x7f4721dbb748>"
      ]
     },
     "metadata": {},
     "output_type": "display_data"
    }
   ],
   "source": [
    "from scipy.spatial import Delaunay\n",
    "\n",
    "tri = Delaunay(points)\n",
    "\n",
    "pylab.figure(figsize=(3,6))\n",
    "pylab.triplot(points[:,0], points[:,1], tri.simplices)\n",
    "pylab.plot(points[:,0], points[:,1], 'o')"
   ]
  },
  {
   "cell_type": "markdown",
   "metadata": {},
   "source": [
    "The problem we would like to solve is the following:\n",
    "$$\n",
    "\\rho C \\partial_t T = k \\Delta T\\text{ with } T(0, y) = 1, T(L,y) = 0, \\partial_y T(x,y=0,H) = 0\n",
    "$$"
   ]
  },
  {
   "cell_type": "markdown",
   "metadata": {},
   "source": [
    "Assuming that $\\rho = C = k = 1$, the solution for the one-dimensional equation is the following:\n",
    "$$\n",
    "\\phi(x,t) = \\frac{L-x}{L}-\\sum_{k=1}^{\\infty}{\\frac{2 L}{k \\pi}\\sin\\bigl(\\frac{k \\pi}{L} x\\bigr)\\exp\\bigl(-\\frac{\\pi^2 k^2}{L^2} t\\bigr)}\n",
    "$$"
   ]
  },
  {
   "cell_type": "code",
   "execution_count": 17,
   "metadata": {},
   "outputs": [],
   "source": [
    "mass = numpy.zeros((NPOINTS,NPOINTS))\n",
    "stiffness = numpy.zeros((NPOINTS,NPOINTS))\n",
    "phi  = numpy.zeros((NPOINTS,))"
   ]
  },
  {
   "cell_type": "code",
   "execution_count": 18,
   "metadata": {},
   "outputs": [],
   "source": [
    "# Define first the Dirichlet boundary conditions\n",
    "for i in range(NDIRICHLET):\n",
    "    mass[i,i] = 1\n",
    "    mass[i+NDIRICHLET,i+NDIRICHLET] = 1\n",
    "    phi[i]=1\n",
    "    phi[i+NDIRICHLET]=0\n",
    "\n",
    "# Let's go through all the triangles\n",
    "for triangle in tri.simplices:\n",
    "    vertex0 = triangle[0]\n",
    "    vertex1 = triangle[1]\n",
    "    vertex2 = triangle[2]\n",
    "    area = 0.5 * ( points[vertex0,0]*(points[vertex1,1]-points[vertex2,1]) \n",
    "                  -points[vertex1,0]*(points[vertex0,1]-points[vertex2,1])\n",
    "                  +points[vertex2,0]*(points[vertex0,1]-points[vertex1,1]))\n",
    "    for vertex0 in triangle:\n",
    "        if vertex0 < 2*NDIRICHLET:\n",
    "            pass\n",
    "        triangle2 = triangle.tolist()\n",
    "        triangle2.remove(vertex0)\n",
    "        vertex1 = triangle2[0]\n",
    "        vertex2 = triangle2[1]\n",
    "        mass[vertex0,vertex0] += area/12.0 * 2.0\n",
    "        mass[vertex0,vertex1] += area/12.0\n",
    "        mass[vertex0,vertex2] += area/12.0\n",
    "        stiffness[vertex0,vertex0] += 0.25/area * ( (points[vertex2,0]-points[vertex1,0])**2 \n",
    "                                                   +(points[vertex2,1]-points[vertex1,1])**2)\n",
    "        stiffness[vertex0,vertex1] += 0.25/area * ( (points[vertex2,0]-points[vertex1,0])*(points[vertex0,0]-points[vertex2,0]) \n",
    "                                                   +(points[vertex2,1]-points[vertex1,1])*(points[vertex0,1]-points[vertex2,1]))\n",
    "        stiffness[vertex0,vertex0] += 0.25/area * ( (points[vertex2,0]-points[vertex1,0])*(-points[vertex0,0]+points[vertex1,0]) \n",
    "                                                   +(points[vertex2,1]-points[vertex1,1])*(-points[vertex0,1]+points[vertex2,1])) "
   ]
  },
  {
   "cell_type": "code",
   "execution_count": null,
   "metadata": {},
   "outputs": [],
   "source": []
  }
 ],
 "metadata": {
  "kernelspec": {
   "display_name": "Python 3",
   "language": "python",
   "name": "python3"
  },
  "language_info": {
   "codemirror_mode": {
    "name": "ipython",
    "version": 3
   },
   "file_extension": ".py",
   "mimetype": "text/x-python",
   "name": "python",
   "nbconvert_exporter": "python",
   "pygments_lexer": "ipython3",
   "version": "3.6.4"
  }
 },
 "nbformat": 4,
 "nbformat_minor": 2
}
