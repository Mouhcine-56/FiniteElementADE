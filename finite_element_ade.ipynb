{
 "cells": [
  {
   "cell_type": "markdown",
   "metadata": {},
   "source": [
    "# Finite Element Advection Diffusion Equation"
   ]
  },
  {
   "cell_type": "markdown",
   "metadata": {},
   "source": [
    "## Weak formulation"
   ]
  },
  {
   "cell_type": "markdown",
   "metadata": {},
   "source": [
    "We will start with the 2D pure conduction equation:\n",
    "$$\\rho c \\frac{\\partial T}{\\partial t} = \\frac{\\partial}{\\partial x}\\biggl(k \\frac{\\partial T}{\\partial x}\\biggr) + \\frac{\\partial}{\\partial y}\\biggl(k \\frac{\\partial T}{\\partial y}\\biggr)$$\n",
    "where $k$ is the material conductivity, $\\rho$ is the material density, $c$ is the material capacitance.  "
   ]
  },
  {
   "cell_type": "markdown",
   "metadata": {},
   "source": [
    "Let's multiply each side of the equation on the test function (shape function) $\\phi$ and integrate it over the domain volume $\\Omega$):\n",
    "$$\n",
    "\\int_{\\Omega}{\\rho c \\frac{\\partial T}{\\partial t} \\phi_e dx dy} = \\int_{\\Omega}{\\frac{\\partial}{\\partial x}\\biggl(k \\frac{\\partial{T}}{\\partial x} \\biggr)\\phi_e dx dy} + \\int_{\\Omega}{\\frac{\\partial}{\\partial y}\\biggl(k \\frac{\\partial{T}}{\\partial y}\\biggr) \\phi_e dx dy} \n",
    "$$"
   ]
  },
  {
   "cell_type": "markdown",
   "metadata": {},
   "source": [
    "We need to use Gauss-Ostrogradsky theorem which is represented as:\n",
    "$$\\int_{\\Omega}{\\mathbf{\\nabla}\\cdot \\mathbf{F} dV} = \\int_{\\partial\\Omega}{\\mathbf{F}\\cdot\\mathbf{n}} dS$$\n",
    "\n",
    "Notice also, that the following can be represented as:\n",
    "$$\\mathbf{\\nabla}\\cdot \\phi \\mathbf{\\nabla} G = \\phi \\mathbf{\\nabla}\\cdot\\mathbf{\\nabla G} + \\mathbf{\\nabla}\\phi\\cdot\\mathbf{\\nabla}G$$\n"
   ]
  },
  {
   "cell_type": "markdown",
   "metadata": {},
   "source": [
    "Assuming that $k$, $\\rho$ and $c$ are all constants and $G=k T$, the following is obtained:\n",
    "$$\n",
    "\\int_{\\Omega}{\\rho c \\partial_t T \\phi dV} =\\int_{\\partial \\Omega}{k\\partial_n T \\phi dS} - \\int_{\\Omega}{\\biggl(k \\partial_x T \\partial_x \\phi + k \\partial_y T \\partial_y \\phi\\biggr) dV}\n",
    "$$"
   ]
  },
  {
   "cell_type": "markdown",
   "metadata": {},
   "source": [
    "We now need to take integrals over the boundary. For the Newmann boundary condition there is a prescribed flux boundary condition: $k\\partial_n T|_{\\partial \\Omega_N} = g_N$. Whenever on boundary we have a prescribed Dirichlet boundary condition, i.e. $T|_{\\partial \\Omega_D} = g_D$, to avoid calculating the integral over the boundary $\\int_{\\partial \\Omega}{k\\partial_n T\\phi dS}$ for Dirichlet boundary condition we ask a test function to have a zero value on the boudnary $\\phi|_{\\partial \\Omega_D} = 0$."
   ]
  },
  {
   "cell_type": "markdown",
   "metadata": {},
   "source": [
    "Therefore the following integral can be calculated as follows:\n",
    "$$\n",
    "\\int_{\\Omega}{\\rho c \\partial_t T \\phi dV} =\\int_{\\partial \\Omega_N}{g_N \\phi dS} - \\int_{\\Omega}{\\biggl(k \\partial_x T \\partial_x \\phi + k \\partial_y T \\partial_y \\phi\\biggr) dV}\n",
    "$$"
   ]
  },
  {
   "cell_type": "markdown",
   "metadata": {},
   "source": [
    "Now we approximate the test function $\\phi$ from the space of the first order polynomials defined in the whole domain. We also approximate the temperature function as the summation through all possible first order polynomials. However, it's almost impossible to work with all possible first order polynomials in space and represent the temperature through their summation ($\\sum_{i=0}^{\\infty}{a_i x + b_i y + c_i}$). \n",
    "\n",
    "Instead, we introduce the discretization of space into certain geometrical features, say the domain $\\Omega$ is subdivided onto $M$ features (triangles in our case) and have $N$ nodes. \n",
    "\n",
    "In each geometrical feature $ e = 1..M$ the solution is represented through one of polynomials. Assuming that we have a basis for polynomials in this geometrical feature, one can write:  \n",
    "$$\n",
    "T_e = \\sum_{j=1}^{d}{a_j \\phi^e_j(x,y)},\n",
    "$$\n",
    "where $a_j$ are the weights, $d$ is the number of coefficients, $\\phi_j^e$ is the linear shape function corresponding to the node $j$ of the element $e$. \n",
    "\n",
    "A few things to note in triangle we have only three points that will be searched for in the final solution, so we will have only three basis functions inside the triangle.  At this particular point nothing stops us to assume that the shape function takes $1$ at node itself and $0$ at any other nodes. So the profile of temperatures inside the geometrical feature $e$ can be represented through its nodal values:\n",
    "$$\n",
    "T_e = \\sum_{j=1}^{d}{T_j^e \\phi^e_j(x,y)},\n",
    "$$\n",
    "where $\\phi^e_j(x_j,y_j) = 1$ and $\\phi^e_j(x_k,y_k)=0$ for $j\\neq k$ ($x_j,y_j$ are coordinates of the node $j$). Also, outside the element $e$ this shape function equals zero. Notice, that each shape function is represented as $\\phi^e_j(x,y) = a_j x + b_j y +c_j$."
   ]
  },
  {
   "cell_type": "markdown",
   "metadata": {},
   "source": [
    "Now the big integral (assuming that the basis function has non-zero value only inside the corresponding triangle), then the whole integral is taken as summation over the geometrical features. If we take the test function to be a shape function, then the integral with this shape function $\\phi^e_j$ will be taken only inside the corresponding geometrical feature:\n",
    "$$\n",
    "\\int_{\\Omega^e}{\\rho c \\partial_t \\sum_k{T_k^e \\phi^e_k} \\phi^e_j dV}=\\int_{\\partial\\Omega_N^e}{g^e_N \\phi_j^e dS} - \\int_{\\Omega^e}{\\biggl(k\\partial_x \\phi_j^e \\sum_k{T_k^e \\partial_x \\phi_k^e + k\\partial_y \\phi_j^e \\sum_k{T_k^e \\partial_y \\phi_k^e}}\\biggr)}\n",
    "$$"
   ]
  },
  {
   "cell_type": "markdown",
   "metadata": {},
   "source": [
    "We discretize in time using the implicit discretization:\n",
    "$$\n",
    "\\partial_t T_k^e = \\frac{{T_k^e}_{n+1}-{T_k^e}_n}{t_{n+1}-t_n}\n",
    "$$\n"
   ]
  },
  {
   "cell_type": "markdown",
   "metadata": {},
   "source": [
    "Eventually we will have the linear system involving the nodal temperatures. Let us see derive this matrix:\n",
    "$$\n",
    "\\int_{\\Omega^e}{\\frac{\\rho c}{t_{n+1}-t_n}  \\sum_k{\\bigl({T_k^e}_{n+1}-{T_k^e}_n\\bigr) \\phi^e_k} \\phi^e_j dV}=\\int_{\\partial\\Omega_N^e}{{g^e_N}_{n+1} \\phi_j^e dS} - \\int_{\\Omega^e}{\\biggl(k\\partial_x \\phi_j^e \\sum_k{{T_k^e}_{n+1} \\partial_x \\phi_k^e + k\\partial_y \\phi_j^e \\sum_k{{T_k^e}_{n+1} \\partial_y \\phi_k^e}}\\biggr)}\n",
    "$$"
   ]
  },
  {
   "cell_type": "markdown",
   "metadata": {},
   "source": [
    "For each element we have the following coefficients:\n",
    "$$\n",
    "\\frac{\\rho c}{t_{n+1}-t_n}\\sum_k{{T_k^e}_{n+1} M_{kj}}-\\frac{\\rho c}{t_{n+1}-t_n}\\sum_k{{T_k^e}_n M_{kj}} = \n",
    "\\int_{\\partial_{\\Omega^e_N}}{{g^e_N}_{n+1}\\phi^e_j dS} - k\\sum_k{{T_k^e}_{n+1} A_{kj}},\n",
    "$$\n",
    "where the mass matrix is $M_{kj} = \\int_{\\Omega^e}{\\phi_k^e\\phi_j^e dV}$ and the stiffness matrix $A_{kj} = \\int_{\\Omega^e}{\\bigl(\\partial_x \\phi_k^e \\partial_x\\phi_j^e +\\partial_y \\phi_k^e \\partial_y\\phi_j^e \\bigr)}$."
   ]
  },
  {
   "cell_type": "markdown",
   "metadata": {},
   "source": [
    "Overall we can obtain the matrix equation:\n",
    "$$\n",
    "\\frac{\\rho c}{t_{n+1}-t_n} \\mathbf{M} \\mathbf{T}_{n+1} + k \\mathbf{A} T_{n+1} = \\mathbf{G}_{n+1}+\\frac{\\rho c}{t_{n+1}-t_n} \\mathbf{M}\\mathbf{T}_n \n",
    "$$"
   ]
  },
  {
   "cell_type": "markdown",
   "metadata": {},
   "source": [
    "This equation is valid only for one element but eventually we will have many elements contributing to the same node. It means that the contributions need to be summed up."
   ]
  },
  {
   "cell_type": "markdown",
   "metadata": {},
   "source": [
    "# Shape functions"
   ]
  },
  {
   "cell_type": "markdown",
   "metadata": {},
   "source": [
    "So far we didn't talk much about the shape functions. Those need to equal $1$ on the corresponding node and $0$ on another one. Given arbitrary coordinates of the triangle, we kind of need to come up with the new shape functions formulation for each new triangle. Instead, we will offer the basic form of the shape functions.\n",
    "\n",
    "Each triangle with coordinates of vertices $(x_0,y_0)$, $(x_1,y_1)$ and $(x_2,y_2)$ is transformed to the basis triangle with coordinates  $(0,0)$, $(1,0)$ and $(1,1)$. We call this transformation from $\\Omega_e$ to $\\Omega_{\\bar{e}}$.\n",
    "\n",
    "<img src=\"mapping.png\"/>"
   ]
  },
  {
   "cell_type": "markdown",
   "metadata": {},
   "source": [
    "Let's derive the transformation matrix:\n",
    "$$\n",
    "\\begin{pmatrix}\n",
    "0\\\\\n",
    "0\n",
    "\\end{pmatrix} = \n",
    "A \n",
    "\\begin{pmatrix}\n",
    "x_0\\\\\n",
    "y_0\\\\\n",
    "\\end{pmatrix} + B\n",
    "$$\n",
    "$$\n",
    "\\begin{pmatrix}\n",
    "1\\\\\n",
    "0\n",
    "\\end{pmatrix} = \n",
    "A \n",
    "\\begin{pmatrix}\n",
    "x_1\\\\\n",
    "y_1\\\\\n",
    "\\end{pmatrix} + B\n",
    "$$\n",
    "$$\n",
    "\\begin{pmatrix}\n",
    "0\\\\\n",
    "1\n",
    "\\end{pmatrix} = \n",
    "A \n",
    "\\begin{pmatrix}\n",
    "x_2\\\\\n",
    "y_2\\\\\n",
    "\\end{pmatrix} + B\n",
    "$$\n",
    "\n"
   ]
  },
  {
   "cell_type": "code",
   "execution_count": 1,
   "metadata": {},
   "outputs": [
    {
     "name": "stdout",
     "output_type": "stream",
     "text": [
      "Populating the interactive namespace from numpy and matplotlib\n"
     ]
    },
    {
     "name": "stderr",
     "output_type": "stream",
     "text": [
      "/home/shurik/anaconda3/lib/python3.6/site-packages/IPython/core/magics/pylab.py:160: UserWarning: pylab import has clobbered these variables: ['pylab']\n",
      "`%matplotlib` prevents importing * from pylab and numpy\n",
      "  \"\\n`%matplotlib` prevents importing * from pylab and numpy\"\n"
     ]
    }
   ],
   "source": [
    "import pylab\n",
    "%pylab inline\n",
    "import sympy"
   ]
  },
  {
   "cell_type": "code",
   "execution_count": 2,
   "metadata": {},
   "outputs": [],
   "source": [
    "x0,y0,x1,y1,x2,y2 = sympy.symbols('x0,y0,x1,y1,x2,y2')"
   ]
  },
  {
   "cell_type": "markdown",
   "metadata": {},
   "source": [
    "Matrix $A$ and vector $B$ represent the transformation:\n",
    "$$\n",
    "A = \n",
    "\\begin{pmatrix}\n",
    "a&b\\\\\n",
    "c&d\\\\\n",
    "\\end{pmatrix}\n",
    "$$\n",
    "$$\n",
    "B=\n",
    "\\begin{pmatrix}\n",
    "e\\\\\n",
    "f\n",
    "\\end{pmatrix}\n",
    "$$"
   ]
  },
  {
   "cell_type": "markdown",
   "metadata": {},
   "source": [
    "In terms of unknown things, i.e. $a$,$b$,$c$,$d$,$e$,$f$, we can write the following:\n",
    "$$\n",
    "\\begin{pmatrix}\n",
    "0\\\\\n",
    "0\\\\\n",
    "1\\\\\n",
    "0\\\\\n",
    "0\\\\\n",
    "1\n",
    "\\end{pmatrix} = \n",
    "\\begin{pmatrix}\n",
    "x_0&y_0&1&0&0&0\\\\\n",
    "0&0&0&x_0&y_0&1\\\\\n",
    "x_1&y_1&1&0&0&0\\\\\n",
    "0&0&0&x_1&y_1&1\\\\\n",
    "x_2&y_2&1&0&0&0\\\\\n",
    "0&0&0&x_2&y_2&1\\\\\n",
    "\\end{pmatrix}\n",
    "\\begin{pmatrix}\n",
    "a\\\\\n",
    "b\\\\\n",
    "e\\\\\n",
    "c\\\\\n",
    "d\\\\\n",
    "f\n",
    "\\end{pmatrix}\n",
    "$$"
   ]
  },
  {
   "cell_type": "code",
   "execution_count": 3,
   "metadata": {},
   "outputs": [],
   "source": [
    "a,b,c,d,e,f = sympy.symbols('a,b,c,d,e,f')\n",
    "system = sympy.Matrix(((x0,y0,1,0,0,0,0),(0,0,0,x0,y0,1,0),(x1,y1,1,0,0,0,1),(0,0,0,x1,y1,1,0),(x2,y2,1,0,0,0,0),(0,0,0,x2,y2,1,1)))"
   ]
  },
  {
   "cell_type": "code",
   "execution_count": 4,
   "metadata": {},
   "outputs": [
    {
     "data": {
      "text/plain": [
       "{a: (-y0 + y2)/(x0*y1 - x0*y2 - x1*y0 + x1*y2 + x2*y0 - x2*y1),\n",
       " b: (x0 - x2)/(x0*y1 - x0*y2 - x1*y0 + x1*y2 + x2*y0 - x2*y1),\n",
       " c: (y0 - y1)/(x0*y1 - x0*y2 - x1*y0 + x1*y2 + x2*y0 - x2*y1),\n",
       " d: (-x0 + x1)/(x0*y1 - x0*y2 - x1*y0 + x1*y2 + x2*y0 - x2*y1),\n",
       " e: (-x0*y2 + x2*y0)/(x0*y1 - x0*y2 - x1*y0 + x1*y2 + x2*y0 - x2*y1),\n",
       " f: (x0*y1 - x1*y0)/(x0*y1 - x0*y2 - x1*y0 + x1*y2 + x2*y0 - x2*y1)}"
      ]
     },
     "execution_count": 4,
     "metadata": {},
     "output_type": "execute_result"
    }
   ],
   "source": [
    "solution=sympy.solve_linear_system(system,a,b,e,c,d,f)\n",
    "solution"
   ]
  },
  {
   "cell_type": "markdown",
   "metadata": {},
   "source": [
    "Let's check if we obtained equations right:"
   ]
  },
  {
   "cell_type": "code",
   "execution_count": 5,
   "metadata": {},
   "outputs": [
    {
     "name": "stdout",
     "output_type": "stream",
     "text": [
      "The first point =  0 0\n",
      "The second point =  1 0\n",
      "The third point =  0 1\n"
     ]
    }
   ],
   "source": [
    "print(\"The first point = \",sympy.simplify(solution[a]*x0+solution[b]*y0+solution[e]),sympy.simplify(solution[c]*x0+solution[d]*y0+solution[f]))\n",
    "print(\"The second point = \",sympy.simplify(solution[a]*x1+solution[b]*y1+solution[e]),sympy.simplify(solution[c]*x1+solution[d]*y1+solution[f]))\n",
    "print(\"The third point = \",sympy.simplify(solution[a]*x2+solution[b]*y2+solution[e]),sympy.simplify(solution[c]*x2+solution[d]*y2+solution[f]))"
   ]
  },
  {
   "cell_type": "markdown",
   "metadata": {},
   "source": [
    "Therefore the transformation is as follows:\n",
    "$$\n",
    "\\begin{aligned}\n",
    "&s =\\frac{-y_0 + y_2}{2 A} x + \\frac{x_0 - x_2}{2 A} y + \\frac{-x_0 y_2 + x_2 y_0}{2 A}\\\\\n",
    "&t = \\frac{y_0 - y_1}{2 A} x + \\frac{-x_0 + x_1}{2 A} y + \\frac{x_0 y_1 - x_1 y_0}{2 A}\n",
    "\\end{aligned}\n",
    "$$\n",
    "where $2 A = x_0 y_1 - x_0 y_2 - x_1 y_0 + x_1 y_2 + x_2 y_0 - x_2 y_1$ is double area of the original triangle. "
   ]
  },
  {
   "cell_type": "markdown",
   "metadata": {},
   "source": [
    "Now let's represent the new variables' derivatives through the old ones:\n",
    "$$\n",
    "\\begin{aligned}\n",
    "ds =\\frac{-y_0 + y_2}{2 A} dx + \\frac{x_0 - x_2}{2 A} dy \\\\\n",
    "dt = \\frac{y_0 - y_1}{2 A} dx + \\frac{-x_0 + x_1}{2 A} dy\n",
    "\\end{aligned}\n",
    "$$\n",
    "Basically the fractions become:\n",
    "$$\n",
    "\\begin{pmatrix}\n",
    "ds\\\\\n",
    "dt\n",
    "\\end{pmatrix}=\n",
    "J\n",
    "\\begin{pmatrix}\n",
    "dx\\\\\n",
    "dy\n",
    "\\end{pmatrix}\n",
    "$$\n",
    "where the Jacobian is represented as:\n",
    "$$\n",
    "J=\n",
    "\\frac{1}{2A}\\begin{pmatrix}\n",
    "-y_0 + y_2 & x_0 - x_2 \\\\\n",
    "y_0 - y_1 & -x_0 + x_1 \n",
    "\\end{pmatrix}\n",
    "$$"
   ]
  },
  {
   "cell_type": "code",
   "execution_count": 6,
   "metadata": {},
   "outputs": [],
   "source": [
    "area, jacobian = sympy.symbols('area,jacobian')\n",
    "area = (x0*y1 - x0*y2 - x1*y0 + x1*y2 + x2*y0 - x2*y1)/2\n",
    "jacobian = 1/(2*area) * sympy.Matrix(((y2-y0,x0-x2),(y0-y1,-x0+x1)))"
   ]
  },
  {
   "cell_type": "code",
   "execution_count": 7,
   "metadata": {},
   "outputs": [
    {
     "data": {
      "text/plain": [
       "Matrix([\n",
       "[-x0 + x1, -x0 + x2],\n",
       "[-y0 + y1, -y0 + y2]])"
      ]
     },
     "execution_count": 7,
     "metadata": {},
     "output_type": "execute_result"
    }
   ],
   "source": [
    "inv_jacobian=sympy.simplify(jacobian.inv())\n",
    "inv_jacobian"
   ]
  },
  {
   "cell_type": "code",
   "execution_count": 8,
   "metadata": {},
   "outputs": [
    {
     "data": {
      "text/plain": [
       "(x0 - x1)*(y0 - y2) - (x0 - x2)*(y0 - y1)"
      ]
     },
     "execution_count": 8,
     "metadata": {},
     "output_type": "execute_result"
    }
   ],
   "source": [
    "sympy.simplify(inv_jacobian.det())"
   ]
  },
  {
   "cell_type": "markdown",
   "metadata": {},
   "source": [
    "Or in other words:\n",
    "$$\n",
    "\\begin{pmatrix}\n",
    "dx\\\\\n",
    "dy\n",
    "\\end{pmatrix} = J^{-1}\n",
    "\\begin{pmatrix}\n",
    "ds\\\\\n",
    "dt\n",
    "\\end{pmatrix}\n",
    "$$"
   ]
  },
  {
   "cell_type": "markdown",
   "metadata": {},
   "source": [
    "Now we need to estimate certain integrals that are involved in mass and stiffness matrix:\n",
    "$$\n",
    "\\int_{\\Omega_e}{\\phi_k^e(x,y)\\phi_j^e(x,y) dx dy} = \\int_{\\Omega_\\bar{e}}{\\phi_k^\\bar{e}(s,t)\\phi_j^\\bar{e}(s,t) |J^{-1}| ds dt}\n",
    "$$"
   ]
  },
  {
   "cell_type": "markdown",
   "metadata": {},
   "source": [
    "As far as we are working in the linear  space the Jacobian is a constant depending only on the coordinates of nodes in the original space, so we can take it out of the integral:\n",
    "$$\n",
    "\\int_{\\Omega_\\bar{e}}{\\phi_k^\\bar{e}(s,t)\\phi_j^\\bar{e}(s,t) |J^{-1}| ds dt} = |J^{-1}| \\int_{\\Omega_\\bar{e}}{\\phi_k^\\bar{e}(s,t)\\phi_j^\\bar{e}(s,t)  ds dt} \n",
    "$$"
   ]
  },
  {
   "cell_type": "markdown",
   "metadata": {},
   "source": [
    "It's easy to show that the shape functions in the linear space are the following:\n",
    "$$\n",
    "\\begin{aligned}\n",
    "&\\phi_0(s,t) = 1-s-t\\\\\n",
    "&\\phi_1(s,t) = s\\\\\n",
    "&\\phi_2(s,t) = t\n",
    "\\end{aligned}\n",
    "$$"
   ]
  },
  {
   "cell_type": "markdown",
   "metadata": {},
   "source": [
    "The integrals then can be calculated as follows:\n",
    "$$\n",
    "\\int_{\\Omega^{\\bar{e}}}{\n",
    "\\begin{pmatrix}\n",
    "\\phi_0 & \\phi_1 & \\phi_2\n",
    "\\end{pmatrix}\n",
    "\\begin{pmatrix}\n",
    "\\phi_0\\\\\n",
    "\\phi_1\\\\\n",
    "\\phi_2\n",
    "\\end{pmatrix} \n",
    "ds dt\n",
    "}=\n",
    "\\frac{A}{12}\n",
    "\\begin{pmatrix}\n",
    "2 & 1 & 1\\\\\n",
    "1 & 2 & 1\\\\\n",
    "1 & 1 & 2\n",
    "\\end{pmatrix}\n",
    "$$"
   ]
  },
  {
   "cell_type": "markdown",
   "metadata": {},
   "source": [
    "Now let's derive the stiffness matrix. First of all according to the chain rule the following can be obtained:\n",
    "$$\n",
    "\\begin{aligned}\n",
    "&\\partial_x \\phi_i(x,y) = \\partial_s \\phi_i(s,t) \\partial_x s + \\partial_t \\phi_i(s,t) \\partial_x t\\\\\n",
    "&\\partial_y \\phi_i(x,y) = \\partial_s \\phi_i(s,t) \\partial_y s + \\partial_t \\phi_i(s,t) \\partial_y t\\\\\n",
    "\\end{aligned}\n",
    "$$"
   ]
  },
  {
   "cell_type": "markdown",
   "metadata": {},
   "source": [
    "Substituting expressions for $s$ and $t$ the equations become:\n",
    "$$\n",
    "\\begin{aligned}\n",
    "&\\partial_x \\phi_i(x,y) = \\partial_s \\phi_i(s,t) \\frac{-y_0 + y_2}{2 A} + \\partial_t \\phi_i(s,t) \\frac{y_0-y_1}{2 A}\\\\\n",
    "&\\partial_y \\phi_i(x,y) = \\partial_s \\phi_i(s,t) \\frac{x_0-x_2}{2 A} + \\partial_t \\phi_i(s,t) \\frac{-x_0 + x_1}{2 A}\n",
    "\\end{aligned}\n",
    "$$"
   ]
  },
  {
   "cell_type": "markdown",
   "metadata": {},
   "source": [
    "Therefore, the derivatives for the shape functions are the following:\n",
    "$$\n",
    "\\begin{aligned}\n",
    "&\\partial_x \\phi_0(x,y) = -\\frac{-y_0+y_2}{2 A} - \\frac{y_0 - y_1}{2 A} = \\frac{y_1 - y_2}{2 A} && \\partial_y \\phi_0(x,y) =-\\frac{x_0 - x_2}{2 A} - \\frac{-x_0 + x_1}{2 A} = \\frac{x_2 - x_1}{2 A} \\\\\n",
    "&\\partial_x \\phi_1(x,y) = \\frac{-y_0 +y_2}{2 A} && \\partial_y \\phi_1(x,y) = \\frac{x_0 - x_2}{2 A}\\\\\n",
    "&\\partial_x \\phi_2(x,y) = \\frac{y_0-y_1}{2 A}&& \\partial_y \\phi_2(x,y) = \\frac{-x_0+x_1}{2 A} \\\\\n",
    "\\end{aligned}\n",
    "$$"
   ]
  },
  {
   "cell_type": "markdown",
   "metadata": {},
   "source": [
    "Therefore the stiffness matrix will be the following:\n",
    "$$\n",
    "\\mathbf{A} =\\int_{\\Omega_e}{ \n",
    "\\begin{pmatrix}\n",
    "\\partial_x \\phi_0 \\partial_x \\phi_0 + \\partial_y \\phi_0 \\partial_y \\phi_0 & \\partial_x \\phi_0 \\partial_x \\phi_1 + \\partial_y \\phi_0 \\partial_y \\phi_1 & \\partial_x \\phi_0 \\partial_x \\phi_2 + \\partial_y \\phi_0 \\partial_y \\phi_2\\\\\n",
    "\\partial_x \\phi_1 \\partial_x \\phi_0 + \\partial_y \\phi_1 \\partial_y \\phi_0 & \\partial_x \\phi_1 \\partial_x \\phi_1 + \\partial_y \\phi_1 \\partial_y \\phi_1 & \\partial_x \\phi_1 \\partial_x \\phi_2 + \\partial_y \\phi_1 \\partial_y \\phi_2\\\\\n",
    "\\partial_x \\phi_2 \\partial_x \\phi_0 + \\partial_y \\phi_2 \\partial_y \\phi_0 & \\partial_x \\phi_2 \\partial_x \\phi_1 + \\partial_y \\phi_2 \\partial_y \\phi_1 & \\partial_x \\phi_2 \\partial_x \\phi_2 + \\partial_y \\phi_2 \\partial_y \\phi_2\\\\\n",
    "\\end{pmatrix}\n",
    "dV}\n",
    "$$"
   ]
  },
  {
   "cell_type": "markdown",
   "metadata": {},
   "source": [
    "The matrix $\\mathbf{A}$ is therefore the following:\n",
    "$$\n",
    "\\mathbf{A} = \n",
    "\\begin{pmatrix}\n",
    "\\frac{1}{4 A}\\Bigl((y_2-y_1)^2 + (x_2 - x_1)^2\\Bigr)& \\frac{1}{4 A} \\Bigl((y_1-y_2)(-y_0+y_2) + (x_2-x_1)(x_0-x_2)\\Bigr)& \n",
    "\\frac{1}{4 A}\\Bigl((y_1-y_2)(y_0-y_1)+(x_2-x_1)(-x_0+x_1) \\Bigr)\\\\\n",
    "\\frac{1}{4 A} \\Bigl((y_1-y_2)(-y_0+y_2) + (x_2-x_1)(x_0-x_2)\\Bigr)& \\frac{1}{4 A}\\Bigl((y_2-y_0)^2 + (x_2-x_0)^2\\Bigr)& \\frac{1}{4 A} \\Bigl((-y_0+y_2)(y_0-y_1)+(x_0-x_2)(-x_0+x_1) \\Bigr)\\\\\n",
    "\\frac{1}{4 A}\\Bigl((y_1-y_2)(y_0-y_1)+(x_2-x_1)(-x_0+x_1) \\Bigr)& \\frac{1}{4 A} \\Bigl((-y_0+y_2)(y_0-y_1)+(x_0-x_2)(-x_0+x_1) \\Bigr) & \\frac{1}{4 A}\\Bigl((y_1-y_0)^2+(x_1-x_0)^2\\Bigr) \n",
    "\\end{pmatrix}\n",
    "$$"
   ]
  },
  {
   "cell_type": "markdown",
   "metadata": {},
   "source": [
    "# Spatial discretization"
   ]
  },
  {
   "cell_type": "markdown",
   "metadata": {},
   "source": [
    "Let us generate the triangulation for the square box with the height $H$ and length $L$. We will first generate certain number of points and then perform Delaunay triangulation. "
   ]
  },
  {
   "cell_type": "code",
   "execution_count": 9,
   "metadata": {},
   "outputs": [],
   "source": [
    "L = 1.0\n",
    "H = 2.0\n",
    "NX = 10\n",
    "NY = 20\n",
    "NPOINTS = 200\n",
    "NDIRICHLET = 10\n",
    "NNEUMANN = 10"
   ]
  },
  {
   "cell_type": "code",
   "execution_count": 10,
   "metadata": {},
   "outputs": [
    {
     "name": "stdout",
     "output_type": "stream",
     "text": [
      "[[0.         0.        ]\n",
      " [0.         0.6050055 ]\n",
      " [0.         1.86964222]\n",
      " [0.         0.02890126]\n",
      " [0.         0.09018849]\n",
      " [0.         1.86165089]\n",
      " [0.         0.77892892]\n",
      " [0.         1.49010386]\n",
      " [0.         1.01187612]\n",
      " [0.         2.        ]\n",
      " [1.         0.        ]\n",
      " [1.         1.48951947]\n",
      " [1.         1.66519653]\n",
      " [1.         1.98039168]\n",
      " [1.         0.35321453]\n",
      " [1.         0.15494515]\n",
      " [1.         0.15270251]\n",
      " [1.         0.73569848]\n",
      " [1.         1.50380005]\n",
      " [1.         2.        ]\n",
      " [0.27269329 0.        ]\n",
      " [0.08659572 0.        ]\n",
      " [0.04108809 0.        ]\n",
      " [0.85571883 0.        ]\n",
      " [0.85700616 0.        ]\n",
      " [0.5214037  0.        ]\n",
      " [0.97602975 0.        ]\n",
      " [0.23610486 0.        ]\n",
      " [0.08968265 0.        ]\n",
      " [0.78734389 0.        ]\n",
      " [0.14797656 2.        ]\n",
      " [0.75601531 2.        ]\n",
      " [0.76314058 2.        ]\n",
      " [0.33516768 2.        ]\n",
      " [0.94699967 2.        ]\n",
      " [0.996568   2.        ]\n",
      " [0.9300038  2.        ]\n",
      " [0.02743127 2.        ]\n",
      " [0.41308762 2.        ]\n",
      " [0.85452098 2.        ]\n",
      " [0.81673173 0.81338685]\n",
      " [0.3757626  0.35476302]\n",
      " [0.40975342 0.99806187]\n",
      " [0.70101792 0.33880787]\n",
      " [0.21904155 1.06265451]\n",
      " [0.18932571 0.97813936]\n",
      " [0.01319176 0.49559547]\n",
      " [0.03307947 0.69293565]\n",
      " [0.05273374 1.28858056]\n",
      " [0.03979079 1.68493286]\n",
      " [0.95653586 1.66638864]\n",
      " [0.56385927 0.86677426]\n",
      " [0.81675277 1.75614836]\n",
      " [0.43757793 1.63624625]\n",
      " [0.91744653 1.09546011]\n",
      " [0.13325983 1.66783701]\n",
      " [0.81355059 0.53677447]\n",
      " [0.42339803 0.0384636 ]\n",
      " [0.39956671 0.5049482 ]\n",
      " [0.3105602  0.42415323]\n",
      " [0.90330679 0.63462367]\n",
      " [0.16249157 0.25432388]\n",
      " [0.32772193 0.3466172 ]\n",
      " [0.69891751 1.90868493]\n",
      " [0.64091389 0.60105149]\n",
      " [0.37463904 0.1111113 ]\n",
      " [0.21707809 1.60586267]\n",
      " [0.04682471 1.19598758]\n",
      " [0.28122156 0.13664784]\n",
      " [0.0899149  0.45074702]\n",
      " [0.42476844 1.6508737 ]\n",
      " [0.48047536 0.64201829]\n",
      " [0.02161614 1.23245392]\n",
      " [0.55658688 0.2018568 ]\n",
      " [0.39368609 0.85913187]\n",
      " [0.29721204 1.94175849]\n",
      " [0.43856435 1.86884947]\n",
      " [0.71355502 0.1688911 ]\n",
      " [0.24679573 1.20001702]\n",
      " [0.48375036 1.80325616]\n",
      " [0.61184254 0.4051319 ]\n",
      " [0.70656056 1.52224329]\n",
      " [0.80196137 0.60970745]\n",
      " [0.60340516 0.07616371]\n",
      " [0.14322803 0.22880573]\n",
      " [0.90650595 1.42732068]\n",
      " [0.12654174 1.83572682]\n",
      " [0.78298041 0.54340198]\n",
      " [0.77656631 1.12004468]\n",
      " [0.79727113 0.40885375]\n",
      " [0.51527221 0.84614232]\n",
      " [0.28744932 1.21843037]\n",
      " [0.73665223 1.71955776]\n",
      " [0.13505896 1.78742959]\n",
      " [0.52089243 0.47826614]\n",
      " [0.94835057 0.84707392]\n",
      " [0.11513685 1.53027917]\n",
      " [0.6308648  1.43490445]\n",
      " [0.92361276 1.50366569]\n",
      " [0.54939677 1.67819175]\n",
      " [0.38518922 0.94996544]\n",
      " [0.80871651 0.31408557]\n",
      " [0.89555004 1.36947599]\n",
      " [0.2329898  0.58767361]\n",
      " [0.80415344 0.51515516]\n",
      " [0.14890183 0.64809109]\n",
      " [0.69258439 1.38758402]\n",
      " [0.62054834 0.35580839]\n",
      " [0.3999499  0.31383703]\n",
      " [0.07005441 1.36922944]\n",
      " [0.22575706 0.69686335]\n",
      " [0.61947947 0.91468331]\n",
      " [0.55733216 0.07005946]\n",
      " [0.5415632  1.3442262 ]\n",
      " [0.05025447 0.78398012]\n",
      " [0.20694916 1.18358449]\n",
      " [0.90153927 1.33755524]\n",
      " [0.14280722 0.76457711]\n",
      " [0.53818978 1.27258501]\n",
      " [0.68562632 0.25518274]\n",
      " [0.15921761 1.36915133]\n",
      " [0.61793855 0.47742136]\n",
      " [0.84295315 1.78351281]\n",
      " [0.35647553 0.0401639 ]\n",
      " [0.47529177 1.47458874]\n",
      " [0.82828091 1.78306049]\n",
      " [0.28660009 0.40018083]\n",
      " [0.40626997 0.10525441]\n",
      " [0.1131568  0.39592367]\n",
      " [0.65937572 1.25719504]\n",
      " [0.86633889 1.77003548]\n",
      " [0.94936738 1.66603074]\n",
      " [0.53935187 1.55149283]\n",
      " [0.23394903 0.50692227]\n",
      " [0.42540592 0.56531223]\n",
      " [0.78869875 0.18227212]\n",
      " [0.53537411 1.63377377]\n",
      " [0.58709759 1.25869778]\n",
      " [0.05499476 1.74009615]\n",
      " [0.14614435 1.10876188]\n",
      " [0.64436219 0.03553077]\n",
      " [0.0253804  1.85107942]\n",
      " [0.38868404 0.30560616]\n",
      " [0.36059532 0.79577585]\n",
      " [0.82685272 0.60172672]\n",
      " [0.15773878 0.51702713]\n",
      " [0.57583146 0.2895952 ]\n",
      " [0.2245561  1.16891625]\n",
      " [0.49234898 0.76533303]\n",
      " [0.95518823 0.66176244]\n",
      " [0.89861992 0.48468524]\n",
      " [0.80310696 0.7631742 ]\n",
      " [0.3163624  0.1365931 ]\n",
      " [0.51829297 0.2999305 ]\n",
      " [0.07567137 1.13534241]\n",
      " [0.65869453 1.12137944]\n",
      " [0.65477241 1.95865086]\n",
      " [0.4703205  0.78635079]\n",
      " [0.67633443 0.83257178]\n",
      " [0.27860798 1.54300168]\n",
      " [0.24254216 0.63779844]\n",
      " [0.12552775 0.1761222 ]\n",
      " [0.52426948 0.61582744]\n",
      " [0.76004714 1.46524851]\n",
      " [0.87738601 1.82590926]\n",
      " [0.08521283 1.46562423]\n",
      " [0.3649961  0.03733056]\n",
      " [0.03423676 0.60675965]\n",
      " [0.06863418 1.35441854]\n",
      " [0.58882408 0.06894308]\n",
      " [0.18661992 1.09097944]\n",
      " [0.56508199 1.9433579 ]\n",
      " [0.70503685 0.63844171]\n",
      " [0.66316744 1.92887154]\n",
      " [0.79092636 1.44322935]\n",
      " [0.65891156 0.68466029]\n",
      " [0.30185209 0.2294869 ]\n",
      " [0.20965411 1.61267542]\n",
      " [0.28961931 0.00970476]\n",
      " [0.66709558 0.18395282]\n",
      " [0.06570321 1.43091777]\n",
      " [0.84660726 1.22472132]\n",
      " [0.58688669 1.74297316]\n",
      " [0.16961452 0.21789218]\n",
      " [0.25299602 0.1616411 ]\n",
      " [0.89847599 0.45606825]\n",
      " [0.58372261 0.4882008 ]\n",
      " [0.97937564 1.73820913]\n",
      " [0.91310279 0.38072343]\n",
      " [0.72070366 1.34567478]\n",
      " [0.17318425 0.61135207]\n",
      " [0.08877427 0.70318102]\n",
      " [0.43387475 0.30005429]\n",
      " [0.04191504 0.01859124]\n",
      " [0.90893913 1.9072782 ]\n",
      " [0.90148642 0.98062643]\n",
      " [0.26006574 0.09203322]\n",
      " [0.3836902  0.82400562]\n",
      " [0.81703211 1.5687731 ]\n",
      " [0.56926879 0.5340154 ]]\n"
     ]
    }
   ],
   "source": [
    "import random\n",
    "import numpy\n",
    "points = numpy.zeros((NPOINTS,2))\n",
    "points[0,0] = 0.0\n",
    "points[0,1] = 0.0\n",
    "points[NDIRICHLET,0] = L\n",
    "points[NDIRICHLET,1] = 0.0\n",
    "for i in range(1,NDIRICHLET-1):\n",
    "    points[i,0] = 0.0\n",
    "    points[i,1] = random.random() * H\n",
    "    points[i+NDIRICHLET,0] = L\n",
    "    points[i+NDIRICHLET,1] = random.random() * H\n",
    "points[NDIRICHLET-1,0] = 0.0\n",
    "points[NDIRICHLET-1,1] = H\n",
    "points[2*NDIRICHLET-1,0] = L\n",
    "points[2*NDIRICHLET-1,1] = H\n",
    "\n",
    "for i in range(NNEUMANN):\n",
    "    points[2*NDIRICHLET+i,0] = random.random() * L\n",
    "    points[2*NDIRICHLET+i,1] = 0\n",
    "    points[2*NDIRICHLET+NNEUMANN+i,0] = random.random() * L\n",
    "    points[2*NDIRICHLET+NNEUMANN+i,1] = H\n",
    "    \n",
    "for i in range(2*NDIRICHLET+2*NNEUMANN,NPOINTS):\n",
    "    points[i,0] = random.random() * L\n",
    "    points[i,1] = random.random() * H\n",
    "print(points)"
   ]
  },
  {
   "cell_type": "code",
   "execution_count": 11,
   "metadata": {},
   "outputs": [
    {
     "data": {
      "text/plain": [
       "[<matplotlib.lines.Line2D at 0x7fbe4683ba20>]"
      ]
     },
     "execution_count": 11,
     "metadata": {},
     "output_type": "execute_result"
    },
    {
     "data": {
      "image/png": "[encoded data removed]",
      "text/plain": [
       "<matplotlib.figure.Figure at 0x7fbe4d305ac8>"
      ]
     },
     "metadata": {},
     "output_type": "display_data"
    }
   ],
   "source": [
    "from scipy.spatial import Delaunay\n",
    "\n",
    "tri = Delaunay(points)\n",
    "\n",
    "pylab.figure(figsize=(3,6))\n",
    "pylab.triplot(points[:,0], points[:,1], tri.simplices)\n",
    "pylab.plot(points[:,0], points[:,1], 'o')"
   ]
  },
  {
   "cell_type": "markdown",
   "metadata": {},
   "source": [
    "The problem we would like to solve is the following:\n",
    "$$\n",
    "\\rho C \\partial_t T = k \\Delta T\\text{ with } T(0, y) = 1, T(L,y) = 0, \\partial_y T(x,y=0,H) = 0\n",
    "$$"
   ]
  },
  {
   "cell_type": "markdown",
   "metadata": {},
   "source": [
    "Assuming that $\\rho = C = k = 1$, the solution for the one-dimensional equation is the following:\n",
    "$$\n",
    "\\phi(x,t) = \\frac{L-x}{L}-\\sum_{k=1}^{\\infty}{\\frac{2}{k \\pi}\\sin\\bigl(\\frac{k \\pi}{L} x\\bigr)\\exp\\bigl(-\\frac{\\pi^2 k^2}{L^2} t\\bigr)}\n",
    "$$"
   ]
  },
  {
   "cell_type": "code",
   "execution_count": 17,
   "metadata": {},
   "outputs": [],
   "source": [
    "def updateMatrix(mass, stiffness, phi):\n",
    "    # Define first the Dirichlet boundary conditions\n",
    "    for i in range(NDIRICHLET):\n",
    "        mass[i,i] = 1\n",
    "        mass[i+NDIRICHLET,i+NDIRICHLET] = 1\n",
    "        phi[i]=1\n",
    "        phi[i+NDIRICHLET]=0\n",
    "\n",
    "    # Let's go through all the triangles\n",
    "    for triangle in tri.simplices:\n",
    "        vertex0 = triangle[0]\n",
    "        vertex1 = triangle[1]\n",
    "        vertex2 = triangle[2]\n",
    "        area = 0.5 * ( points[vertex0,0]*(points[vertex1,1]-points[vertex2,1]) \n",
    "                      -points[vertex1,0]*(points[vertex0,1]-points[vertex2,1])\n",
    "                      +points[vertex2,0]*(points[vertex0,1]-points[vertex1,1]))\n",
    "        for vertex0 in triangle:\n",
    "            if vertex0 < 2*NDIRICHLET:\n",
    "                continue\n",
    "            triangle2 = triangle.tolist()\n",
    "            triangle2.remove(vertex0)\n",
    "            vertex1 = triangle2[0]\n",
    "            vertex2 = triangle2[1]\n",
    "            mass[vertex0,vertex0] += area/12.0 * 2.0\n",
    "            mass[vertex0,vertex1] += area/12.0\n",
    "            mass[vertex0,vertex2] += area/12.0\n",
    "            if vertex0==0:\n",
    "                print(\"Triangle = \", triangle)\n",
    "            stiffness[vertex0,vertex0] += 0.25/area * ( (points[vertex2,0]-points[vertex1,0])**2 \n",
    "                                                       +(points[vertex2,1]-points[vertex1,1])**2)\n",
    "            stiffness[vertex0,vertex1] += 0.25/area * ( (points[vertex2,0]-points[vertex1,0])*(points[vertex0,0]-points[vertex2,0]) \n",
    "                                                       +(points[vertex2,1]-points[vertex1,1])*(points[vertex0,1]-points[vertex2,1]))\n",
    "            stiffness[vertex0,vertex2] += 0.25/area * ( (points[vertex2,0]-points[vertex1,0])*(-points[vertex0,0]+points[vertex1,0]) \n",
    "                                                       +(points[vertex2,1]-points[vertex1,1])*(-points[vertex0,1]+points[vertex1,1]))\n",
    "            \n",
    "    print(numpy.linalg.det(mass))"
   ]
  },
  {
   "cell_type": "code",
   "execution_count": 13,
   "metadata": {},
   "outputs": [],
   "source": [
    "def analytical(time):\n",
    "    numTerms = 400\n",
    "    numX = 101\n",
    "\n",
    "    x=numpy.linspace(0,L,numX)\n",
    "    sol = (L - x)/L\n",
    "    alpha = 1.0\n",
    "    for term in range(1,numTerms+1):\n",
    "        sol = sol - 2.0/(term*numpy.pi)*numpy.sin(term * numpy.pi*x/L)*numpy.exp(-alpha*(numpy.pi**2)*(term**2)/(L**2)*time)\n",
    "    return x,sol"
   ]
  },
  {
   "cell_type": "code",
   "execution_count": 24,
   "metadata": {
    "scrolled": true
   },
   "outputs": [
    {
     "name": "stdout",
     "output_type": "stream",
     "text": [
      "0.0\n"
     ]
    },
    {
     "data": {
      "text/plain": [
       "[<matplotlib.lines.Line2D at 0x7fbe3c35a828>]"
      ]
     },
     "execution_count": 24,
     "metadata": {},
     "output_type": "execute_result"
    },
    {
     "data": {
      "image/png": "[encoded data removed]",
      "text/plain": [
       "<matplotlib.figure.Figure at 0x7fbe3c58cd30>"
      ]
     },
     "metadata": {},
     "output_type": "display_data"
    },
    {
     "data": {
      "image/png": "[encoded data removed]",
      "text/plain": [
       "<matplotlib.figure.Figure at 0x7fbe3c436898>"
      ]
     },
     "metadata": {},
     "output_type": "display_data"
    }
   ],
   "source": [
    "from IPython import display\n",
    "from matplotlib.tri import Triangulation, LinearTriInterpolator\n",
    "\n",
    "deltat = 0.001\n",
    "numIterations = 30\n",
    "mass = numpy.zeros((NPOINTS,NPOINTS))\n",
    "stiffness = numpy.zeros((NPOINTS,NPOINTS))\n",
    "phi  = numpy.zeros((NPOINTS,))\n",
    "phi_old = numpy.zeros((NPOINTS,))\n",
    "\n",
    "xi = np.linspace(0, L, 100)\n",
    "yi = np.linspace(0, H, 200)\n",
    "Xi, Yi = np.meshgrid(xi, yi)\n",
    "\n",
    "updateMatrix(mass,stiffness,phi)\n",
    "mat = mass/deltat + stiffness\n",
    "triang = Triangulation(points[:,0], points[:,1])\n",
    "\n",
    "for iteration in range(1,numIterations+1):\n",
    "    phi_old = phi\n",
    "        \n",
    "    rhs = numpy.dot(mass/deltat, phi_old)\n",
    "    phi = numpy.linalg.solve(mat,rhs)\n",
    "interpolator = LinearTriInterpolator(triang, phi)\n",
    "zi = interpolator(Xi, Yi)\n",
    "pylab.figure(1)\n",
    "pylab.imshow(zi)\n",
    "\n",
    "pylab.figure(2)\n",
    "xanal, yanal = analytical(numIterations*deltat)\n",
    "pylab.plot(xanal,yanal,\"-\")\n",
    "pylab.plot(Xi[100,:],zi[100,:])"
   ]
  }
 ],
 "metadata": {
  "kernelspec": {
   "display_name": "Python 3",
   "language": "python",
   "name": "python3"
  },
  "language_info": {
   "codemirror_mode": {
    "name": "ipython",
    "version": 3
   },
   "file_extension": ".py",
   "mimetype": "text/x-python",
   "name": "python",
   "nbconvert_exporter": "python",
   "pygments_lexer": "ipython3",
   "version": "3.6.4"
  }
 },
 "nbformat": 4,
 "nbformat_minor": 2
}
