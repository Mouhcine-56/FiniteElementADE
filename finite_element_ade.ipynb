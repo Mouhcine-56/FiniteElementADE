{
 "cells": [
  {
   "cell_type": "markdown",
   "metadata": {},
   "source": [
    "# Finite Element Advection Diffusion Equation"
   ]
  },
  {
   "cell_type": "markdown",
   "metadata": {},
   "source": [
    "## Weak formulation"
   ]
  },
  {
   "cell_type": "markdown",
   "metadata": {},
   "source": [
    "We will start with the 2D pure conduction equation:\n",
    "$$\\rho c \\frac{\\partial T}{\\partial t} = \\frac{\\partial}{\\partial x}\\biggl(k \\frac{\\partial T}{\\partial x}\\biggr) + \\frac{\\partial}{\\partial y}\\biggl(k \\frac{\\partial T}{\\partial y}\\biggr)$$\n",
    "where $k$ is the material conductivity, $\\rho$ is the material density, $c$ is the material capacitance.  "
   ]
  },
  {
   "cell_type": "markdown",
   "metadata": {},
   "source": [
    "Let's multiply each side of the equation on the test function (shape function) $\\phi$ and integrate it over the domain volume $\\Omega$):\n",
    "$$\n",
    "\\int_{\\Omega}{\\rho c \\frac{\\partial T}{\\partial t} \\phi_e dx dy} = \\int_{\\Omega}{\\frac{\\partial}{\\partial x}\\biggl(k \\frac{\\partial{T}}{\\partial x} \\biggr)\\phi_e dx dy} + \\int_{\\Omega}{\\frac{\\partial}{\\partial y}\\biggl(k \\frac{\\partial{T}}{\\partial y}\\biggr) \\phi_e dx dy} \n",
    "$$"
   ]
  },
  {
   "cell_type": "markdown",
   "metadata": {},
   "source": [
    "We need to use Gauss-Ostrogradsky theorem which is represented as:\n",
    "$$\\int_{\\Omega}{\\mathbf{\\nabla}\\cdot \\mathbf{F} dV} = \\int_{\\partial\\Omega}{\\mathbf{F}\\cdot\\mathbf{n}} dS$$\n",
    "\n",
    "Notice also, that the following can be represented as:\n",
    "$$\\mathbf{\\nabla}\\cdot \\phi \\mathbf{\\nabla} G = \\phi \\mathbf{\\nabla}\\cdot\\mathbf{\\nabla G} + \\mathbf{\\nabla}\\phi\\cdot\\mathbf{\\nabla}G$$\n"
   ]
  },
  {
   "cell_type": "markdown",
   "metadata": {},
   "source": [
    "Assuming that $k$, $\\rho$ and $c$ are all constants and $G=k T$, the following is obtained:\n",
    "$$\n",
    "\\int_{\\Omega}{\\rho c \\partial_t T \\phi dV} =\\int_{\\partial \\Omega}{k\\partial_n T \\phi dS} - \\int_{\\Omega}{\\biggl(k \\partial_x T \\partial_x \\phi + k \\partial_y T \\partial_y \\phi\\biggr) dV}\n",
    "$$"
   ]
  },
  {
   "cell_type": "markdown",
   "metadata": {},
   "source": [
    "We now need to take integrals over the boundary. For the Newmann boundary condition there is a prescribed flux boundary condition: $k\\partial_n T|_{\\partial \\Omega_N} = g_N$. Whenever on boundary we have a prescribed Dirichlet boundary condition, i.e. $T|_{\\partial \\Omega_D} = g_D$, to avoid calculating the integral over the boundary $\\int_{\\partial \\Omega}{k\\partial_n T\\phi dS}$ for Dirichlet boundary condition we ask a test function to have a zero value on the boudnary $\\phi|_{\\partial \\Omega_D} = 0$."
   ]
  },
  {
   "cell_type": "markdown",
   "metadata": {},
   "source": [
    "Therefore the following integral can be calculated as follows:\n",
    "$$\n",
    "\\int_{\\Omega}{\\rho c \\partial_t T \\phi dV} =\\int_{\\partial \\Omega_N}{g_N \\phi dS} - \\int_{\\Omega}{\\biggl(k \\partial_x T \\partial_x \\phi + k \\partial_y T \\partial_y \\phi\\biggr) dV}\n",
    "$$"
   ]
  },
  {
   "cell_type": "markdown",
   "metadata": {},
   "source": [
    "Now we approximate the test function $\\phi$ from the space of the first order polynomials defined in the whole domain. We also approximate the temperature function as the summation through all possible first order polynomials. However, it's almost impossible to work with all possible first order polynomials in space and represent the temperature through their summation ($\\sum_{i=0}^{\\infty}{a_i x + b_i y + c_i}$). \n",
    "\n",
    "Instead, we introduce the discretization of space into certain geometrical features, say the domain $\\Omega$ is subdivided onto $M$ features (triangles in our case) and have $N$ nodes. \n",
    "\n",
    "In each geometrical feature $ e = 1..M$ the solution is represented through one of polynomials. Assuming that we have a basis for polynomials in this geometrical feature, one can write:  \n",
    "$$\n",
    "T_e = \\sum_{j=1}^{d}{a_j \\phi^e_j(x,y)},\n",
    "$$\n",
    "where $a_j$ are the weights, $d$ is the number of coefficients, $\\phi_j^e$ is the linear shape function corresponding to the node $j$ of the element $e$. \n",
    "\n",
    "A few things to note in triangle we have only three points that will be searched for in the final solution, so we will have only three basis functions inside the triangle.  At this particular point nothing stops us to assume that the shape function takes $1$ at node itself and $0$ at any other nodes. So the profile of temperatures inside the geometrical feature $e$ can be represented through its nodal values:\n",
    "$$\n",
    "T_e = \\sum_{j=1}^{d}{T_j^e \\phi^e_j(x,y)},\n",
    "$$\n",
    "where $\\phi^e_j(x_j,y_j) = 1$ and $\\phi^e_j(x_k,y_k)=0$ for $j\\neq k$ ($x_j,y_j$ are coordinates of the node $j$). Also, outside the element $e$ this shape function equals zero. Notice, that each shape function is represented as $\\phi^e_j(x,y) = a_j x + b_j y +c_j$."
   ]
  },
  {
   "cell_type": "markdown",
   "metadata": {},
   "source": [
    "Now the big integral (assuming that the basis function has non-zero value only inside the corresponding triangle), then the whole integral is taken as summation over the geometrical features. If we take the test function to be a shape function, then the integral with this shape function $\\phi^e_j$ will be taken only inside the corresponding geometrical feature:\n",
    "$$\n",
    "\\int_{\\Omega^e}{\\rho c \\partial_t \\sum_k{T_k^e \\phi^e_k} \\phi^e_j dV}=\\int_{\\partial\\Omega_N^e}{g^e_N \\phi_j^e dS} - \\int_{\\Omega^e}{\\biggl(k\\partial_x \\phi_j^e \\sum_k{T_k^e \\partial_x \\phi_k^e + k\\partial_y \\phi_j^e \\sum_k{T_k^e \\partial_y \\phi_k^e}}\\biggr)}\n",
    "$$"
   ]
  },
  {
   "cell_type": "markdown",
   "metadata": {},
   "source": [
    "We discretize in time using the implicit discretization:\n",
    "$$\n",
    "\\partial_t T_k^e = \\frac{{T_k^e}_{n+1}-{T_k^e}_n}{t_{n+1}-t_n}\n",
    "$$\n"
   ]
  },
  {
   "cell_type": "markdown",
   "metadata": {},
   "source": [
    "Eventually we will have the linear system involving the nodal temperatures. Let us see derive this matrix:\n",
    "$$\n",
    "\\int_{\\Omega^e}{\\frac{\\rho c}{t_{n+1}-t_n}  \\sum_k{\\bigl({T_k^e}_{n+1}-{T_k^e}_n\\bigr) \\phi^e_k} \\phi^e_j dV}=\\int_{\\partial\\Omega_N^e}{{g^e_N}_{n+1} \\phi_j^e dS} - \\int_{\\Omega^e}{\\biggl(k\\partial_x \\phi_j^e \\sum_k{{T_k^e}_{n+1} \\partial_x \\phi_k^e + k\\partial_y \\phi_j^e \\sum_k{{T_k^e}_{n+1} \\partial_y \\phi_k^e}}\\biggr)}\n",
    "$$"
   ]
  },
  {
   "cell_type": "markdown",
   "metadata": {},
   "source": [
    "For each element we have the following coefficients:\n",
    "$$\n",
    "\\frac{\\rho c}{t_{n+1}-t_n}\\sum_k{{T_k^e}_{n+1} M_{kj}}-\\frac{\\rho c}{t_{n+1}-t_n}\\sum_k{{T_k^e}_n M_{kj}} = \n",
    "\\int_{\\partial_{\\Omega^e_N}}{{g^e_N}_{n+1}\\phi^e_j dS} - k\\sum_k{{T_k^e}_{n+1} A_{kj}},\n",
    "$$\n",
    "where the mass matrix is $M_{kj} = \\int_{\\Omega^e}{\\phi_k^e\\phi_j^e dV}$ and the stiffness matrix $A_{kj} = \\int_{\\Omega^e}{\\bigl(\\partial_x \\phi_k^e \\partial_x\\phi_j^e +\\partial_y \\phi_k^e \\partial_y\\phi_j^e \\bigr)}$."
   ]
  },
  {
   "cell_type": "markdown",
   "metadata": {},
   "source": [
    "Overall we can obtain the matrix equation:\n",
    "$$\n",
    "\\frac{\\rho c}{t_{n+1}-t_n} \\mathbf{M} \\mathbf{T}_{n+1} + k \\mathbf{A} T_{n+1} = \\mathbf{G}_{n+1}+\\frac{\\rho c}{t_{n+1}-t_n} \\mathbf{M}\\mathbf{T}_n \n",
    "$$"
   ]
  },
  {
   "cell_type": "markdown",
   "metadata": {},
   "source": [
    "This equation is valid only for one element but eventually we will have many elements contributing to the same node. It means that the contributions need to be summed up."
   ]
  },
  {
   "cell_type": "markdown",
   "metadata": {},
   "source": [
    "# Shape functions"
   ]
  },
  {
   "cell_type": "markdown",
   "metadata": {},
   "source": [
    "So far we didn't talk much about the shape functions. Those need to equal $1$ on the corresponding node and $0$ on another one. Given arbitrary coordinates of the triangle, we kind of need to come up with the new shape functions formulation for each new triangle. Instead, we will offer the basic form of the shape functions.\n",
    "\n",
    "Each triangle with coordinates of vertices $(x_0,y_0)$, $(x_1,y_1)$ and $(x_2,y_2)$ is transformed to the basis triangle with coordinates  $(0,0)$, $(1,0)$ and $(1,1)$. We call this transformation from $\\Omega_e$ to $\\Omega_{\\bar{e}}$.\n",
    "\n",
    "<img src=\"mapping.png\"/>"
   ]
  },
  {
   "cell_type": "markdown",
   "metadata": {},
   "source": [
    "Let's derive the transformation matrix:\n",
    "$$\n",
    "\\begin{pmatrix}\n",
    "0\\\\\n",
    "0\n",
    "\\end{pmatrix} = \n",
    "A \n",
    "\\begin{pmatrix}\n",
    "x_0\\\\\n",
    "y_0\\\\\n",
    "\\end{pmatrix} + B\n",
    "$$\n",
    "$$\n",
    "\\begin{pmatrix}\n",
    "1\\\\\n",
    "0\n",
    "\\end{pmatrix} = \n",
    "A \n",
    "\\begin{pmatrix}\n",
    "x_1\\\\\n",
    "y_1\\\\\n",
    "\\end{pmatrix} + B\n",
    "$$\n",
    "$$\n",
    "\\begin{pmatrix}\n",
    "0\\\\\n",
    "1\n",
    "\\end{pmatrix} = \n",
    "A \n",
    "\\begin{pmatrix}\n",
    "x_2\\\\\n",
    "y_2\\\\\n",
    "\\end{pmatrix} + B\n",
    "$$\n",
    "\n"
   ]
  },
  {
   "cell_type": "code",
   "execution_count": 40,
   "metadata": {
    "collapsed": false
   },
   "outputs": [
    {
     "name": "stdout",
     "output_type": "stream",
     "text": [
      "Populating the interactive namespace from numpy and matplotlib\n"
     ]
    },
    {
     "name": "stderr",
     "output_type": "stream",
     "text": [
      "C:\\Users\\alexk\\AppData\\Local\\Continuum\\Anaconda3\\lib\\site-packages\\IPython\\core\\magics\\pylab.py:161: UserWarning: pylab import has clobbered these variables: ['pylab', 'f', 'tri', 'random', 'e']\n",
      "`%matplotlib` prevents importing * from pylab and numpy\n",
      "  \"\\n`%matplotlib` prevents importing * from pylab and numpy\"\n"
     ]
    }
   ],
   "source": [
    "import pylab\n",
    "%pylab inline\n",
    "import sympy"
   ]
  },
  {
   "cell_type": "code",
   "execution_count": 2,
   "metadata": {
    "collapsed": true
   },
   "outputs": [],
   "source": [
    "x0,y0,x1,y1,x2,y2 = sympy.symbols('x0,y0,x1,y1,x2,y2')"
   ]
  },
  {
   "cell_type": "markdown",
   "metadata": {},
   "source": [
    "Matrix $A$ and vector $B$ represent the transformation:\n",
    "$$\n",
    "A = \n",
    "\\begin{pmatrix}\n",
    "a&b\\\\\n",
    "c&d\\\\\n",
    "\\end{pmatrix}\n",
    "$$\n",
    "$$\n",
    "B=\n",
    "\\begin{pmatrix}\n",
    "e\\\\\n",
    "f\n",
    "\\end{pmatrix}\n",
    "$$"
   ]
  },
  {
   "cell_type": "markdown",
   "metadata": {},
   "source": [
    "In terms of unknown things, i.e. $a$,$b$,$c$,$d$,$e$,$f$, we can write the following:\n",
    "$$\n",
    "\\begin{pmatrix}\n",
    "0\\\\\n",
    "0\\\\\n",
    "1\\\\\n",
    "0\\\\\n",
    "0\\\\\n",
    "1\n",
    "\\end{pmatrix} = \n",
    "\\begin{pmatrix}\n",
    "x_0&y_0&1&0&0&0\\\\\n",
    "0&0&0&x_0&y_0&1\\\\\n",
    "x_1&y_1&1&0&0&0\\\\\n",
    "0&0&0&x_1&y_1&1\\\\\n",
    "x_2&y_2&1&0&0&0\\\\\n",
    "0&0&0&x_2&y_2&1\\\\\n",
    "\\end{pmatrix}\n",
    "\\begin{pmatrix}\n",
    "a\\\\\n",
    "b\\\\\n",
    "e\\\\\n",
    "c\\\\\n",
    "d\\\\\n",
    "f\n",
    "\\end{pmatrix}\n",
    "$$"
   ]
  },
  {
   "cell_type": "code",
   "execution_count": 3,
   "metadata": {
    "collapsed": false
   },
   "outputs": [],
   "source": [
    "a,b,c,d,e,f = sympy.symbols('a,b,c,d,e,f')\n",
    "system = sympy.Matrix(((x0,y0,1,0,0,0,0),(0,0,0,x0,y0,1,0),(x1,y1,1,0,0,0,1),(0,0,0,x1,y1,1,0),(x2,y2,1,0,0,0,0),(0,0,0,x2,y2,1,1)))"
   ]
  },
  {
   "cell_type": "code",
   "execution_count": 4,
   "metadata": {
    "collapsed": false
   },
   "outputs": [
    {
     "data": {
      "text/plain": [
       "{a: (-y0 + y2)/(x0*y1 - x0*y2 - x1*y0 + x1*y2 + x2*y0 - x2*y1),\n",
       " b: (x0 - x2)/(x0*y1 - x0*y2 - x1*y0 + x1*y2 + x2*y0 - x2*y1),\n",
       " e: (-x0*y2 + x2*y0)/(x0*y1 - x0*y2 - x1*y0 + x1*y2 + x2*y0 - x2*y1),\n",
       " c: (y0 - y1)/(x0*y1 - x0*y2 - x1*y0 + x1*y2 + x2*y0 - x2*y1),\n",
       " d: (-x0 + x1)/(x0*y1 - x0*y2 - x1*y0 + x1*y2 + x2*y0 - x2*y1),\n",
       " f: (x0*y1 - x1*y0)/(x0*y1 - x0*y2 - x1*y0 + x1*y2 + x2*y0 - x2*y1)}"
      ]
     },
     "execution_count": 4,
     "metadata": {},
     "output_type": "execute_result"
    }
   ],
   "source": [
    "solution=sympy.solve_linear_system(system,a,b,e,c,d,f)\n",
    "solution"
   ]
  },
  {
   "cell_type": "markdown",
   "metadata": {},
   "source": [
    "Let's check if we obtained equations right:"
   ]
  },
  {
   "cell_type": "code",
   "execution_count": 7,
   "metadata": {
    "collapsed": false
   },
   "outputs": [
    {
     "name": "stdout",
     "output_type": "stream",
     "text": [
      "The first point =  0 0\n",
      "The second point =  1 0\n",
      "The third point =  0 1\n"
     ]
    }
   ],
   "source": [
    "print(\"The first point = \",sympy.simplify(solution[a]*x0+solution[b]*y0+solution[e]),sympy.simplify(solution[c]*x0+solution[d]*y0+solution[f]))\n",
    "print(\"The second point = \",sympy.simplify(solution[a]*x1+solution[b]*y1+solution[e]),sympy.simplify(solution[c]*x1+solution[d]*y1+solution[f]))\n",
    "print(\"The third point = \",sympy.simplify(solution[a]*x2+solution[b]*y2+solution[e]),sympy.simplify(solution[c]*x2+solution[d]*y2+solution[f]))"
   ]
  },
  {
   "cell_type": "markdown",
   "metadata": {},
   "source": [
    "Therefore the transformation is as follows:\n",
    "$$\n",
    "\\begin{aligned}\n",
    "&s =\\frac{-y_0 + y_2}{2 A} x + \\frac{x_0 - x_2}{2 A} y + \\frac{-x_0 y_2 + x_2 y_0}{2 A}\\\\\n",
    "&t = \\frac{y_0 - y_1}{2 A} x + \\frac{-x_0 + x_1}{2 A} y + \\frac{x_0 y_1 - x_1 y_0}{2 A}\n",
    "\\end{aligned}\n",
    "$$\n",
    "where $2 A = x_0 y_1 - x_0 y_2 - x_1 y_0 + x_1 y_2 + x_2 y_0 - x_2 y_1$ is double area of the original triangle. "
   ]
  },
  {
   "cell_type": "markdown",
   "metadata": {},
   "source": [
    "Now let's represent the new variables' derivatives through the old ones:\n",
    "$$\n",
    "\\begin{aligned}\n",
    "ds =\\frac{-y_0 + y_2}{2 A} dx + \\frac{x_0 - x_2}{2 A} dy \\\\\n",
    "dt = \\frac{y_0 - y_1}{2 A} dx + \\frac{-x_0 + x_1}{2 A} dy\n",
    "\\end{aligned}\n",
    "$$\n",
    "Basically the fractions become:\n",
    "$$\n",
    "\\begin{pmatrix}\n",
    "ds\\\\\n",
    "dt\n",
    "\\end{pmatrix}=\n",
    "J\n",
    "\\begin{pmatrix}\n",
    "dx\\\\\n",
    "dy\n",
    "\\end{pmatrix}\n",
    "$$\n",
    "where the Jacobian is represented as:\n",
    "$$\n",
    "J=\n",
    "\\frac{1}{2A}\\begin{pmatrix}\n",
    "-y_0 + y_2 & x_0 - x_2 \\\\\n",
    "y_0 - y_1 & -x_0 + x_1 \n",
    "\\end{pmatrix}\n",
    "$$"
   ]
  },
  {
   "cell_type": "code",
   "execution_count": 9,
   "metadata": {
    "collapsed": true
   },
   "outputs": [],
   "source": [
    "area, jacobian = sympy.symbols('area,jacobian')\n",
    "area = (x0*y1 - x0*y2 - x1*y0 + x1*y2 + x2*y0 - x2*y1)/2\n",
    "jacobian = 1/(2*area) * sympy.Matrix(((y2-y0,x0-x2),(y0-y1,-x0+x1)))"
   ]
  },
  {
   "cell_type": "code",
   "execution_count": 15,
   "metadata": {
    "collapsed": false
   },
   "outputs": [
    {
     "data": {
      "text/plain": [
       "Matrix([\n",
       "[-x0 + x1, -x0 + x2],\n",
       "[-y0 + y1, -y0 + y2]])"
      ]
     },
     "execution_count": 15,
     "metadata": {},
     "output_type": "execute_result"
    }
   ],
   "source": [
    "inv_jacobian=sympy.simplify(jacobian.inv())\n",
    "inv_jacobian"
   ]
  },
  {
   "cell_type": "code",
   "execution_count": 14,
   "metadata": {
    "collapsed": false
   },
   "outputs": [
    {
     "data": {
      "text/plain": [
       "x0*y1 - x0*y2 - x1*y0 + x1*y2 + x2*y0 - x2*y1"
      ]
     },
     "execution_count": 14,
     "metadata": {},
     "output_type": "execute_result"
    }
   ],
   "source": [
    "sympy.simplify(inv_jacobian.det())"
   ]
  },
  {
   "cell_type": "markdown",
   "metadata": {},
   "source": [
    "Or in other words:\n",
    "$$\n",
    "\\begin{pmatrix}\n",
    "dx\\\\\n",
    "dy\n",
    "\\end{pmatrix} = J^{-1}\n",
    "\\begin{pmatrix}\n",
    "ds\\\\\n",
    "dt\n",
    "\\end{pmatrix}\n",
    "$$"
   ]
  },
  {
   "cell_type": "markdown",
   "metadata": {},
   "source": [
    "Now we need to estimate certain integrals that are involved in mass and stiffness matrix:\n",
    "$$\n",
    "\\int_{\\Omega_e}{\\phi_k^e(x,y)\\phi_j^e(x,y) dx dy} = \\int_{\\Omega_\\bar{e}}{\\phi_k^\\bar{e}(s,t)\\phi_j^\\bar{e}(s,t) |J^{-1}| ds dt}\n",
    "$$"
   ]
  },
  {
   "cell_type": "markdown",
   "metadata": {},
   "source": [
    "As far as we are working in the linear  space the Jacobian is a constant depending only on the coordinates of nodes in the original space, so we can take it out of the integral:\n",
    "$$\n",
    "\\int_{\\Omega_\\bar{e}}{\\phi_k^\\bar{e}(s,t)\\phi_j^\\bar{e}(s,t) |J^{-1}| ds dt} = |J^{-1}| \\int_{\\Omega_\\bar{e}}{\\phi_k^\\bar{e}(s,t)\\phi_j^\\bar{e}(s,t)  ds dt} \n",
    "$$"
   ]
  },
  {
   "cell_type": "markdown",
   "metadata": {},
   "source": [
    "It's easy to show that the shape functions in the linear space are the following:\n",
    "$$\n",
    "\\begin{aligned}\n",
    "&\\phi_0(s,t) = 1-s-t\\\\\n",
    "&\\phi_1(s,t) = s\\\\\n",
    "&\\phi_2(s,t) = t\n",
    "\\end{aligned}\n",
    "$$"
   ]
  },
  {
   "cell_type": "markdown",
   "metadata": {},
   "source": [
    "The integrals then can be calculated as follows:\n",
    "$$\n",
    "\\int_{\\Omega^{\\bar{e}}}{\n",
    "\\begin{pmatrix}\n",
    "\\phi_0 & \\phi_1 & \\phi_2\n",
    "\\end{pmatrix}\n",
    "\\begin{pmatrix}\n",
    "\\phi_0\\\\\n",
    "\\phi_1\\\\\n",
    "\\phi_2\n",
    "\\end{pmatrix} \n",
    "ds dt\n",
    "}=\n",
    "\\frac{1}{24}\n",
    "\\begin{pmatrix}\n",
    "2 & 1 & 1\\\\\n",
    "1 & 2 & 1\\\\\n",
    "1 & 1 & 2\n",
    "\\end{pmatrix}\n",
    "$$"
   ]
  },
  {
   "cell_type": "markdown",
   "metadata": {},
   "source": [
    "Now let's derive the stiffness matrix. First of all according to the chain rule the following can be obtained:\n",
    "$$\n",
    "\\begin{aligned}\n",
    "&\\partial_x \\phi_i(x,y) = \\partial_s \\phi_i(s,t) \\partial_x s + \\partial_t \\phi_i(s,t) \\partial_x t\\\\\n",
    "&\\partial_y \\phi_i(x,y) = \\partial_s \\phi_i(s,t) \\partial_y s + \\partial_t \\phi_i(s,t) \\partial_y t\\\\\n",
    "\\end{aligned}\n",
    "$$"
   ]
  },
  {
   "cell_type": "markdown",
   "metadata": {},
   "source": [
    "Substituting expressions for $s$ and $t$ the equations become:\n",
    "$$\n",
    "\\begin{aligned}\n",
    "&\\partial_x \\phi_i(x,y) = \\partial_s \\phi_i(s,t) \\frac{-y_0 + y_2}{2 A} + \\partial_t \\phi_i(s,t) \\frac{y_0-y_1}{2 A}\\\\\n",
    "&\\partial_y \\phi_i(x,y) = \\partial_s \\phi_i(s,t) \\frac{x_0-x_2}{2 A} + \\partial_t \\phi_i(s,t) \\frac{-x_0 + x_1}{2 A}\n",
    "\\end{aligned}\n",
    "$$"
   ]
  },
  {
   "cell_type": "markdown",
   "metadata": {},
   "source": [
    "Therefore, the derivatives for the shape functions are the following:\n",
    "$$\n",
    "\\begin{aligned}\n",
    "&\\partial_x \\phi_0(x,y) = -\\frac{-y_0+y_2}{2 A} - \\frac{y_0 - y_1}{2 A} = \\frac{y_1 - y_2}{2 A} && \\partial_y \\phi_0(x,y) =-\\frac{x_0 - x_2}{2 A} - \\frac{-x_0 + x_1}{2 A} = \\frac{x_2 - x_1}{2 A} \\\\\n",
    "&\\partial_x \\phi_1(x,y) = \\frac{-y_0 +y_2}{2 A} && \\partial_y \\phi_1(x,y) = \\frac{x_0 - x_2}{2 A}\\\\\n",
    "&\\partial_x \\phi_2(x,y) = \\frac{y_0-y_1}{2 A}&& \\partial_y \\phi_2(x,y) = \\frac{-x_0+x_1}{2 A} \\\\\n",
    "\\end{aligned}\n",
    "$$"
   ]
  },
  {
   "cell_type": "markdown",
   "metadata": {},
   "source": [
    "Therefore the stiffness matrix will be the following:\n",
    "$$\n",
    "\\mathbf{A} =\\int_{\\Omega_e}{ \n",
    "\\begin{pmatrix}\n",
    "\\partial_x \\phi_0 \\partial_x \\phi_0 + \\partial_y \\phi_0 \\partial_y \\phi_0 & \\partial_x \\phi_0 \\partial_x \\phi_1 + \\partial_y \\phi_0 \\partial_y \\phi_1 & \\partial_x \\phi_0 \\partial_x \\phi_2 + \\partial_y \\phi_0 \\partial_y \\phi_2\\\\\n",
    "\\partial_x \\phi_1 \\partial_x \\phi_0 + \\partial_y \\phi_1 \\partial_y \\phi_0 & \\partial_x \\phi_1 \\partial_x \\phi_1 + \\partial_y \\phi_1 \\partial_y \\phi_1 & \\partial_x \\phi_1 \\partial_x \\phi_2 + \\partial_y \\phi_1 \\partial_y \\phi_2\\\\\n",
    "\\partial_x \\phi_2 \\partial_x \\phi_0 + \\partial_y \\phi_2 \\partial_y \\phi_0 & \\partial_x \\phi_2 \\partial_x \\phi_1 + \\partial_y \\phi_2 \\partial_y \\phi_1 & \\partial_x \\phi_2 \\partial_x \\phi_2 + \\partial_y \\phi_2 \\partial_y \\phi_2\\\\\n",
    "\\end{pmatrix}\n",
    "dV}\n",
    "$$"
   ]
  },
  {
   "cell_type": "markdown",
   "metadata": {},
   "source": [
    "The matrix $\\mathbf{A}$ is therefore the following:\n",
    "$$\n",
    "\\mathbf{A} = \n",
    "\\begin{pmatrix}\n",
    "\\frac{1}{4 A}\\Bigl((y_2-y_1)^2 + (x_2 - x_1)^2\\Bigr)& \\frac{1}{4 A} \\Bigl((y_1-y_2)(-y_0+y_2) + (x_2-x_1)(x_0-x_2)\\Bigr)& \n",
    "\\frac{1}{4 A}\\Bigl((y_1-y_2)(y_0-y_1)+(x_2-x_1)(-x_0+x_1) \\Bigr)\\\\\n",
    "\\frac{1}{4 A} \\Bigl((y_1-y_2)(-y_0+y_2) + (x_2-x_1)(x_0-x_2)\\Bigr)& \\frac{1}{4 A}\\Bigl((y_2-y_0)^2 + (x_2-x_0)^2\\Bigr)& \\frac{1}{4 A} \\Bigl((-y_0+y_2)(y_0-y_1)+(x_0-x_2)(-x_0+x_1) \\Bigr)\\\\\n",
    "\\frac{1}{4 A}\\Bigl((y_1-y_2)(y_0-y_1)+(x_2-x_1)(-x_0+x_1) \\Bigr)& \\frac{1}{4 A} \\Bigl((-y_0+y_2)(y_0-y_1)+(x_0-x_2)(-x_0+x_1) \\Bigr) & \\frac{1}{4 A}\\Bigl((y_1-y_0)^2+(x_1-x_0)^2\\Bigr) \n",
    "\\end{pmatrix}\n",
    "$$"
   ]
  },
  {
   "cell_type": "markdown",
   "metadata": {},
   "source": [
    "# Spatial discretization"
   ]
  },
  {
   "cell_type": "markdown",
   "metadata": {},
   "source": [
    "Let us generate the triangulation for the square box with the height $H$ and length $L$. We will first generate certain number of points and then perform Delaunay triangulation. "
   ]
  },
  {
   "cell_type": "code",
   "execution_count": 53,
   "metadata": {
    "collapsed": true
   },
   "outputs": [],
   "source": [
    "L = 1.0\n",
    "H = 2.0\n",
    "NX = 10\n",
    "NY = 20\n",
    "NPOINTS = 200"
   ]
  },
  {
   "cell_type": "code",
   "execution_count": 54,
   "metadata": {
    "collapsed": false
   },
   "outputs": [
    {
     "name": "stdout",
     "output_type": "stream",
     "text": [
      "[[ 0.          0.        ]\n",
      " [ 1.          0.        ]\n",
      " [ 1.          2.        ]\n",
      " [ 0.          2.        ]\n",
      " [ 0.04013307  0.        ]\n",
      " [ 0.25939807  0.        ]\n",
      " [ 0.87657872  0.        ]\n",
      " [ 0.29099537  0.        ]\n",
      " [ 0.95160269  0.        ]\n",
      " [ 0.8593464   0.        ]\n",
      " [ 0.80562578  0.        ]\n",
      " [ 0.51200028  0.        ]\n",
      " [ 1.          1.57000563]\n",
      " [ 1.          1.78217149]\n",
      " [ 1.          1.09979995]\n",
      " [ 1.          0.17061274]\n",
      " [ 1.          0.47278527]\n",
      " [ 1.          0.6806148 ]\n",
      " [ 1.          1.70053239]\n",
      " [ 1.          1.99549345]\n",
      " [ 0.40093772  2.        ]\n",
      " [ 0.85438772  2.        ]\n",
      " [ 0.03952745  2.        ]\n",
      " [ 0.32049438  2.        ]\n",
      " [ 0.98356848  2.        ]\n",
      " [ 0.83503883  2.        ]\n",
      " [ 0.68602079  2.        ]\n",
      " [ 0.93639067  2.        ]\n",
      " [ 0.          1.54127045]\n",
      " [ 0.          0.61923922]\n",
      " [ 0.          1.86964312]\n",
      " [ 0.          0.28278697]\n",
      " [ 0.          0.29097588]\n",
      " [ 0.          0.58834454]\n",
      " [ 0.          0.34827178]\n",
      " [ 0.          1.29267498]\n",
      " [ 0.07762923  0.44295668]\n",
      " [ 0.59476315  0.10193227]\n",
      " [ 0.01876413  0.99306676]\n",
      " [ 0.26336929  1.58584375]\n",
      " [ 0.33626161  1.91649978]\n",
      " [ 0.4652925   0.7806169 ]\n",
      " [ 0.69230041  1.85356914]\n",
      " [ 0.12496518  1.69990957]\n",
      " [ 0.10023212  1.32534797]\n",
      " [ 0.00749798  1.59052049]\n",
      " [ 0.66236686  1.37442621]\n",
      " [ 0.92376938  0.11654987]\n",
      " [ 0.26405511  1.13732749]\n",
      " [ 0.60751158  1.44680573]\n",
      " [ 0.84268497  1.16156483]\n",
      " [ 0.91132564  0.56763851]\n",
      " [ 0.89344005  0.69589902]\n",
      " [ 0.48692926  0.27633255]\n",
      " [ 0.75195588  1.54789918]\n",
      " [ 0.67808737  1.99662681]\n",
      " [ 0.9934097   1.84006901]\n",
      " [ 0.72367346  0.80785977]\n",
      " [ 0.22126817  0.42434761]\n",
      " [ 0.09840668  0.47767116]\n",
      " [ 0.43945692  1.29255827]\n",
      " [ 0.7857666   0.71109795]\n",
      " [ 0.16568657  0.36584907]\n",
      " [ 0.05416978  0.20316509]\n",
      " [ 0.65610553  1.98815585]\n",
      " [ 0.64932317  1.97701936]\n",
      " [ 0.90809694  0.43129089]\n",
      " [ 0.32704904  1.73057363]\n",
      " [ 0.11299801  0.34957292]\n",
      " [ 0.31640936  0.48549462]\n",
      " [ 0.50388868  0.28690649]\n",
      " [ 0.82935493  0.94236584]\n",
      " [ 0.00450215  0.40643096]\n",
      " [ 0.810798    1.66877539]\n",
      " [ 0.68060956  1.68486966]\n",
      " [ 0.78530965  1.38920023]\n",
      " [ 0.17662517  1.60765758]\n",
      " [ 0.43143053  1.7624704 ]\n",
      " [ 0.19795671  0.02863113]\n",
      " [ 0.10643716  0.43636525]\n",
      " [ 0.75451961  1.18594018]\n",
      " [ 0.80050987  0.80640025]\n",
      " [ 0.58533743  1.37274384]\n",
      " [ 0.37319613  0.62873467]\n",
      " [ 0.95756617  0.11582745]\n",
      " [ 0.90964436  0.27253014]\n",
      " [ 0.65571421  0.73665819]\n",
      " [ 0.17797397  1.62295643]\n",
      " [ 0.80733596  1.16036387]\n",
      " [ 0.79515907  0.74361907]\n",
      " [ 0.13246445  1.37978598]\n",
      " [ 0.9011469   0.62646342]\n",
      " [ 0.78799882  1.50960335]\n",
      " [ 0.36264448  0.9860198 ]\n",
      " [ 0.6571899   1.7021531 ]\n",
      " [ 0.42541736  0.94789057]\n",
      " [ 0.03155473  0.50758   ]\n",
      " [ 0.88892091  0.67601436]\n",
      " [ 0.10078747  1.62326864]\n",
      " [ 0.84558371  0.84823656]\n",
      " [ 0.19463731  1.26165394]\n",
      " [ 0.28930143  1.21979297]\n",
      " [ 0.83743857  0.59897508]\n",
      " [ 0.57742954  0.21867856]\n",
      " [ 0.69369816  1.30881847]\n",
      " [ 0.56469317  0.16283978]\n",
      " [ 0.22400625  1.21529755]\n",
      " [ 0.66718422  1.12246182]\n",
      " [ 0.80919896  0.35026199]\n",
      " [ 0.52820918  0.80830584]\n",
      " [ 0.25203691  1.34930364]\n",
      " [ 0.86093075  1.67178579]\n",
      " [ 0.4158098   0.25312147]\n",
      " [ 0.36832989  1.6080779 ]\n",
      " [ 0.37910534  1.85536385]\n",
      " [ 0.78458819  0.77432851]\n",
      " [ 0.96074537  1.48397249]\n",
      " [ 0.42520597  1.95446952]\n",
      " [ 0.33367505  1.22261567]\n",
      " [ 0.05607751  1.88189392]\n",
      " [ 0.90595013  0.01670329]\n",
      " [ 0.43632932  1.07247243]\n",
      " [ 0.32938765  1.85735835]\n",
      " [ 0.52540239  1.90952893]\n",
      " [ 0.50812039  0.07874421]\n",
      " [ 0.01287036  1.68646696]\n",
      " [ 0.52420303  0.66812408]\n",
      " [ 0.46269869  1.43999285]\n",
      " [ 0.04661132  1.60526774]\n",
      " [ 0.49649309  0.38650587]\n",
      " [ 0.71019514  0.13332606]\n",
      " [ 0.45643255  0.78798998]\n",
      " [ 0.88294454  1.05422621]\n",
      " [ 0.45363033  0.18287363]\n",
      " [ 0.40666293  1.21112259]\n",
      " [ 0.70717668  1.32621358]\n",
      " [ 0.61126023  1.12662842]\n",
      " [ 0.58101273  0.79523514]\n",
      " [ 0.23431976  1.54199511]\n",
      " [ 0.76991618  1.01027179]\n",
      " [ 0.15847051  0.71090017]\n",
      " [ 0.58840956  0.72984743]\n",
      " [ 0.23525707  1.50830681]\n",
      " [ 0.07511141  1.80484077]\n",
      " [ 0.10042583  0.80003321]\n",
      " [ 0.56928574  1.73937039]\n",
      " [ 0.28720148  1.72551302]\n",
      " [ 0.11791512  0.7569947 ]\n",
      " [ 0.74483199  1.53140763]\n",
      " [ 0.86230455  1.41130732]\n",
      " [ 0.34594733  1.00720993]\n",
      " [ 0.12836001  0.518227  ]\n",
      " [ 0.9802745   1.91121256]\n",
      " [ 0.25214394  0.42716603]\n",
      " [ 0.41259329  1.95255479]\n",
      " [ 0.47048969  0.39749908]\n",
      " [ 0.56521875  0.15232183]\n",
      " [ 0.58176778  0.70849773]\n",
      " [ 0.28870792  0.05045404]\n",
      " [ 0.46298065  0.01360063]\n",
      " [ 0.8364775   1.00903824]\n",
      " [ 0.89743483  1.76078956]\n",
      " [ 0.95762931  1.86247628]\n",
      " [ 0.23510856  0.79348249]\n",
      " [ 0.17636213  0.44392934]\n",
      " [ 0.02695047  1.65943006]\n",
      " [ 0.05747571  0.24965214]\n",
      " [ 0.03409189  1.1788768 ]\n",
      " [ 0.2889484   0.95859986]\n",
      " [ 0.87481421  0.23415889]\n",
      " [ 0.33312513  1.38617977]\n",
      " [ 0.04974167  1.16024254]\n",
      " [ 0.35618977  0.3220183 ]\n",
      " [ 0.54823471  1.86718202]\n",
      " [ 0.0760268   0.75242926]\n",
      " [ 0.30035422  1.00065997]\n",
      " [ 0.78326666  0.2853067 ]\n",
      " [ 0.40044301  0.27677282]\n",
      " [ 0.58271954  0.39207248]\n",
      " [ 0.32283079  0.46574165]\n",
      " [ 0.49024247  1.71525272]\n",
      " [ 0.20181696  0.01849783]\n",
      " [ 0.98125967  0.50314873]\n",
      " [ 0.75459124  0.18470859]\n",
      " [ 0.92900961  0.98189012]\n",
      " [ 0.72019907  0.21248408]\n",
      " [ 0.44737524  0.27218535]\n",
      " [ 0.56918774  0.80375964]\n",
      " [ 0.72568569  1.39687691]\n",
      " [ 0.8324633   0.32951441]\n",
      " [ 0.19762768  0.01875133]\n",
      " [ 0.45415026  1.64131059]\n",
      " [ 0.70833609  1.05677302]\n",
      " [ 0.2016581   0.82520626]\n",
      " [ 0.3440142   1.12167454]\n",
      " [ 0.23105621  1.42474137]\n",
      " [ 0.0770689   1.36548285]\n",
      " [ 0.32504259  0.04733038]\n",
      " [ 0.946279    0.83297215]\n",
      " [ 0.04754059  1.24713571]]\n"
     ]
    }
   ],
   "source": [
    "import random\n",
    "import numpy\n",
    "points = numpy.zeros((NPOINTS,2))\n",
    "points[0,0] = 0.0\n",
    "points[0,1] = 0.0\n",
    "points[1,0] = L\n",
    "points[1,1] = 0.0\n",
    "points[2,0] = L\n",
    "points[2,1] = H\n",
    "points[3,0] = 0\n",
    "points[3,1] = H\n",
    "\n",
    "for i in range(8):\n",
    "    points[4+i,0] = random.random() * L\n",
    "    points[4+i,1] = 0\n",
    "    points[12+i,0] = L\n",
    "    points[12+i,1] = random.random() * H\n",
    "    points[20+i,0] = random.random() * L\n",
    "    points[20+i,1] = H\n",
    "    points[28+i,0] = 0\n",
    "    points[28+i,1] = random.random() * H    \n",
    "    \n",
    "for i in range(NPOINTS-36):\n",
    "    points[i+36,0] = random.random() * L\n",
    "    points[i+36,1] = random.random() * H\n",
    "print(points)"
   ]
  },
  {
   "cell_type": "code",
   "execution_count": 55,
   "metadata": {
    "collapsed": false
   },
   "outputs": [
    {
     "data": {
      "text/plain": [
       "[<matplotlib.lines.Line2D at 0x117925230b8>]"
      ]
     },
     "execution_count": 55,
     "metadata": {},
     "output_type": "execute_result"
    },
    {
     "data": {
      "image/png": "[encoded data removed]",
      "text/plain": [
       "<matplotlib.figure.Figure at 0x11791432a58>"
      ]
     },
     "metadata": {},
     "output_type": "display_data"
    }
   ],
   "source": [
    "from scipy.spatial import Delaunay\n",
    "\n",
    "tri = Delaunay(points)\n",
    "\n",
    "pylab.triplot(points[:,0], points[:,1], tri.simplices)\n",
    "pylab.plot(points[:,0], points[:,1], 'o')"
   ]
  }
 ],
 "metadata": {
  "kernelspec": {
   "display_name": "Python 3",
   "language": "python",
   "name": "python3"
  },
  "language_info": {
   "codemirror_mode": {
    "name": "ipython",
    "version": 3
   },
   "file_extension": ".py",
   "mimetype": "text/x-python",
   "name": "python",
   "nbconvert_exporter": "python",
   "pygments_lexer": "ipython3",
   "version": "3.6.0"
  }
 },
 "nbformat": 4,
 "nbformat_minor": 2
}
