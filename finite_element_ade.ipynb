{
 "cells": [
  {
   "cell_type": "markdown",
   "metadata": {},
   "source": [
    "# Finite Element Advection Diffusion Equation"
   ]
  },
  {
   "cell_type": "markdown",
   "metadata": {},
   "source": [
    "## Weak formulation"
   ]
  },
  {
   "cell_type": "markdown",
   "metadata": {},
   "source": [
    "We will start with the 2D pure conduction equation:\n",
    "$$\\rho c \\frac{\\partial T}{\\partial t} = \\frac{\\partial}{\\partial x}\\biggl(k \\frac{\\partial T}{\\partial x}\\biggr) + \\frac{\\partial}{\\partial y}\\biggl(k \\frac{\\partial T}{\\partial y}\\biggr)$$\n",
    "where $k$ is the material conductivity, $\\rho$ is the material density, $c$ is the material capacitance.  "
   ]
  },
  {
   "cell_type": "markdown",
   "metadata": {},
   "source": [
    "Let's multiply each side of the equation on the test function (shape function) $\\phi$ and integrate it over the domain volume $\\Omega$):\n",
    "$$\n",
    "\\int_{\\Omega}{\\rho c \\frac{\\partial T}{\\partial t} \\phi_e dx dy} = \\int_{\\Omega}{\\frac{\\partial}{\\partial x}\\biggl(k \\frac{\\partial{T}}{\\partial x} \\biggr)\\phi_e dx dy} + \\int_{\\Omega}{\\frac{\\partial}{\\partial y}\\biggl(k \\frac{\\partial{T}}{\\partial y}\\biggr) \\phi_e dx dy} \n",
    "$$"
   ]
  },
  {
   "cell_type": "markdown",
   "metadata": {},
   "source": [
    "We need to use Gauss-Ostrogradsky theorem which is represented as:\n",
    "$$\\int_{\\Omega}{\\mathbf{\\nabla}\\cdot \\mathbf{F} dV} = \\int_{\\partial\\Omega}{\\mathbf{F}\\cdot\\mathbf{n}} dS$$\n",
    "\n",
    "Notice also, that the following can be represented as:\n",
    "$$\\mathbf{\\nabla}\\cdot \\phi \\mathbf{\\nabla} G = \\phi \\mathbf{\\nabla}\\cdot\\mathbf{\\nabla G} + \\mathbf{\\nabla}\\phi\\cdot\\mathbf{\\nabla}G$$\n"
   ]
  },
  {
   "cell_type": "markdown",
   "metadata": {},
   "source": [
    "Assuming that $k$, $\\rho$ and $c$ are all constants and $G=k T$, the following is obtained:\n",
    "$$\n",
    "\\int_{\\Omega}{\\rho c \\partial_t T \\phi dV} =\\int_{\\partial \\Omega}{k\\partial_n T \\phi dS} - \\int_{\\Omega}{\\biggl(k \\partial_x T \\partial_x \\phi + k \\partial_y T \\partial_y \\phi\\biggr) dV}\n",
    "$$"
   ]
  },
  {
   "cell_type": "markdown",
   "metadata": {},
   "source": [
    "We now need to take integrals over the boundary. For the Newmann boundary condition there is a prescribed flux boundary condition: $k\\partial_n T|_{\\partial \\Omega_N} = g_N$. Whenever on boundary we have a prescribed Dirichlet boundary condition, i.e. $T|_{\\partial \\Omega_D} = g_D$, to avoid calculating the integral over the boundary $\\int_{\\partial \\Omega}{k\\partial_n T\\phi dS}$ for Dirichlet boundary condition we ask a test function to have a zero value on the boudnary $\\phi|_{\\partial \\Omega_D} = 0$."
   ]
  },
  {
   "cell_type": "markdown",
   "metadata": {},
   "source": [
    "Therefore the following integral can be calculated as follows:\n",
    "$$\n",
    "\\int_{\\Omega}{\\rho c \\partial_t T \\phi dV} =\\int_{\\partial \\Omega_N}{g_N \\phi dS} - \\int_{\\Omega}{\\biggl(k \\partial_x T \\partial_x \\phi + k \\partial_y T \\partial_y \\phi\\biggr) dV}\n",
    "$$"
   ]
  },
  {
   "cell_type": "markdown",
   "metadata": {},
   "source": [
    "Now we approximate the test function $\\phi$ from the space of the first order polynomials defined in the whole domain. We also approximate the temperature function as the summation through all possible first order polynomials. However, it's almost impossible to work with all possible first order polynomials in space and represent the temperature through their summation ($\\sum_{i=0}^{\\infty}{a_i x + b_i y + c_i}$). \n",
    "\n",
    "Instead, we introduce the discretization of space into certain geometrical features, say the domain $\\Omega$ is subdivided onto $M$ features (triangles in our case) and have $N$ nodes. \n",
    "\n",
    "In each geometrical feature $ e = 1..M$ the solution is represented through one of polynomials. Assuming that we have a basis for polynomials in this geometrical feature, one can write:  \n",
    "$$\n",
    "T_e = \\sum_{j=1}^{d}{a_j \\phi^e_j(x,y)},\n",
    "$$\n",
    "where $a_j$ are the weights, $d$ is the number of coefficients, $\\phi_j^e$ is the linear shape function corresponding to the node $j$ of the element $e$. \n",
    "\n",
    "A few things to note in triangle we have only three points that will be searched for in the final solution, so we will have only three basis functions inside the triangle.  At this particular point nothing stops us to assume that the shape function takes $1$ at node itself and $0$ at any other nodes. So the profile of temperatures inside the geometrical feature $e$ can be represented through its nodal values:\n",
    "$$\n",
    "T_e = \\sum_{j=1}^{d}{T_j^e \\phi^e_j(x,y)},\n",
    "$$\n",
    "where $\\phi^e_j(x_j,y_j) = 1$ and $\\phi^e_j(x_k,y_k)=0$ for $j\\neq k$ ($x_j,y_j$ are coordinates of the node $j$). Also, outside the element $e$ this shape function equals zero. Notice, that each shape function is represented as $\\phi^e_j(x,y) = a_j x + b_j y +c_j$."
   ]
  },
  {
   "cell_type": "markdown",
   "metadata": {},
   "source": [
    "Now the big integral (assuming that the basis function has non-zero value only inside the corresponding triangle), then the whole integral is taken as summation over the geometrical features. If we take the test function to be a shape function, then the integral with this shape function $\\phi^e_j$ will be taken only inside the corresponding geometrical feature:\n",
    "$$\n",
    "\\int_{\\Omega^e}{\\rho c \\partial_t \\sum_k{T_k^e \\phi^e_k} \\phi^e_j dV}=\\int_{\\partial\\Omega_N^e}{g^e_N \\phi_j^e dS} - \\int_{\\Omega^e}{\\biggl(k\\partial_x \\phi_j^e \\sum_k{T_k^e \\partial_x \\phi_k^e + k\\partial_y \\phi_j^e \\sum_k{T_k^e \\partial_y \\phi_k^e}}\\biggr)}\n",
    "$$"
   ]
  },
  {
   "cell_type": "markdown",
   "metadata": {},
   "source": [
    "We discretize in time using the implicit discretization:\n",
    "$$\n",
    "\\partial_t T_k^e = \\frac{{T_k^e}_{n+1}-{T_k^e}_n}{t_{n+1}-t_n}\n",
    "$$\n"
   ]
  },
  {
   "cell_type": "markdown",
   "metadata": {},
   "source": [
    "Eventually we will have the linear system involving the nodal temperatures. Let us see derive this matrix:\n",
    "$$\n",
    "\\int_{\\Omega^e}{\\frac{\\rho c}{t_{n+1}-t_n}  \\sum_k{\\bigl({T_k^e}_{n+1}-{T_k^e}_n\\bigr) \\phi^e_k} \\phi^e_j dV}=\\int_{\\partial\\Omega_N^e}{{g^e_N}_{n+1} \\phi_j^e dS} - \\int_{\\Omega^e}{\\biggl(k\\partial_x \\phi_j^e \\sum_k{{T_k^e}_{n+1} \\partial_x \\phi_k^e + k\\partial_y \\phi_j^e \\sum_k{{T_k^e}_{n+1} \\partial_y \\phi_k^e}}\\biggr)}\n",
    "$$"
   ]
  },
  {
   "cell_type": "markdown",
   "metadata": {},
   "source": [
    "For each element we have the following coefficients:\n",
    "$$\n",
    "\\frac{\\rho c}{t_{n+1}-t_n}\\sum_k{{T_k^e}_{n+1} M_{kj}}-\\frac{\\rho c}{t_{n+1}-t_n}\\sum_k{{T_k^e}_n M_{kj}} = \n",
    "\\int_{\\partial_{\\Omega^e_N}}{{g^e_N}_{n+1}\\phi^e_j dS} - k\\sum_k{{T_k^e}_{n+1} A_{kj}},\n",
    "$$\n",
    "where the mass matrix is $M_{kj} = \\int_{\\Omega^e}{\\phi_k^e\\phi_j^e dV}$ and the stiffness matrix $A_{kj} = \\int_{\\Omega^e}{\\bigl(\\partial_x \\phi_k^e \\partial_x\\phi_j^e +\\partial_y \\phi_k^e \\partial_y\\phi_j^e \\bigr)}$."
   ]
  },
  {
   "cell_type": "markdown",
   "metadata": {},
   "source": [
    "Overall we can obtain the matrix equation:\n",
    "$$\n",
    "\\frac{\\rho c}{t_{n+1}-t_n} \\mathbf{M} \\mathbf{T}_{n+1} + k \\mathbf{A} T_{n+1} = \\mathbf{G}_{n+1}+\\frac{\\rho c}{t_{n+1}-t_n} \\mathbf{M}\\mathbf{T}_n \n",
    "$$"
   ]
  },
  {
   "cell_type": "markdown",
   "metadata": {},
   "source": [
    "This equation is valid only for one element but eventually we will have many elements contributing to the same node. It means that the contributions need to be summed up."
   ]
  },
  {
   "cell_type": "markdown",
   "metadata": {},
   "source": [
    "# Shape functions"
   ]
  },
  {
   "cell_type": "markdown",
   "metadata": {},
   "source": [
    "So far we didn't talk much about the shape functions. Those need to equal $1$ on the corresponding node and $0$ on another one. Given arbitrary coordinates of the triangle, we kind of need to come up with the new shape functions formulation for each new triangle. Instead, we will offer the basic form of the shape functions.\n",
    "\n",
    "Each triangle with coordinates of vertices $(x_0,y_0)$, $(x_1,y_1)$ and $(x_2,y_2)$ is transformed to the basis triangle with coordinates  $(0,0)$, $(1,0)$ and $(1,1)$. We call this transformation from $\\Omega_e$ to $\\Omega_{\\bar{e}}$.\n",
    "\n",
    "<img src=\"mapping.png\"/>"
   ]
  },
  {
   "cell_type": "markdown",
   "metadata": {},
   "source": [
    "Let's derive the transformation matrix:\n",
    "$$\n",
    "\\begin{pmatrix}\n",
    "0\\\\\n",
    "0\n",
    "\\end{pmatrix} = \n",
    "A \n",
    "\\begin{pmatrix}\n",
    "x_0\\\\\n",
    "y_0\\\\\n",
    "\\end{pmatrix} + B\n",
    "$$\n",
    "$$\n",
    "\\begin{pmatrix}\n",
    "1\\\\\n",
    "0\n",
    "\\end{pmatrix} = \n",
    "A \n",
    "\\begin{pmatrix}\n",
    "x_1\\\\\n",
    "y_1\\\\\n",
    "\\end{pmatrix} + B\n",
    "$$\n",
    "$$\n",
    "\\begin{pmatrix}\n",
    "0\\\\\n",
    "1\n",
    "\\end{pmatrix} = \n",
    "A \n",
    "\\begin{pmatrix}\n",
    "x_2\\\\\n",
    "y_2\\\\\n",
    "\\end{pmatrix} + B\n",
    "$$\n",
    "\n"
   ]
  },
  {
   "cell_type": "code",
   "execution_count": 1,
   "metadata": {},
   "outputs": [
    {
     "name": "stdout",
     "output_type": "stream",
     "text": [
      "Populating the interactive namespace from numpy and matplotlib\n"
     ]
    },
    {
     "name": "stderr",
     "output_type": "stream",
     "text": [
      "/home/shurik/anaconda3/lib/python3.6/site-packages/IPython/core/magics/pylab.py:160: UserWarning: pylab import has clobbered these variables: ['pylab']\n",
      "`%matplotlib` prevents importing * from pylab and numpy\n",
      "  \"\\n`%matplotlib` prevents importing * from pylab and numpy\"\n"
     ]
    }
   ],
   "source": [
    "import pylab\n",
    "%pylab inline\n",
    "import sympy"
   ]
  },
  {
   "cell_type": "code",
   "execution_count": 2,
   "metadata": {},
   "outputs": [],
   "source": [
    "x0,y0,x1,y1,x2,y2 = sympy.symbols('x0,y0,x1,y1,x2,y2')"
   ]
  },
  {
   "cell_type": "markdown",
   "metadata": {},
   "source": [
    "Matrix $A$ and vector $B$ represent the transformation:\n",
    "$$\n",
    "A = \n",
    "\\begin{pmatrix}\n",
    "a&b\\\\\n",
    "c&d\\\\\n",
    "\\end{pmatrix}\n",
    "$$\n",
    "$$\n",
    "B=\n",
    "\\begin{pmatrix}\n",
    "e\\\\\n",
    "f\n",
    "\\end{pmatrix}\n",
    "$$"
   ]
  },
  {
   "cell_type": "markdown",
   "metadata": {},
   "source": [
    "In terms of unknown things, i.e. $a$,$b$,$c$,$d$,$e$,$f$, we can write the following:\n",
    "$$\n",
    "\\begin{pmatrix}\n",
    "0\\\\\n",
    "0\\\\\n",
    "1\\\\\n",
    "0\\\\\n",
    "0\\\\\n",
    "1\n",
    "\\end{pmatrix} = \n",
    "\\begin{pmatrix}\n",
    "x_0&y_0&1&0&0&0\\\\\n",
    "0&0&0&x_0&y_0&1\\\\\n",
    "x_1&y_1&1&0&0&0\\\\\n",
    "0&0&0&x_1&y_1&1\\\\\n",
    "x_2&y_2&1&0&0&0\\\\\n",
    "0&0&0&x_2&y_2&1\\\\\n",
    "\\end{pmatrix}\n",
    "\\begin{pmatrix}\n",
    "a\\\\\n",
    "b\\\\\n",
    "e\\\\\n",
    "c\\\\\n",
    "d\\\\\n",
    "f\n",
    "\\end{pmatrix}\n",
    "$$"
   ]
  },
  {
   "cell_type": "code",
   "execution_count": 3,
   "metadata": {},
   "outputs": [],
   "source": [
    "a,b,c,d,e,f = sympy.symbols('a,b,c,d,e,f')\n",
    "system = sympy.Matrix(((x0,y0,1,0,0,0,0),(0,0,0,x0,y0,1,0),(x1,y1,1,0,0,0,1),(0,0,0,x1,y1,1,0),(x2,y2,1,0,0,0,0),(0,0,0,x2,y2,1,1)))"
   ]
  },
  {
   "cell_type": "code",
   "execution_count": 4,
   "metadata": {},
   "outputs": [
    {
     "data": {
      "text/plain": [
       "{a: (-y0 + y2)/(x0*y1 - x0*y2 - x1*y0 + x1*y2 + x2*y0 - x2*y1),\n",
       " b: (x0 - x2)/(x0*y1 - x0*y2 - x1*y0 + x1*y2 + x2*y0 - x2*y1),\n",
       " c: (y0 - y1)/(x0*y1 - x0*y2 - x1*y0 + x1*y2 + x2*y0 - x2*y1),\n",
       " d: (-x0 + x1)/(x0*y1 - x0*y2 - x1*y0 + x1*y2 + x2*y0 - x2*y1),\n",
       " e: (-x0*y2 + x2*y0)/(x0*y1 - x0*y2 - x1*y0 + x1*y2 + x2*y0 - x2*y1),\n",
       " f: (x0*y1 - x1*y0)/(x0*y1 - x0*y2 - x1*y0 + x1*y2 + x2*y0 - x2*y1)}"
      ]
     },
     "execution_count": 4,
     "metadata": {},
     "output_type": "execute_result"
    }
   ],
   "source": [
    "solution=sympy.solve_linear_system(system,a,b,e,c,d,f)\n",
    "solution"
   ]
  },
  {
   "cell_type": "markdown",
   "metadata": {},
   "source": [
    "Let's check if we obtained equations right:"
   ]
  },
  {
   "cell_type": "code",
   "execution_count": 5,
   "metadata": {},
   "outputs": [
    {
     "name": "stdout",
     "output_type": "stream",
     "text": [
      "The first point =  0 0\n",
      "The second point =  1 0\n",
      "The third point =  0 1\n"
     ]
    }
   ],
   "source": [
    "print(\"The first point = \",sympy.simplify(solution[a]*x0+solution[b]*y0+solution[e]),sympy.simplify(solution[c]*x0+solution[d]*y0+solution[f]))\n",
    "print(\"The second point = \",sympy.simplify(solution[a]*x1+solution[b]*y1+solution[e]),sympy.simplify(solution[c]*x1+solution[d]*y1+solution[f]))\n",
    "print(\"The third point = \",sympy.simplify(solution[a]*x2+solution[b]*y2+solution[e]),sympy.simplify(solution[c]*x2+solution[d]*y2+solution[f]))"
   ]
  },
  {
   "cell_type": "markdown",
   "metadata": {},
   "source": [
    "Therefore the transformation is as follows:\n",
    "$$\n",
    "\\begin{aligned}\n",
    "&s =\\frac{-y_0 + y_2}{2 A} x + \\frac{x_0 - x_2}{2 A} y + \\frac{-x_0 y_2 + x_2 y_0}{2 A}\\\\\n",
    "&t = \\frac{y_0 - y_1}{2 A} x + \\frac{-x_0 + x_1}{2 A} y + \\frac{x_0 y_1 - x_1 y_0}{2 A}\n",
    "\\end{aligned}\n",
    "$$\n",
    "where $2 A = x_0 y_1 - x_0 y_2 - x_1 y_0 + x_1 y_2 + x_2 y_0 - x_2 y_1$ is double area of the original triangle. "
   ]
  },
  {
   "cell_type": "markdown",
   "metadata": {},
   "source": [
    "Now let's represent the new variables' derivatives through the old ones:\n",
    "$$\n",
    "\\begin{aligned}\n",
    "ds =\\frac{-y_0 + y_2}{2 A} dx + \\frac{x_0 - x_2}{2 A} dy \\\\\n",
    "dt = \\frac{y_0 - y_1}{2 A} dx + \\frac{-x_0 + x_1}{2 A} dy\n",
    "\\end{aligned}\n",
    "$$\n",
    "Basically the fractions become:\n",
    "$$\n",
    "\\begin{pmatrix}\n",
    "ds\\\\\n",
    "dt\n",
    "\\end{pmatrix}=\n",
    "J\n",
    "\\begin{pmatrix}\n",
    "dx\\\\\n",
    "dy\n",
    "\\end{pmatrix}\n",
    "$$\n",
    "where the Jacobian is represented as:\n",
    "$$\n",
    "J=\n",
    "\\frac{1}{2A}\\begin{pmatrix}\n",
    "-y_0 + y_2 & x_0 - x_2 \\\\\n",
    "y_0 - y_1 & -x_0 + x_1 \n",
    "\\end{pmatrix}\n",
    "$$"
   ]
  },
  {
   "cell_type": "code",
   "execution_count": 6,
   "metadata": {},
   "outputs": [],
   "source": [
    "area, jacobian = sympy.symbols('area,jacobian')\n",
    "area = (x0*y1 - x0*y2 - x1*y0 + x1*y2 + x2*y0 - x2*y1)/2\n",
    "jacobian = 1/(2*area) * sympy.Matrix(((y2-y0,x0-x2),(y0-y1,-x0+x1)))"
   ]
  },
  {
   "cell_type": "code",
   "execution_count": 7,
   "metadata": {},
   "outputs": [
    {
     "data": {
      "text/plain": [
       "Matrix([\n",
       "[-x0 + x1, -x0 + x2],\n",
       "[-y0 + y1, -y0 + y2]])"
      ]
     },
     "execution_count": 7,
     "metadata": {},
     "output_type": "execute_result"
    }
   ],
   "source": [
    "inv_jacobian=sympy.simplify(jacobian.inv())\n",
    "inv_jacobian"
   ]
  },
  {
   "cell_type": "code",
   "execution_count": 8,
   "metadata": {},
   "outputs": [
    {
     "data": {
      "text/plain": [
       "(x0 - x1)*(y0 - y2) - (x0 - x2)*(y0 - y1)"
      ]
     },
     "execution_count": 8,
     "metadata": {},
     "output_type": "execute_result"
    }
   ],
   "source": [
    "sympy.simplify(inv_jacobian.det())"
   ]
  },
  {
   "cell_type": "markdown",
   "metadata": {},
   "source": [
    "Or in other words:\n",
    "$$\n",
    "\\begin{pmatrix}\n",
    "dx\\\\\n",
    "dy\n",
    "\\end{pmatrix} = J^{-1}\n",
    "\\begin{pmatrix}\n",
    "ds\\\\\n",
    "dt\n",
    "\\end{pmatrix}\n",
    "$$"
   ]
  },
  {
   "cell_type": "markdown",
   "metadata": {},
   "source": [
    "Now we need to estimate certain integrals that are involved in mass and stiffness matrix:\n",
    "$$\n",
    "\\int_{\\Omega_e}{\\phi_k^e(x,y)\\phi_j^e(x,y) dx dy} = \\int_{\\Omega_\\bar{e}}{\\phi_k^\\bar{e}(s,t)\\phi_j^\\bar{e}(s,t) |J^{-1}| ds dt}\n",
    "$$"
   ]
  },
  {
   "cell_type": "markdown",
   "metadata": {},
   "source": [
    "As far as we are working in the linear  space the Jacobian is a constant depending only on the coordinates of nodes in the original space, so we can take it out of the integral:\n",
    "$$\n",
    "\\int_{\\Omega_\\bar{e}}{\\phi_k^\\bar{e}(s,t)\\phi_j^\\bar{e}(s,t) |J^{-1}| ds dt} = |J^{-1}| \\int_{\\Omega_\\bar{e}}{\\phi_k^\\bar{e}(s,t)\\phi_j^\\bar{e}(s,t)  ds dt} \n",
    "$$"
   ]
  },
  {
   "cell_type": "markdown",
   "metadata": {},
   "source": [
    "It's easy to show that the shape functions in the linear space are the following:\n",
    "$$\n",
    "\\begin{aligned}\n",
    "&\\phi_0(s,t) = 1-s-t\\\\\n",
    "&\\phi_1(s,t) = s\\\\\n",
    "&\\phi_2(s,t) = t\n",
    "\\end{aligned}\n",
    "$$"
   ]
  },
  {
   "cell_type": "markdown",
   "metadata": {},
   "source": [
    "The integrals then can be calculated as follows:\n",
    "$$\n",
    "\\int_{\\Omega^{\\bar{e}}}{\n",
    "\\begin{pmatrix}\n",
    "\\phi_0 & \\phi_1 & \\phi_2\n",
    "\\end{pmatrix}\n",
    "\\begin{pmatrix}\n",
    "\\phi_0\\\\\n",
    "\\phi_1\\\\\n",
    "\\phi_2\n",
    "\\end{pmatrix} \n",
    "ds dt\n",
    "}=\n",
    "\\frac{A}{12}\n",
    "\\begin{pmatrix}\n",
    "2 & 1 & 1\\\\\n",
    "1 & 2 & 1\\\\\n",
    "1 & 1 & 2\n",
    "\\end{pmatrix}\n",
    "$$"
   ]
  },
  {
   "cell_type": "markdown",
   "metadata": {},
   "source": [
    "Now let's derive the stiffness matrix. First of all according to the chain rule the following can be obtained:\n",
    "$$\n",
    "\\begin{aligned}\n",
    "&\\partial_x \\phi_i(x,y) = \\partial_s \\phi_i(s,t) \\partial_x s + \\partial_t \\phi_i(s,t) \\partial_x t\\\\\n",
    "&\\partial_y \\phi_i(x,y) = \\partial_s \\phi_i(s,t) \\partial_y s + \\partial_t \\phi_i(s,t) \\partial_y t\\\\\n",
    "\\end{aligned}\n",
    "$$"
   ]
  },
  {
   "cell_type": "markdown",
   "metadata": {},
   "source": [
    "Substituting expressions for $s$ and $t$ the equations become:\n",
    "$$\n",
    "\\begin{aligned}\n",
    "&\\partial_x \\phi_i(x,y) = \\partial_s \\phi_i(s,t) \\frac{-y_0 + y_2}{2 A} + \\partial_t \\phi_i(s,t) \\frac{y_0-y_1}{2 A}\\\\\n",
    "&\\partial_y \\phi_i(x,y) = \\partial_s \\phi_i(s,t) \\frac{x_0-x_2}{2 A} + \\partial_t \\phi_i(s,t) \\frac{-x_0 + x_1}{2 A}\n",
    "\\end{aligned}\n",
    "$$"
   ]
  },
  {
   "cell_type": "markdown",
   "metadata": {},
   "source": [
    "Therefore, the derivatives for the shape functions are the following:\n",
    "$$\n",
    "\\begin{aligned}\n",
    "&\\partial_x \\phi_0(x,y) = -\\frac{-y_0+y_2}{2 A} - \\frac{y_0 - y_1}{2 A} = \\frac{y_1 - y_2}{2 A} && \\partial_y \\phi_0(x,y) =-\\frac{x_0 - x_2}{2 A} - \\frac{-x_0 + x_1}{2 A} = \\frac{x_2 - x_1}{2 A} \\\\\n",
    "&\\partial_x \\phi_1(x,y) = \\frac{-y_0 +y_2}{2 A} && \\partial_y \\phi_1(x,y) = \\frac{x_0 - x_2}{2 A}\\\\\n",
    "&\\partial_x \\phi_2(x,y) = \\frac{y_0-y_1}{2 A}&& \\partial_y \\phi_2(x,y) = \\frac{-x_0+x_1}{2 A} \\\\\n",
    "\\end{aligned}\n",
    "$$"
   ]
  },
  {
   "cell_type": "markdown",
   "metadata": {},
   "source": [
    "Therefore the stiffness matrix will be the following:\n",
    "$$\n",
    "\\mathbf{A} =\\int_{\\Omega_e}{ \n",
    "\\begin{pmatrix}\n",
    "\\partial_x \\phi_0 \\partial_x \\phi_0 + \\partial_y \\phi_0 \\partial_y \\phi_0 & \\partial_x \\phi_0 \\partial_x \\phi_1 + \\partial_y \\phi_0 \\partial_y \\phi_1 & \\partial_x \\phi_0 \\partial_x \\phi_2 + \\partial_y \\phi_0 \\partial_y \\phi_2\\\\\n",
    "\\partial_x \\phi_1 \\partial_x \\phi_0 + \\partial_y \\phi_1 \\partial_y \\phi_0 & \\partial_x \\phi_1 \\partial_x \\phi_1 + \\partial_y \\phi_1 \\partial_y \\phi_1 & \\partial_x \\phi_1 \\partial_x \\phi_2 + \\partial_y \\phi_1 \\partial_y \\phi_2\\\\\n",
    "\\partial_x \\phi_2 \\partial_x \\phi_0 + \\partial_y \\phi_2 \\partial_y \\phi_0 & \\partial_x \\phi_2 \\partial_x \\phi_1 + \\partial_y \\phi_2 \\partial_y \\phi_1 & \\partial_x \\phi_2 \\partial_x \\phi_2 + \\partial_y \\phi_2 \\partial_y \\phi_2\\\\\n",
    "\\end{pmatrix}\n",
    "dV}\n",
    "$$"
   ]
  },
  {
   "cell_type": "markdown",
   "metadata": {},
   "source": [
    "The matrix $\\mathbf{A}$ is therefore the following:\n",
    "$$\n",
    "\\mathbf{A} = \n",
    "\\begin{pmatrix}\n",
    "\\frac{1}{4 A}\\Bigl((y_2-y_1)^2 + (x_2 - x_1)^2\\Bigr)& \\frac{1}{4 A} \\Bigl((y_1-y_2)(-y_0+y_2) + (x_2-x_1)(x_0-x_2)\\Bigr)& \n",
    "\\frac{1}{4 A}\\Bigl((y_1-y_2)(y_0-y_1)+(x_2-x_1)(-x_0+x_1) \\Bigr)\\\\\n",
    "\\frac{1}{4 A} \\Bigl((y_1-y_2)(-y_0+y_2) + (x_2-x_1)(x_0-x_2)\\Bigr)& \\frac{1}{4 A}\\Bigl((y_2-y_0)^2 + (x_2-x_0)^2\\Bigr)& \\frac{1}{4 A} \\Bigl((-y_0+y_2)(y_0-y_1)+(x_0-x_2)(-x_0+x_1) \\Bigr)\\\\\n",
    "\\frac{1}{4 A}\\Bigl((y_1-y_2)(y_0-y_1)+(x_2-x_1)(-x_0+x_1) \\Bigr)& \\frac{1}{4 A} \\Bigl((-y_0+y_2)(y_0-y_1)+(x_0-x_2)(-x_0+x_1) \\Bigr) & \\frac{1}{4 A}\\Bigl((y_1-y_0)^2+(x_1-x_0)^2\\Bigr) \n",
    "\\end{pmatrix}\n",
    "$$"
   ]
  },
  {
   "cell_type": "markdown",
   "metadata": {},
   "source": [
    "# Spatial discretization"
   ]
  },
  {
   "cell_type": "markdown",
   "metadata": {},
   "source": [
    "Let us generate the triangulation for the square box with the height $H$ and length $L$. We will first generate certain number of points and then perform Delaunay triangulation. "
   ]
  },
  {
   "cell_type": "code",
   "execution_count": 44,
   "metadata": {},
   "outputs": [],
   "source": [
    "L = 1.0\n",
    "H = 2.0\n",
    "NX = 10\n",
    "NY = 20\n",
    "NPOINTS = 200\n",
    "NDIRICHLET = 10\n",
    "NNEUMANN = 10"
   ]
  },
  {
   "cell_type": "code",
   "execution_count": 45,
   "metadata": {},
   "outputs": [
    {
     "name": "stdout",
     "output_type": "stream",
     "text": [
      "[[0.00000000e+00 0.00000000e+00]\n",
      " [0.00000000e+00 1.52092456e+00]\n",
      " [0.00000000e+00 7.72147593e-01]\n",
      " [0.00000000e+00 6.47137830e-01]\n",
      " [0.00000000e+00 3.79271701e-01]\n",
      " [0.00000000e+00 1.15642515e+00]\n",
      " [0.00000000e+00 7.11699282e-01]\n",
      " [0.00000000e+00 1.72272637e+00]\n",
      " [0.00000000e+00 1.73820594e+00]\n",
      " [0.00000000e+00 2.00000000e+00]\n",
      " [1.00000000e+00 0.00000000e+00]\n",
      " [1.00000000e+00 1.28426005e+00]\n",
      " [1.00000000e+00 9.65966082e-01]\n",
      " [1.00000000e+00 5.76895087e-01]\n",
      " [1.00000000e+00 7.29016398e-01]\n",
      " [1.00000000e+00 1.64003459e+00]\n",
      " [1.00000000e+00 1.07553308e+00]\n",
      " [1.00000000e+00 1.12546516e+00]\n",
      " [1.00000000e+00 1.77028501e-02]\n",
      " [1.00000000e+00 2.00000000e+00]\n",
      " [1.12679759e-01 0.00000000e+00]\n",
      " [3.41440357e-02 0.00000000e+00]\n",
      " [3.18332446e-01 0.00000000e+00]\n",
      " [5.89433867e-01 0.00000000e+00]\n",
      " [1.51572500e-01 0.00000000e+00]\n",
      " [4.62255824e-01 0.00000000e+00]\n",
      " [4.06338622e-01 0.00000000e+00]\n",
      " [8.32528488e-01 0.00000000e+00]\n",
      " [7.88071273e-01 0.00000000e+00]\n",
      " [2.04824948e-01 0.00000000e+00]\n",
      " [7.00653410e-01 2.00000000e+00]\n",
      " [3.31344289e-01 2.00000000e+00]\n",
      " [5.70277551e-01 2.00000000e+00]\n",
      " [4.19351746e-02 2.00000000e+00]\n",
      " [7.48825544e-01 2.00000000e+00]\n",
      " [9.00801048e-01 2.00000000e+00]\n",
      " [2.03332378e-01 2.00000000e+00]\n",
      " [5.93766910e-01 2.00000000e+00]\n",
      " [2.96089710e-01 2.00000000e+00]\n",
      " [9.28982222e-01 2.00000000e+00]\n",
      " [2.95217224e-01 4.59240037e-01]\n",
      " [7.52283955e-01 1.19616683e+00]\n",
      " [4.28476405e-01 8.94949756e-01]\n",
      " [1.23236902e-01 1.30523223e+00]\n",
      " [7.50935341e-01 1.56237043e+00]\n",
      " [6.50153002e-01 1.84708374e+00]\n",
      " [6.63558571e-01 7.10572045e-01]\n",
      " [9.17287751e-01 1.29372922e+00]\n",
      " [9.60853610e-01 1.87586650e+00]\n",
      " [8.39604487e-01 1.79592137e+00]\n",
      " [4.43846937e-03 5.86782855e-01]\n",
      " [9.93295961e-01 1.95896589e+00]\n",
      " [9.64000242e-01 1.89151986e+00]\n",
      " [3.36992608e-01 1.23529609e+00]\n",
      " [1.86381772e-01 1.27884369e+00]\n",
      " [4.61959627e-02 1.60366704e+00]\n",
      " [4.45095537e-01 1.57028537e+00]\n",
      " [7.68503821e-02 6.00529600e-01]\n",
      " [1.09744451e-01 1.97281706e+00]\n",
      " [9.03650247e-01 9.90017452e-01]\n",
      " [4.02406415e-01 9.92450998e-01]\n",
      " [8.52260984e-01 3.89758545e-01]\n",
      " [7.29998736e-01 6.27716086e-01]\n",
      " [4.83514681e-01 4.95825745e-01]\n",
      " [6.05009061e-01 1.08678294e+00]\n",
      " [7.85838725e-01 2.96766080e-01]\n",
      " [4.73401397e-01 1.33118768e+00]\n",
      " [4.32169747e-01 1.96028030e+00]\n",
      " [3.80885234e-01 9.43533597e-01]\n",
      " [8.75495424e-02 1.71280394e+00]\n",
      " [2.26051363e-01 1.47644474e+00]\n",
      " [2.00086170e-01 1.42253921e-01]\n",
      " [5.62453886e-01 1.92991451e+00]\n",
      " [2.85186703e-01 2.68298161e-01]\n",
      " [6.48807618e-01 1.46763024e+00]\n",
      " [5.87549134e-01 1.30968567e+00]\n",
      " [5.20774657e-01 4.65534404e-01]\n",
      " [8.86660102e-01 1.98228701e+00]\n",
      " [7.57410101e-01 3.09189155e-01]\n",
      " [6.90771034e-01 9.41379605e-01]\n",
      " [3.94304895e-01 9.34946890e-01]\n",
      " [9.70525022e-01 9.84378256e-01]\n",
      " [9.36717468e-01 6.39655770e-01]\n",
      " [7.20521340e-01 4.31427825e-02]\n",
      " [8.78296744e-01 1.14966372e+00]\n",
      " [1.16585396e-01 7.57481746e-01]\n",
      " [8.66709386e-01 2.35426554e-01]\n",
      " [6.54022349e-01 1.41509080e+00]\n",
      " [2.11723543e-01 1.78130356e+00]\n",
      " [5.85853190e-01 1.45183312e+00]\n",
      " [8.67697921e-01 7.75389608e-01]\n",
      " [8.54390864e-01 5.50697406e-01]\n",
      " [9.64120808e-01 1.66205439e+00]\n",
      " [1.87021586e-01 2.93913885e-01]\n",
      " [5.66562073e-01 2.58364205e-01]\n",
      " [3.55691874e-01 1.06445893e+00]\n",
      " [5.41976650e-01 1.69278673e+00]\n",
      " [5.51999871e-01 3.71219824e-01]\n",
      " [3.42313926e-01 1.98484459e-01]\n",
      " [6.75957907e-01 1.73169711e+00]\n",
      " [2.87616009e-01 8.62624130e-01]\n",
      " [4.41074824e-01 1.68012148e+00]\n",
      " [6.63560870e-01 9.90402707e-01]\n",
      " [5.48993515e-01 7.61398928e-01]\n",
      " [3.64480971e-01 1.53667907e+00]\n",
      " [3.03551101e-02 1.03447516e+00]\n",
      " [4.07432720e-01 1.56083039e+00]\n",
      " [1.70312614e-01 5.99620110e-01]\n",
      " [6.10154626e-01 1.68446006e+00]\n",
      " [7.15907641e-01 1.49633145e+00]\n",
      " [3.06004628e-01 2.57371240e-02]\n",
      " [6.81741054e-01 5.78012560e-01]\n",
      " [9.93884385e-04 1.46670998e+00]\n",
      " [6.42014561e-01 1.26440011e+00]\n",
      " [9.07343131e-01 1.52614518e-01]\n",
      " [7.09572281e-01 1.71770708e-01]\n",
      " [5.54682316e-01 4.30684907e-01]\n",
      " [2.20135936e-02 1.03099989e+00]\n",
      " [1.42257340e-01 1.81756379e+00]\n",
      " [3.22515496e-03 4.80937723e-01]\n",
      " [9.18175725e-01 2.57230283e-02]\n",
      " [4.45124011e-02 3.58040860e-01]\n",
      " [5.98413369e-01 1.64156294e+00]\n",
      " [3.14858024e-01 1.62828558e+00]\n",
      " [3.75634900e-01 6.75998077e-01]\n",
      " [1.32513084e-01 1.65302128e+00]\n",
      " [5.31779267e-01 1.74783378e+00]\n",
      " [8.05778450e-01 1.09117921e+00]\n",
      " [4.80890285e-01 1.13365668e+00]\n",
      " [7.44437854e-01 1.35034538e+00]\n",
      " [1.55488939e-01 1.37113053e+00]\n",
      " [5.22715239e-01 1.46793139e+00]\n",
      " [4.40118233e-01 1.63495418e+00]\n",
      " [9.02836784e-01 1.37343235e+00]\n",
      " [6.42531109e-04 1.99001592e+00]\n",
      " [7.45641768e-01 7.82342853e-01]\n",
      " [2.50679059e-02 1.41545016e+00]\n",
      " [4.16285404e-01 1.11674688e+00]\n",
      " [1.53010328e-01 1.57026716e+00]\n",
      " [8.39828446e-01 6.80040677e-01]\n",
      " [3.71295698e-01 5.76617999e-01]\n",
      " [5.00594137e-01 4.07775734e-01]\n",
      " [1.55822451e-01 1.78032681e+00]\n",
      " [7.02453293e-01 1.63382034e+00]\n",
      " [5.49354820e-01 6.68688010e-01]\n",
      " [6.32058166e-01 3.32137172e-01]\n",
      " [6.31823925e-01 8.84407132e-01]\n",
      " [2.65605302e-03 5.26435610e-01]\n",
      " [1.82012549e-01 1.61756565e+00]\n",
      " [4.91280366e-01 9.55783523e-01]\n",
      " [2.27182680e-02 1.75241265e+00]\n",
      " [9.34995088e-01 1.67222829e+00]\n",
      " [7.55126227e-01 2.96751124e-01]\n",
      " [5.69209734e-02 1.19565599e+00]\n",
      " [7.11062821e-01 9.19203803e-02]\n",
      " [9.79889614e-01 1.22241011e+00]\n",
      " [9.36397293e-01 1.57312384e+00]\n",
      " [3.38739014e-04 3.14212646e-01]\n",
      " [6.54728741e-01 1.78089494e+00]\n",
      " [5.08658814e-01 1.92659135e+00]\n",
      " [2.16702545e-01 1.26274189e+00]\n",
      " [8.69196490e-01 3.96543483e-01]\n",
      " [5.87707080e-01 1.12918683e+00]\n",
      " [3.56359510e-01 3.89900912e-02]\n",
      " [7.73761199e-01 1.80659841e+00]\n",
      " [3.12060291e-01 1.09696878e-01]\n",
      " [7.94524606e-01 1.11773613e+00]\n",
      " [6.15156200e-02 1.92105713e+00]\n",
      " [8.14979575e-01 4.19788531e-01]\n",
      " [6.75938939e-01 7.72968178e-01]\n",
      " [6.48963089e-01 2.59652746e-01]\n",
      " [5.17093066e-01 1.80986657e+00]\n",
      " [2.81352927e-04 1.89807888e+00]\n",
      " [1.98862280e-01 6.18986887e-01]\n",
      " [9.64963116e-01 1.51338034e+00]\n",
      " [2.07804236e-01 9.49584268e-01]\n",
      " [3.44006399e-01 1.06057913e+00]\n",
      " [1.00651997e-01 6.07988607e-02]\n",
      " [9.13187694e-01 6.29737775e-01]\n",
      " [3.16855572e-01 8.24736080e-01]\n",
      " [3.29136833e-01 1.80673963e+00]\n",
      " [4.48632875e-01 4.92410348e-01]\n",
      " [5.62748283e-01 1.63454414e+00]\n",
      " [4.20224614e-01 1.41174396e+00]\n",
      " [9.88320595e-01 3.89465087e-01]\n",
      " [1.49808151e-01 4.07025549e-01]\n",
      " [9.66025602e-01 1.72639315e+00]\n",
      " [4.78933530e-01 1.08520794e+00]\n",
      " [3.08137842e-01 1.52214325e+00]\n",
      " [7.24679057e-01 1.46197168e-01]\n",
      " [1.98070856e-01 9.55879580e-01]\n",
      " [6.40578338e-02 1.96650251e+00]\n",
      " [9.30288671e-01 1.16687972e+00]\n",
      " [7.20338354e-01 1.49821407e+00]\n",
      " [5.93155511e-01 9.60774926e-01]\n",
      " [6.16339527e-01 6.68928055e-01]\n",
      " [6.14436651e-01 1.01690760e+00]\n",
      " [2.21043632e-01 1.96004679e+00]\n",
      " [2.30616906e-01 2.65319710e-01]\n",
      " [2.36089018e-01 4.58861142e-02]]\n"
     ]
    }
   ],
   "source": [
    "import random\n",
    "import numpy\n",
    "points = numpy.zeros((NPOINTS,2))\n",
    "points[0,0] = 0.0\n",
    "points[0,1] = 0.0\n",
    "points[NDIRICHLET,0] = L\n",
    "points[NDIRICHLET,1] = 0.0\n",
    "for i in range(1,NDIRICHLET-1):\n",
    "    points[i,0] = 0.0\n",
    "    points[i,1] = random.random() * H\n",
    "    points[i+NDIRICHLET,0] = L\n",
    "    points[i+NDIRICHLET,1] = random.random() * H\n",
    "points[NDIRICHLET-1,0] = 0.0\n",
    "points[NDIRICHLET-1,1] = H\n",
    "points[2*NDIRICHLET-1,0] = L\n",
    "points[2*NDIRICHLET-1,1] = H\n",
    "\n",
    "for i in range(NNEUMANN):\n",
    "    points[2*NDIRICHLET+i,0] = random.random() * L\n",
    "    points[2*NDIRICHLET+i,1] = 0\n",
    "    points[2*NDIRICHLET+NNEUMANN+i,0] = random.random() * L\n",
    "    points[2*NDIRICHLET+NNEUMANN+i,1] = H\n",
    "    \n",
    "for i in range(2*NDIRICHLET+2*NNEUMANN,NPOINTS):\n",
    "    points[i,0] = random.random() * L\n",
    "    points[i,1] = random.random() * H\n",
    "print(points)"
   ]
  },
  {
   "cell_type": "code",
   "execution_count": 46,
   "metadata": {},
   "outputs": [
    {
     "data": {
      "text/plain": [
       "[<matplotlib.lines.Line2D at 0x7fe988233208>]"
      ]
     },
     "execution_count": 46,
     "metadata": {},
     "output_type": "execute_result"
    },
    {
     "data": {
      "image/png": "[encoded data removed]",
      "text/plain": [
       "<matplotlib.figure.Figure at 0x7fe988233e80>"
      ]
     },
     "metadata": {},
     "output_type": "display_data"
    }
   ],
   "source": [
    "from scipy.spatial import Delaunay\n",
    "\n",
    "tri = Delaunay(points)\n",
    "\n",
    "pylab.figure(figsize=(3,6))\n",
    "pylab.triplot(points[:,0], points[:,1], tri.simplices)\n",
    "pylab.plot(points[:,0], points[:,1], 'o')"
   ]
  },
  {
   "cell_type": "markdown",
   "metadata": {},
   "source": [
    "The problem we would like to solve is the following:\n",
    "$$\n",
    "\\rho C \\partial_t T = k \\Delta T\\text{ with } T(0, y) = 1, T(L,y) = 0, \\partial_y T(x,y=0,H) = 0\n",
    "$$"
   ]
  },
  {
   "cell_type": "markdown",
   "metadata": {},
   "source": [
    "Assuming that $\\rho = C = k = 1$, the solution for the one-dimensional equation is the following:\n",
    "$$\n",
    "\\phi(x,t) = \\frac{L-x}{L}-\\sum_{k=1}^{\\infty}{\\frac{2}{k \\pi}\\sin\\bigl(\\frac{k \\pi}{L} x\\bigr)\\exp\\bigl(-\\frac{\\pi^2 k^2}{L^2} t\\bigr)}\n",
    "$$"
   ]
  },
  {
   "cell_type": "code",
   "execution_count": 105,
   "metadata": {},
   "outputs": [],
   "source": [
    "def updateMatrix(mass, stiffness, phi):\n",
    "    # Define first the Dirichlet boundary conditions\n",
    "    for i in range(NDIRICHLET):\n",
    "        mass[i,i] = 1\n",
    "        mass[i+NDIRICHLET,i+NDIRICHLET] = 1\n",
    "        phi[i]=1\n",
    "        phi[i+NDIRICHLET]=0\n",
    "\n",
    "    # Let's go through all the triangles\n",
    "    for triangle in tri.simplices:\n",
    "        vertex0 = triangle[0]\n",
    "        vertex1 = triangle[1]\n",
    "        vertex2 = triangle[2]\n",
    "        area = 0.5 * ( points[vertex0,0]*(points[vertex1,1]-points[vertex2,1]) \n",
    "                      -points[vertex1,0]*(points[vertex0,1]-points[vertex2,1])\n",
    "                      +points[vertex2,0]*(points[vertex0,1]-points[vertex1,1]))\n",
    "        for vertex0 in triangle:\n",
    "            if vertex0 < 2*NDIRICHLET:\n",
    "                continue\n",
    "            triangle2 = triangle.tolist()\n",
    "            triangle2.remove(vertex0)\n",
    "            vertex1 = triangle2[0]\n",
    "            vertex2 = triangle2[1]\n",
    "            mass[vertex0,vertex0] += area/12.0 * 2.0\n",
    "            mass[vertex0,vertex1] += area/12.0\n",
    "            mass[vertex0,vertex2] += area/12.0\n",
    "            if vertex0==0:\n",
    "                print(\"Triangle = \", triangle)\n",
    "            stiffness[vertex0,vertex0] += 0.25/area * ( (points[vertex2,0]-points[vertex1,0])**2 \n",
    "                                                       +(points[vertex2,1]-points[vertex1,1])**2)\n",
    "            stiffness[vertex0,vertex1] += 0.25/area * ( (points[vertex2,0]-points[vertex1,0])*(points[vertex0,0]-points[vertex2,0]) \n",
    "                                                       +(points[vertex2,1]-points[vertex1,1])*(points[vertex0,1]-points[vertex2,1]))\n",
    "            stiffness[vertex0,vertex2] += 0.25/area * ( (points[vertex2,0]-points[vertex1,0])*(-points[vertex0,0]+points[vertex2,0]) \n",
    "                                                       +(points[vertex2,1]-points[vertex1,1])*(-points[vertex0,1]+points[vertex2,1]))\n",
    "            \n",
    "    print(numpy.linalg.det(mass))"
   ]
  },
  {
   "cell_type": "code",
   "execution_count": 82,
   "metadata": {},
   "outputs": [],
   "source": [
    "def analytical(time):\n",
    "    numTerms = 400\n",
    "    numX = 101\n",
    "\n",
    "    x=numpy.linspace(0,L,numX)\n",
    "    sol = (L - x)/L\n",
    "    alpha = 1.0\n",
    "    for term in range(1,numTerms+1):\n",
    "        sol = sol - 2.0/(term*numpy.pi)*numpy.sin(term * numpy.pi*x/L)*numpy.exp(-alpha*(numpy.pi**2)*(term**2)/(L**2)*time)\n",
    "    return x,sol"
   ]
  },
  {
   "cell_type": "code",
   "execution_count": 106,
   "metadata": {},
   "outputs": [
    {
     "name": "stdout",
     "output_type": "stream",
     "text": [
      "0.0\n"
     ]
    },
    {
     "data": {
      "text/plain": [
       "[<matplotlib.lines.Line2D at 0x7fe9825ff048>]"
      ]
     },
     "execution_count": 106,
     "metadata": {},
     "output_type": "execute_result"
    },
    {
     "data": {
      "image/png": "[encoded data removed]",
      "text/plain": [
       "<matplotlib.figure.Figure at 0x7fe981abc5c0>"
      ]
     },
     "metadata": {},
     "output_type": "display_data"
    },
    {
     "data": {
      "image/png": "[encoded data removed]",
      "text/plain": [
       "<matplotlib.figure.Figure at 0x7fe9815ed630>"
      ]
     },
     "metadata": {},
     "output_type": "display_data"
    }
   ],
   "source": [
    "from IPython import display\n",
    "from matplotlib.tri import Triangulation, LinearTriInterpolator\n",
    "\n",
    "deltat = 0.001\n",
    "numIterations = 20\n",
    "mass = numpy.zeros((NPOINTS,NPOINTS))\n",
    "stiffness = numpy.zeros((NPOINTS,NPOINTS))\n",
    "phi  = numpy.zeros((NPOINTS,))\n",
    "phi_old = numpy.zeros((NPOINTS,))\n",
    "\n",
    "xi = np.linspace(0, L, 100)\n",
    "yi = np.linspace(0, H, 200)\n",
    "Xi, Yi = np.meshgrid(xi, yi)\n",
    "\n",
    "updateMatrix(mass,stiffness,phi)\n",
    "mat = mass/deltat + stiffness\n",
    "triang = Triangulation(points[:,0], points[:,1])\n",
    "\n",
    "for iteration in range(1,numIterations+1):\n",
    "    phi_old = phi\n",
    "        \n",
    "    rhs = numpy.dot(mass/deltat, phi_old)\n",
    "    phi = numpy.linalg.solve(mat,rhs)\n",
    "    #print(\"Equal?\", phi_old == phi)\n",
    "\n",
    "    #interpolator = LinearTriInterpolator(triang, phi)\n",
    "    #zi = interpolator(Xi, Yi)\n",
    "    \n",
    "    #display.clear_output(wait=True)\n",
    "    #pylab.tricontourf(points[:,0],points[:,1],phi,levels=[0.2,0.4,0.6,0.8,1.0])\n",
    "    \n",
    "    #print(\"Iteration = \",iteration)\n",
    "    #print(\"Phi_size = \", mat.shape, rhs.shape,phi.shape)\n",
    "#pylab.plot(zi[:,50])\n",
    "#pylab.plot(zi[:,75])\n",
    "#pylab.plot(zi[150,:])\n",
    "interpolator = LinearTriInterpolator(triang, phi)\n",
    "zi = interpolator(Xi, Yi)\n",
    "pylab.figure(1)\n",
    "pylab.imshow(zi)\n",
    "\n",
    "pylab.figure(2)\n",
    "xanal, yanal = analytical(numIterations*deltat)\n",
    "pylab.plot(xanal,yanal)"
   ]
  },
  {
   "cell_type": "code",
   "execution_count": 86,
   "metadata": {},
   "outputs": [
    {
     "data": {
      "text/plain": [
       "0.0"
      ]
     },
     "execution_count": 86,
     "metadata": {},
     "output_type": "execute_result"
    }
   ],
   "source": [
    "stiffness[19,19]"
   ]
  },
  {
   "cell_type": "code",
   "execution_count": 107,
   "metadata": {},
   "outputs": [
    {
     "data": {
      "text/plain": [
       "[<matplotlib.lines.Line2D at 0x7fe98164db70>]"
      ]
     },
     "execution_count": 107,
     "metadata": {},
     "output_type": "execute_result"
    },
    {
     "data": {
      "image/png": "[encoded data removed]",
      "text/plain": [
       "<matplotlib.figure.Figure at 0x7fe9826c64e0>"
      ]
     },
     "metadata": {},
     "output_type": "display_data"
    }
   ],
   "source": [
    "pylab.plot(zi[100,:])"
   ]
  },
  {
   "cell_type": "code",
   "execution_count": null,
   "metadata": {},
   "outputs": [],
   "source": []
  }
 ],
 "metadata": {
  "kernelspec": {
   "display_name": "Python 3",
   "language": "python",
   "name": "python3"
  },
  "language_info": {
   "codemirror_mode": {
    "name": "ipython",
    "version": 3
   },
   "file_extension": ".py",
   "mimetype": "text/x-python",
   "name": "python",
   "nbconvert_exporter": "python",
   "pygments_lexer": "ipython3",
   "version": "3.6.4"
  }
 },
 "nbformat": 4,
 "nbformat_minor": 2
}
