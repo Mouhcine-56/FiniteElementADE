{
 "cells": [
  {
   "cell_type": "markdown",
   "metadata": {},
   "source": [
    "# Finite Element Advection Diffusion Equation"
   ]
  },
  {
   "cell_type": "markdown",
   "metadata": {},
   "source": [
    "## Weak formulation"
   ]
  },
  {
   "cell_type": "markdown",
   "metadata": {},
   "source": [
    "We will start with the 2D pure conduction equation:\n",
    "$$\\rho c \\frac{\\partial T}{\\partial t} = \\frac{\\partial}{\\partial x}\\biggl(k \\frac{\\partial T}{\\partial x}\\biggr) + \\frac{\\partial}{\\partial y}\\biggl(k \\frac{\\partial T}{\\partial y}\\biggr)$$\n",
    "where $k$ is the material conductivity, $\\rho$ is the material density, $c$ is the material capacitance.  "
   ]
  },
  {
   "cell_type": "markdown",
   "metadata": {},
   "source": [
    "Let's multiply each side of the equation on the test function (shape function) $\\phi$ and integrate it over the domain volume $\\Omega$):\n",
    "$$\n",
    "\\int_{\\Omega}{\\rho c \\frac{\\partial T}{\\partial t} \\phi_e dx dy} = \\int_{\\Omega}{\\frac{\\partial}{\\partial x}\\biggl(k \\frac{\\partial{T}}{\\partial x} \\biggr)\\phi_e dx dy} + \\int_{\\Omega}{\\frac{\\partial}{\\partial y}\\biggl(k \\frac{\\partial{T}}{\\partial y}\\biggr) \\phi_e dx dy} \n",
    "$$"
   ]
  },
  {
   "cell_type": "markdown",
   "metadata": {},
   "source": [
    "We need to use Gauss-Ostrogradsky theorem which is represented as:\n",
    "$$\\int_{\\Omega}{\\mathbf{\\nabla}\\cdot \\mathbf{F} dV} = \\int_{\\partial\\Omega}{\\mathbf{F}\\cdot\\mathbf{n}} dS$$\n",
    "\n",
    "Notice also, that the following can be represented as:\n",
    "$$\\mathbf{\\nabla}\\cdot \\phi \\mathbf{\\nabla} G = \\phi \\mathbf{\\nabla}\\cdot\\mathbf{\\nabla G} + \\mathbf{\\nabla}\\phi\\cdot\\mathbf{\\nabla}G$$\n"
   ]
  },
  {
   "cell_type": "markdown",
   "metadata": {},
   "source": [
    "Assuming that $k$, $\\rho$ and $c$ are all constants and $G=k T$, the following is obtained:\n",
    "$$\n",
    "\\int_{\\Omega}{\\rho c \\partial_t T \\phi dV} =\\int_{\\partial \\Omega}{k\\partial_n T \\phi dS} - \\int_{\\Omega}{\\biggl(k \\partial_x T \\partial_x \\phi + k \\partial_y T \\partial_y \\phi\\biggr) dV}\n",
    "$$"
   ]
  },
  {
   "cell_type": "markdown",
   "metadata": {},
   "source": [
    "We now need to take integrals over the boundary. For the Newmann boundary condition there is a prescribed flux boundary condition: $k\\partial_n T|_{\\partial \\Omega_N} = g_N$. Whenever on boundary we have a prescribed Dirichlet boundary condition, i.e. $T|_{\\partial \\Omega_D} = g_D$, to avoid calculating the integral over the boundary $\\int_{\\partial \\Omega}{k\\partial_n T\\phi dS}$ for Dirichlet boundary condition we ask a test function to have a zero value on the boudnary $\\phi|_{\\partial \\Omega_D} = 0$."
   ]
  },
  {
   "cell_type": "markdown",
   "metadata": {},
   "source": [
    "Therefore the following integral can be calculated as follows:\n",
    "$$\n",
    "\\int_{\\Omega}{\\rho c \\partial_t T \\phi dV} =\\int_{\\partial \\Omega_N}{g_N \\phi dS} - \\int_{\\Omega}{\\biggl(k \\partial_x T \\partial_x \\phi + k \\partial_y T \\partial_y \\phi\\biggr) dV}\n",
    "$$"
   ]
  },
  {
   "cell_type": "markdown",
   "metadata": {},
   "source": [
    "Now we approximate the test function $\\phi$ from the space of the first order polynomials defined in the whole domain. We also approximate the temperature function as the summation through all possible first order polynomials. However, it's almost impossible to work with all possible first order polynomials in space and represent the temperature through their summation ($\\sum_{i=0}^{\\infty}{a_i x + b_i y + c_i}$). \n",
    "\n",
    "Instead, we introduce the discretization of space into certain geometrical features, say the domain $\\Omega$ is subdivided onto $M$ features (triangles in our case) and have $N$ nodes. \n",
    "\n",
    "In each geometrical feature $ e = 1..M$ the solution is represented through one of polynomials. Assuming that we have a basis for polynomials in this geometrical feature, one can write:  \n",
    "$$\n",
    "T_e = \\sum_{j=1}^{d}{a_j \\phi^e_j(x,y)},\n",
    "$$\n",
    "where $a_j$ are the weights, $d$ is the number of coefficients, $\\phi_j^e$ is the linear shape function corresponding to the node $j$ of the element $e$. \n",
    "\n",
    "A few things to note in triangle we have only three points that will be searched for in the final solution, so we will have only three basis functions inside the triangle.  At this particular point nothing stops us to assume that the shape function takes $1$ at node itself and $0$ at any other nodes. So the profile of temperatures inside the geometrical feature $e$ can be represented through its nodal values:\n",
    "$$\n",
    "T_e = \\sum_{j=1}^{d}{T_j^e \\phi^e_j(x,y)},\n",
    "$$\n",
    "where $\\phi^e_j(x_j,y_j) = 1$ and $\\phi^e_j(x_k,y_k)=0$ for $j\\neq k$ ($x_j,y_j$ are coordinates of the node $j$). Also, outside the element $e$ this shape function equals zero. Notice, that each shape function is represented as $\\phi^e_j(x,y) = a_j x + b_j y +c_j$."
   ]
  },
  {
   "cell_type": "markdown",
   "metadata": {},
   "source": [
    "Now the big integral (assuming that the basis function has non-zero value only inside the corresponding triangle), then the whole integral is taken as summation over the geometrical features. If we take the test function to be a shape function, then the integral with this shape function $\\phi^e_j$ will be taken only inside the corresponding geometrical feature:\n",
    "$$\n",
    "\\int_{\\Omega^e}{\\rho c \\partial_t \\sum_k{T_k^e \\phi^e_k} \\phi^e_j dV}=\\int_{\\partial\\Omega_N^e}{g^e_N \\phi_j^e dS} - \\int_{\\Omega^e}{\\biggl(k\\partial_x \\phi_j^e \\sum_k{T_k^e \\partial_x \\phi_k^e + k\\partial_y \\phi_j^e \\sum_k{T_k^e \\partial_y \\phi_k^e}}\\biggr)}\n",
    "$$"
   ]
  },
  {
   "cell_type": "markdown",
   "metadata": {},
   "source": [
    "We discretize in time using the implicit discretization:\n",
    "$$\n",
    "\\partial_t T_k^e = \\frac{{T_k^e}_{n+1}-{T_k^e}_n}{t_{n+1}-t_n}\n",
    "$$\n"
   ]
  },
  {
   "cell_type": "markdown",
   "metadata": {},
   "source": [
    "Eventually we will have the linear system involving the nodal temperatures. Let us see derive this matrix:\n",
    "$$\n",
    "\\int_{\\Omega^e}{\\frac{\\rho c}{t_{n+1}-t_n}  \\sum_k{\\bigl({T_k^e}_{n+1}-{T_k^e}_n\\bigr) \\phi^e_k} \\phi^e_j dV}=\\int_{\\partial\\Omega_N^e}{{g^e_N}_{n+1} \\phi_j^e dS} - \\int_{\\Omega^e}{\\biggl(k\\partial_x \\phi_j^e \\sum_k{{T_k^e}_{n+1} \\partial_x \\phi_k^e + k\\partial_y \\phi_j^e \\sum_k{{T_k^e}_{n+1} \\partial_y \\phi_k^e}}\\biggr)}\n",
    "$$"
   ]
  },
  {
   "cell_type": "markdown",
   "metadata": {},
   "source": [
    "For each element we have the following coefficients:\n",
    "$$\n",
    "\\frac{\\rho c}{t_{n+1}-t_n}\\sum_k{{T_k^e}_{n+1} M_{kj}}-\\frac{\\rho c}{t_{n+1}-t_n}\\sum_k{{T_k^e}_n M_{kj}} = \n",
    "\\int_{\\partial_{\\Omega^e_N}}{{g^e_N}_{n+1}\\phi^e_j dS} - k\\sum_k{{T_k^e}_{n+1} A_{kj}},\n",
    "$$\n",
    "where the mass matrix is $M_{kj} = \\int_{\\Omega^e}{\\phi_k^e\\phi_j^e dV}$ and the stiffness matrix $A_{kj} = \\int_{\\Omega^e}{\\bigl(\\partial_x \\phi_k^e \\partial_x\\phi_j^e +\\partial_y \\phi_k^e \\partial_y\\phi_j^e \\bigr)}$."
   ]
  },
  {
   "cell_type": "markdown",
   "metadata": {},
   "source": [
    "Overall we can obtain the matrix equation:\n",
    "$$\n",
    "\\frac{\\rho c}{t_{n+1}-t_n} \\mathbf{M} \\mathbf{T}_{n+1} + k \\mathbf{A} T_{n+1} = \\mathbf{G}_{n+1}+\\frac{\\rho c}{t_{n+1}-t_n} \\mathbf{M}\\mathbf{T}_n \n",
    "$$"
   ]
  },
  {
   "cell_type": "markdown",
   "metadata": {},
   "source": [
    "This equation is valid only for one element but eventually we will have many elements contributing to the same node. It means that the contributions need to be summed up."
   ]
  },
  {
   "cell_type": "markdown",
   "metadata": {},
   "source": [
    "# Shape functions"
   ]
  },
  {
   "cell_type": "markdown",
   "metadata": {},
   "source": [
    "So far we didn't talk much about the shape functions. Those need to equal $1$ on the corresponding node and $0$ on another one. Given arbitrary coordinates of the triangle, we kind of need to come up with the new shape functions formulation for each new triangle. Instead, we will offer the basic form of the shape functions.\n",
    "\n",
    "Each triangle with coordinates of vertices $(x_0,y_0)$, $(x_1,y_1)$ and $(x_2,y_2)$ is transformed to the basis triangle with coordinates  $(0,0)$, $(1,0)$ and $(1,1)$. We call this transformation from $\\Omega_e$ to $\\Omega_{\\bar{e}}$.\n",
    "\n",
    "<img src=\"mapping.png\"/>"
   ]
  },
  {
   "cell_type": "markdown",
   "metadata": {},
   "source": [
    "Let's derive the transformation matrix:\n",
    "$$\n",
    "\\begin{pmatrix}\n",
    "0\\\\\n",
    "0\n",
    "\\end{pmatrix} = \n",
    "A \n",
    "\\begin{pmatrix}\n",
    "x_0\\\\\n",
    "y_0\\\\\n",
    "\\end{pmatrix} + B\n",
    "$$\n",
    "$$\n",
    "\\begin{pmatrix}\n",
    "1\\\\\n",
    "0\n",
    "\\end{pmatrix} = \n",
    "A \n",
    "\\begin{pmatrix}\n",
    "x_1\\\\\n",
    "y_1\\\\\n",
    "\\end{pmatrix} + B\n",
    "$$\n",
    "$$\n",
    "\\begin{pmatrix}\n",
    "0\\\\\n",
    "1\n",
    "\\end{pmatrix} = \n",
    "A \n",
    "\\begin{pmatrix}\n",
    "x_2\\\\\n",
    "y_2\\\\\n",
    "\\end{pmatrix} + B\n",
    "$$\n",
    "\n"
   ]
  },
  {
   "cell_type": "code",
   "execution_count": 1,
   "metadata": {},
   "outputs": [
    {
     "name": "stdout",
     "output_type": "stream",
     "text": [
      "Populating the interactive namespace from numpy and matplotlib\n"
     ]
    },
    {
     "name": "stderr",
     "output_type": "stream",
     "text": [
      "/home/shurik/anaconda3/lib/python3.6/site-packages/IPython/core/magics/pylab.py:160: UserWarning: pylab import has clobbered these variables: ['pylab']\n",
      "`%matplotlib` prevents importing * from pylab and numpy\n",
      "  \"\\n`%matplotlib` prevents importing * from pylab and numpy\"\n"
     ]
    }
   ],
   "source": [
    "import pylab\n",
    "%pylab inline\n",
    "import sympy"
   ]
  },
  {
   "cell_type": "code",
   "execution_count": 2,
   "metadata": {},
   "outputs": [],
   "source": [
    "x0,y0,x1,y1,x2,y2 = sympy.symbols('x0,y0,x1,y1,x2,y2')"
   ]
  },
  {
   "cell_type": "markdown",
   "metadata": {},
   "source": [
    "Matrix $A$ and vector $B$ represent the transformation:\n",
    "$$\n",
    "A = \n",
    "\\begin{pmatrix}\n",
    "a&b\\\\\n",
    "c&d\\\\\n",
    "\\end{pmatrix}\n",
    "$$\n",
    "$$\n",
    "B=\n",
    "\\begin{pmatrix}\n",
    "e\\\\\n",
    "f\n",
    "\\end{pmatrix}\n",
    "$$"
   ]
  },
  {
   "cell_type": "markdown",
   "metadata": {},
   "source": [
    "In terms of unknown things, i.e. $a$,$b$,$c$,$d$,$e$,$f$, we can write the following:\n",
    "$$\n",
    "\\begin{pmatrix}\n",
    "0\\\\\n",
    "0\\\\\n",
    "1\\\\\n",
    "0\\\\\n",
    "0\\\\\n",
    "1\n",
    "\\end{pmatrix} = \n",
    "\\begin{pmatrix}\n",
    "x_0&y_0&1&0&0&0\\\\\n",
    "0&0&0&x_0&y_0&1\\\\\n",
    "x_1&y_1&1&0&0&0\\\\\n",
    "0&0&0&x_1&y_1&1\\\\\n",
    "x_2&y_2&1&0&0&0\\\\\n",
    "0&0&0&x_2&y_2&1\\\\\n",
    "\\end{pmatrix}\n",
    "\\begin{pmatrix}\n",
    "a\\\\\n",
    "b\\\\\n",
    "e\\\\\n",
    "c\\\\\n",
    "d\\\\\n",
    "f\n",
    "\\end{pmatrix}\n",
    "$$"
   ]
  },
  {
   "cell_type": "code",
   "execution_count": 3,
   "metadata": {},
   "outputs": [],
   "source": [
    "a,b,c,d,e,f = sympy.symbols('a,b,c,d,e,f')\n",
    "system = sympy.Matrix(((x0,y0,1,0,0,0,0),(0,0,0,x0,y0,1,0),(x1,y1,1,0,0,0,1),(0,0,0,x1,y1,1,0),(x2,y2,1,0,0,0,0),(0,0,0,x2,y2,1,1)))"
   ]
  },
  {
   "cell_type": "code",
   "execution_count": 4,
   "metadata": {},
   "outputs": [
    {
     "data": {
      "text/plain": [
       "{a: (-y0 + y2)/(x0*y1 - x0*y2 - x1*y0 + x1*y2 + x2*y0 - x2*y1),\n",
       " b: (x0 - x2)/(x0*y1 - x0*y2 - x1*y0 + x1*y2 + x2*y0 - x2*y1),\n",
       " c: (y0 - y1)/(x0*y1 - x0*y2 - x1*y0 + x1*y2 + x2*y0 - x2*y1),\n",
       " d: (-x0 + x1)/(x0*y1 - x0*y2 - x1*y0 + x1*y2 + x2*y0 - x2*y1),\n",
       " e: (-x0*y2 + x2*y0)/(x0*y1 - x0*y2 - x1*y0 + x1*y2 + x2*y0 - x2*y1),\n",
       " f: (x0*y1 - x1*y0)/(x0*y1 - x0*y2 - x1*y0 + x1*y2 + x2*y0 - x2*y1)}"
      ]
     },
     "execution_count": 4,
     "metadata": {},
     "output_type": "execute_result"
    }
   ],
   "source": [
    "solution=sympy.solve_linear_system(system,a,b,e,c,d,f)\n",
    "solution"
   ]
  },
  {
   "cell_type": "markdown",
   "metadata": {},
   "source": [
    "Let's check if we obtained equations right:"
   ]
  },
  {
   "cell_type": "code",
   "execution_count": 5,
   "metadata": {},
   "outputs": [
    {
     "name": "stdout",
     "output_type": "stream",
     "text": [
      "The first point =  0 0\n",
      "The second point =  1 0\n",
      "The third point =  0 1\n"
     ]
    }
   ],
   "source": [
    "print(\"The first point = \",sympy.simplify(solution[a]*x0+solution[b]*y0+solution[e]),sympy.simplify(solution[c]*x0+solution[d]*y0+solution[f]))\n",
    "print(\"The second point = \",sympy.simplify(solution[a]*x1+solution[b]*y1+solution[e]),sympy.simplify(solution[c]*x1+solution[d]*y1+solution[f]))\n",
    "print(\"The third point = \",sympy.simplify(solution[a]*x2+solution[b]*y2+solution[e]),sympy.simplify(solution[c]*x2+solution[d]*y2+solution[f]))"
   ]
  },
  {
   "cell_type": "markdown",
   "metadata": {},
   "source": [
    "Therefore the transformation is as follows:\n",
    "$$\n",
    "\\begin{aligned}\n",
    "&s =\\frac{-y_0 + y_2}{2 A} x + \\frac{x_0 - x_2}{2 A} y + \\frac{-x_0 y_2 + x_2 y_0}{2 A}\\\\\n",
    "&t = \\frac{y_0 - y_1}{2 A} x + \\frac{-x_0 + x_1}{2 A} y + \\frac{x_0 y_1 - x_1 y_0}{2 A}\n",
    "\\end{aligned}\n",
    "$$\n",
    "where $2 A = x_0 y_1 - x_0 y_2 - x_1 y_0 + x_1 y_2 + x_2 y_0 - x_2 y_1$ is double area of the original triangle. "
   ]
  },
  {
   "cell_type": "markdown",
   "metadata": {},
   "source": [
    "Now let's represent the new variables' derivatives through the old ones:\n",
    "$$\n",
    "\\begin{aligned}\n",
    "ds =\\frac{-y_0 + y_2}{2 A} dx + \\frac{x_0 - x_2}{2 A} dy \\\\\n",
    "dt = \\frac{y_0 - y_1}{2 A} dx + \\frac{-x_0 + x_1}{2 A} dy\n",
    "\\end{aligned}\n",
    "$$\n",
    "Basically the fractions become:\n",
    "$$\n",
    "\\begin{pmatrix}\n",
    "ds\\\\\n",
    "dt\n",
    "\\end{pmatrix}=\n",
    "J\n",
    "\\begin{pmatrix}\n",
    "dx\\\\\n",
    "dy\n",
    "\\end{pmatrix}\n",
    "$$\n",
    "where the Jacobian is represented as:\n",
    "$$\n",
    "J=\n",
    "\\frac{1}{2A}\\begin{pmatrix}\n",
    "-y_0 + y_2 & x_0 - x_2 \\\\\n",
    "y_0 - y_1 & -x_0 + x_1 \n",
    "\\end{pmatrix}\n",
    "$$"
   ]
  },
  {
   "cell_type": "code",
   "execution_count": 6,
   "metadata": {},
   "outputs": [],
   "source": [
    "area, jacobian = sympy.symbols('area,jacobian')\n",
    "area = (x0*y1 - x0*y2 - x1*y0 + x1*y2 + x2*y0 - x2*y1)/2\n",
    "jacobian = 1/(2*area) * sympy.Matrix(((y2-y0,x0-x2),(y0-y1,-x0+x1)))"
   ]
  },
  {
   "cell_type": "code",
   "execution_count": 7,
   "metadata": {},
   "outputs": [
    {
     "data": {
      "text/plain": [
       "Matrix([\n",
       "[-x0 + x1, -x0 + x2],\n",
       "[-y0 + y1, -y0 + y2]])"
      ]
     },
     "execution_count": 7,
     "metadata": {},
     "output_type": "execute_result"
    }
   ],
   "source": [
    "inv_jacobian=sympy.simplify(jacobian.inv())\n",
    "inv_jacobian"
   ]
  },
  {
   "cell_type": "code",
   "execution_count": 8,
   "metadata": {},
   "outputs": [
    {
     "data": {
      "text/plain": [
       "(x0 - x1)*(y0 - y2) - (x0 - x2)*(y0 - y1)"
      ]
     },
     "execution_count": 8,
     "metadata": {},
     "output_type": "execute_result"
    }
   ],
   "source": [
    "sympy.simplify(inv_jacobian.det())"
   ]
  },
  {
   "cell_type": "markdown",
   "metadata": {},
   "source": [
    "Or in other words:\n",
    "$$\n",
    "\\begin{pmatrix}\n",
    "dx\\\\\n",
    "dy\n",
    "\\end{pmatrix} = J^{-1}\n",
    "\\begin{pmatrix}\n",
    "ds\\\\\n",
    "dt\n",
    "\\end{pmatrix}\n",
    "$$"
   ]
  },
  {
   "cell_type": "markdown",
   "metadata": {},
   "source": [
    "Now we need to estimate certain integrals that are involved in mass and stiffness matrix:\n",
    "$$\n",
    "\\int_{\\Omega_e}{\\phi_k^e(x,y)\\phi_j^e(x,y) dx dy} = \\int_{\\Omega_\\bar{e}}{\\phi_k^\\bar{e}(s,t)\\phi_j^\\bar{e}(s,t) |J^{-1}| ds dt}\n",
    "$$"
   ]
  },
  {
   "cell_type": "markdown",
   "metadata": {},
   "source": [
    "As far as we are working in the linear  space the Jacobian is a constant depending only on the coordinates of nodes in the original space, so we can take it out of the integral:\n",
    "$$\n",
    "\\int_{\\Omega_\\bar{e}}{\\phi_k^\\bar{e}(s,t)\\phi_j^\\bar{e}(s,t) |J^{-1}| ds dt} = |J^{-1}| \\int_{\\Omega_\\bar{e}}{\\phi_k^\\bar{e}(s,t)\\phi_j^\\bar{e}(s,t)  ds dt} \n",
    "$$"
   ]
  },
  {
   "cell_type": "markdown",
   "metadata": {},
   "source": [
    "It's easy to show that the shape functions in the linear space are the following:\n",
    "$$\n",
    "\\begin{aligned}\n",
    "&\\phi_0(s,t) = 1-s-t\\\\\n",
    "&\\phi_1(s,t) = s\\\\\n",
    "&\\phi_2(s,t) = t\n",
    "\\end{aligned}\n",
    "$$"
   ]
  },
  {
   "cell_type": "markdown",
   "metadata": {},
   "source": [
    "The integrals then can be calculated as follows:\n",
    "$$\n",
    "\\int_{\\Omega^{\\bar{e}}}{\n",
    "\\begin{pmatrix}\n",
    "\\phi_0 & \\phi_1 & \\phi_2\n",
    "\\end{pmatrix}\n",
    "\\begin{pmatrix}\n",
    "\\phi_0\\\\\n",
    "\\phi_1\\\\\n",
    "\\phi_2\n",
    "\\end{pmatrix} \n",
    "ds dt\n",
    "}=\n",
    "\\frac{A}{12}\n",
    "\\begin{pmatrix}\n",
    "2 & 1 & 1\\\\\n",
    "1 & 2 & 1\\\\\n",
    "1 & 1 & 2\n",
    "\\end{pmatrix}\n",
    "$$"
   ]
  },
  {
   "cell_type": "markdown",
   "metadata": {},
   "source": [
    "Now let's derive the stiffness matrix. First of all according to the chain rule the following can be obtained:\n",
    "$$\n",
    "\\begin{aligned}\n",
    "&\\partial_x \\phi_i(x,y) = \\partial_s \\phi_i(s,t) \\partial_x s + \\partial_t \\phi_i(s,t) \\partial_x t\\\\\n",
    "&\\partial_y \\phi_i(x,y) = \\partial_s \\phi_i(s,t) \\partial_y s + \\partial_t \\phi_i(s,t) \\partial_y t\\\\\n",
    "\\end{aligned}\n",
    "$$"
   ]
  },
  {
   "cell_type": "markdown",
   "metadata": {},
   "source": [
    "Substituting expressions for $s$ and $t$ the equations become:\n",
    "$$\n",
    "\\begin{aligned}\n",
    "&\\partial_x \\phi_i(x,y) = \\partial_s \\phi_i(s,t) \\frac{-y_0 + y_2}{2 A} + \\partial_t \\phi_i(s,t) \\frac{y_0-y_1}{2 A}\\\\\n",
    "&\\partial_y \\phi_i(x,y) = \\partial_s \\phi_i(s,t) \\frac{x_0-x_2}{2 A} + \\partial_t \\phi_i(s,t) \\frac{-x_0 + x_1}{2 A}\n",
    "\\end{aligned}\n",
    "$$"
   ]
  },
  {
   "cell_type": "markdown",
   "metadata": {},
   "source": [
    "Therefore, the derivatives for the shape functions are the following:\n",
    "$$\n",
    "\\begin{aligned}\n",
    "&\\partial_x \\phi_0(x,y) = -\\frac{-y_0+y_2}{2 A} - \\frac{y_0 - y_1}{2 A} = \\frac{y_1 - y_2}{2 A} && \\partial_y \\phi_0(x,y) =-\\frac{x_0 - x_2}{2 A} - \\frac{-x_0 + x_1}{2 A} = \\frac{x_2 - x_1}{2 A} \\\\\n",
    "&\\partial_x \\phi_1(x,y) = \\frac{-y_0 +y_2}{2 A} && \\partial_y \\phi_1(x,y) = \\frac{x_0 - x_2}{2 A}\\\\\n",
    "&\\partial_x \\phi_2(x,y) = \\frac{y_0-y_1}{2 A}&& \\partial_y \\phi_2(x,y) = \\frac{-x_0+x_1}{2 A} \\\\\n",
    "\\end{aligned}\n",
    "$$"
   ]
  },
  {
   "cell_type": "markdown",
   "metadata": {},
   "source": [
    "Therefore the stiffness matrix will be the following:\n",
    "$$\n",
    "\\mathbf{A} =\\int_{\\Omega_e}{ \n",
    "\\begin{pmatrix}\n",
    "\\partial_x \\phi_0 \\partial_x \\phi_0 + \\partial_y \\phi_0 \\partial_y \\phi_0 & \\partial_x \\phi_0 \\partial_x \\phi_1 + \\partial_y \\phi_0 \\partial_y \\phi_1 & \\partial_x \\phi_0 \\partial_x \\phi_2 + \\partial_y \\phi_0 \\partial_y \\phi_2\\\\\n",
    "\\partial_x \\phi_1 \\partial_x \\phi_0 + \\partial_y \\phi_1 \\partial_y \\phi_0 & \\partial_x \\phi_1 \\partial_x \\phi_1 + \\partial_y \\phi_1 \\partial_y \\phi_1 & \\partial_x \\phi_1 \\partial_x \\phi_2 + \\partial_y \\phi_1 \\partial_y \\phi_2\\\\\n",
    "\\partial_x \\phi_2 \\partial_x \\phi_0 + \\partial_y \\phi_2 \\partial_y \\phi_0 & \\partial_x \\phi_2 \\partial_x \\phi_1 + \\partial_y \\phi_2 \\partial_y \\phi_1 & \\partial_x \\phi_2 \\partial_x \\phi_2 + \\partial_y \\phi_2 \\partial_y \\phi_2\\\\\n",
    "\\end{pmatrix}\n",
    "dV}\n",
    "$$"
   ]
  },
  {
   "cell_type": "markdown",
   "metadata": {},
   "source": [
    "The matrix $\\mathbf{A}$ is therefore the following:\n",
    "$$\n",
    "\\mathbf{A} = \n",
    "\\begin{pmatrix}\n",
    "\\frac{1}{4 A}\\Bigl((y_2-y_1)^2 + (x_2 - x_1)^2\\Bigr)& \\frac{1}{4 A} \\Bigl((y_1-y_2)(-y_0+y_2) + (x_2-x_1)(x_0-x_2)\\Bigr)& \n",
    "\\frac{1}{4 A}\\Bigl((y_1-y_2)(y_0-y_1)+(x_2-x_1)(-x_0+x_1) \\Bigr)\\\\\n",
    "\\frac{1}{4 A} \\Bigl((y_1-y_2)(-y_0+y_2) + (x_2-x_1)(x_0-x_2)\\Bigr)& \\frac{1}{4 A}\\Bigl((y_2-y_0)^2 + (x_2-x_0)^2\\Bigr)& \\frac{1}{4 A} \\Bigl((-y_0+y_2)(y_0-y_1)+(x_0-x_2)(-x_0+x_1) \\Bigr)\\\\\n",
    "\\frac{1}{4 A}\\Bigl((y_1-y_2)(y_0-y_1)+(x_2-x_1)(-x_0+x_1) \\Bigr)& \\frac{1}{4 A} \\Bigl((-y_0+y_2)(y_0-y_1)+(x_0-x_2)(-x_0+x_1) \\Bigr) & \\frac{1}{4 A}\\Bigl((y_1-y_0)^2+(x_1-x_0)^2\\Bigr) \n",
    "\\end{pmatrix}\n",
    "$$"
   ]
  },
  {
   "cell_type": "markdown",
   "metadata": {},
   "source": [
    "# Spatial discretization"
   ]
  },
  {
   "cell_type": "markdown",
   "metadata": {},
   "source": [
    "Let us generate the triangulation for the square box with the height $H$ and length $L$. We will first generate certain number of points and then perform Delaunay triangulation. "
   ]
  },
  {
   "cell_type": "code",
   "execution_count": 9,
   "metadata": {},
   "outputs": [],
   "source": [
    "L = 1.0\n",
    "H = 2.0\n",
    "NX = 10\n",
    "NY = 20\n",
    "NPOINTS = 200\n",
    "NDIRICHLET = 10\n",
    "NNEUMANN = 10"
   ]
  },
  {
   "cell_type": "code",
   "execution_count": 10,
   "metadata": {},
   "outputs": [
    {
     "name": "stdout",
     "output_type": "stream",
     "text": [
      "[[0.00000000e+00 0.00000000e+00]\n",
      " [0.00000000e+00 1.46467398e+00]\n",
      " [0.00000000e+00 4.85111020e-01]\n",
      " [0.00000000e+00 1.90411805e+00]\n",
      " [0.00000000e+00 2.86634725e-01]\n",
      " [0.00000000e+00 1.46345430e+00]\n",
      " [0.00000000e+00 1.79595925e+00]\n",
      " [0.00000000e+00 6.38643759e-01]\n",
      " [0.00000000e+00 2.78777020e-01]\n",
      " [0.00000000e+00 2.00000000e+00]\n",
      " [1.00000000e+00 0.00000000e+00]\n",
      " [1.00000000e+00 3.85221860e-01]\n",
      " [1.00000000e+00 1.40190530e+00]\n",
      " [1.00000000e+00 1.25345311e+00]\n",
      " [1.00000000e+00 3.98724487e-01]\n",
      " [1.00000000e+00 6.53102393e-01]\n",
      " [1.00000000e+00 8.09849520e-01]\n",
      " [1.00000000e+00 6.43516560e-01]\n",
      " [1.00000000e+00 1.44540481e+00]\n",
      " [1.00000000e+00 2.00000000e+00]\n",
      " [4.82482441e-02 0.00000000e+00]\n",
      " [9.10915576e-01 0.00000000e+00]\n",
      " [9.15629096e-01 0.00000000e+00]\n",
      " [5.76404794e-01 0.00000000e+00]\n",
      " [7.85464355e-01 0.00000000e+00]\n",
      " [4.93904693e-01 0.00000000e+00]\n",
      " [3.47179679e-01 0.00000000e+00]\n",
      " [1.54626129e-01 0.00000000e+00]\n",
      " [5.16945531e-01 0.00000000e+00]\n",
      " [9.53646364e-01 0.00000000e+00]\n",
      " [1.93558311e-01 2.00000000e+00]\n",
      " [3.89562296e-01 2.00000000e+00]\n",
      " [1.37264166e-01 2.00000000e+00]\n",
      " [9.65746598e-01 2.00000000e+00]\n",
      " [5.95656213e-01 2.00000000e+00]\n",
      " [4.09597641e-01 2.00000000e+00]\n",
      " [3.23866287e-01 2.00000000e+00]\n",
      " [8.27833487e-01 2.00000000e+00]\n",
      " [6.20497866e-01 2.00000000e+00]\n",
      " [7.43449575e-01 2.00000000e+00]\n",
      " [3.23899786e-01 5.20543745e-01]\n",
      " [2.01782156e-01 1.77010057e+00]\n",
      " [2.52026626e-01 1.00616830e+00]\n",
      " [7.05749895e-01 1.50751570e+00]\n",
      " [6.07790295e-01 1.91493813e+00]\n",
      " [8.79021804e-01 1.36081337e+00]\n",
      " [2.95402456e-01 1.57281281e+00]\n",
      " [1.54892467e-01 1.32539528e+00]\n",
      " [4.44458806e-01 1.66671791e+00]\n",
      " [1.03877936e-01 7.24898028e-01]\n",
      " [7.78841701e-03 1.13472161e+00]\n",
      " [2.66442810e-01 1.88331432e+00]\n",
      " [7.58350655e-01 1.73056326e+00]\n",
      " [2.96046690e-01 1.28232029e+00]\n",
      " [6.54514260e-01 2.73677923e-01]\n",
      " [4.51837025e-01 1.95222557e+00]\n",
      " [2.63502293e-01 2.41922235e-02]\n",
      " [8.63659810e-01 8.80331183e-01]\n",
      " [7.68578020e-01 1.61239121e+00]\n",
      " [2.57210198e-01 1.90700909e+00]\n",
      " [9.20399586e-01 1.74032239e+00]\n",
      " [3.48423045e-01 1.20630673e+00]\n",
      " [5.57364349e-01 5.49755177e-01]\n",
      " [2.75474959e-01 9.13952658e-01]\n",
      " [7.40542488e-01 2.65203969e-01]\n",
      " [6.68482309e-01 3.99666252e-01]\n",
      " [3.25861700e-01 1.05011335e-01]\n",
      " [7.25924451e-01 1.99106358e+00]\n",
      " [5.24761646e-01 1.48586435e+00]\n",
      " [9.07208190e-01 1.25332860e+00]\n",
      " [7.51341612e-01 4.78035301e-02]\n",
      " [6.61373960e-01 1.65574502e+00]\n",
      " [5.89506725e-01 1.40765775e+00]\n",
      " [3.34258605e-02 5.82864839e-02]\n",
      " [4.16024235e-01 1.11756332e+00]\n",
      " [5.71607100e-01 1.08097829e-01]\n",
      " [4.06909180e-01 2.20796041e-01]\n",
      " [9.52235956e-01 9.21371369e-01]\n",
      " [2.53784694e-01 1.05123777e+00]\n",
      " [1.71589271e-01 3.74944296e-01]\n",
      " [1.51661408e-01 1.21202028e+00]\n",
      " [8.65087526e-01 7.34627177e-01]\n",
      " [1.02882876e-02 8.01856044e-01]\n",
      " [2.20207583e-01 1.69383289e+00]\n",
      " [5.44486093e-01 9.69468087e-01]\n",
      " [7.66301588e-01 1.41914767e+00]\n",
      " [3.06306180e-01 8.23494039e-01]\n",
      " [7.54215091e-01 1.76811334e+00]\n",
      " [6.77504727e-01 1.09604080e+00]\n",
      " [3.14154072e-01 1.09555145e+00]\n",
      " [1.53833433e-01 8.58342529e-01]\n",
      " [9.58746682e-02 3.82518107e-02]\n",
      " [1.45895960e-01 5.22607117e-01]\n",
      " [8.37433605e-01 1.72369340e+00]\n",
      " [8.38958846e-01 5.01727565e-01]\n",
      " [6.51998480e-01 9.47338623e-01]\n",
      " [9.91894100e-01 1.10821362e+00]\n",
      " [5.23386682e-02 1.29521868e+00]\n",
      " [9.94404146e-02 1.45569134e+00]\n",
      " [7.32364057e-01 1.89845033e+00]\n",
      " [7.41853336e-01 8.08155870e-01]\n",
      " [3.60435748e-02 1.99352707e+00]\n",
      " [4.66338015e-01 1.09016874e-01]\n",
      " [5.28307648e-01 1.10391115e+00]\n",
      " [6.76051513e-01 3.43726906e-01]\n",
      " [3.26176146e-01 7.50548752e-02]\n",
      " [4.27122988e-01 1.96936598e+00]\n",
      " [2.87085719e-01 1.41197298e+00]\n",
      " [6.35258403e-01 2.24079238e-01]\n",
      " [2.31921609e-01 1.48065184e+00]\n",
      " [8.22583582e-01 1.48408671e+00]\n",
      " [6.33019582e-01 1.55121076e+00]\n",
      " [8.92518932e-01 5.73810749e-02]\n",
      " [8.93098039e-01 3.96837332e-01]\n",
      " [3.18873768e-01 2.98195447e-01]\n",
      " [1.83935922e-01 1.47765821e+00]\n",
      " [9.58463828e-01 1.43665579e+00]\n",
      " [6.31253817e-01 1.25646186e+00]\n",
      " [9.41257615e-01 1.78415074e+00]\n",
      " [3.96432599e-01 9.66115246e-01]\n",
      " [6.04487857e-01 1.86431974e+00]\n",
      " [1.28785135e-01 2.32181123e-01]\n",
      " [3.52204200e-02 1.54040646e+00]\n",
      " [4.72399679e-01 1.73081571e+00]\n",
      " [4.87254967e-01 1.83380650e+00]\n",
      " [1.59448746e-01 1.83253462e-01]\n",
      " [6.30596374e-01 1.27562524e+00]\n",
      " [4.54827467e-01 6.57718343e-01]\n",
      " [6.65135351e-01 1.95440562e+00]\n",
      " [9.60273009e-01 1.89200191e-01]\n",
      " [5.59084830e-01 9.35651762e-01]\n",
      " [8.47612592e-01 9.34815323e-01]\n",
      " [4.06278846e-01 1.48362791e+00]\n",
      " [7.16166659e-01 1.38284008e+00]\n",
      " [9.83653154e-01 1.47348100e+00]\n",
      " [3.13234283e-01 1.64051823e+00]\n",
      " [4.03423360e-01 6.29904404e-01]\n",
      " [1.68846472e-01 8.34243079e-01]\n",
      " [1.10212840e-01 1.24574339e+00]\n",
      " [3.74363936e-01 8.65245712e-02]\n",
      " [7.61392103e-01 1.54176728e+00]\n",
      " [4.03262551e-01 4.56276672e-01]\n",
      " [1.83637405e-01 1.03158858e+00]\n",
      " [2.07179139e-01 7.15117689e-01]\n",
      " [9.72949772e-01 2.87955789e-01]\n",
      " [4.09895155e-01 1.18174417e+00]\n",
      " [7.15374290e-01 1.51910593e+00]\n",
      " [7.79646570e-01 1.51491553e+00]\n",
      " [3.98608127e-01 1.60779174e+00]\n",
      " [1.36733870e-01 1.70856817e+00]\n",
      " [3.07515391e-01 1.73256617e+00]\n",
      " [6.16091714e-01 2.20493125e-01]\n",
      " [8.89459464e-01 2.72915181e-01]\n",
      " [4.54207948e-01 9.48867980e-01]\n",
      " [8.66114135e-01 2.83114976e-01]\n",
      " [4.97786969e-01 1.88990854e+00]\n",
      " [9.69838196e-01 1.09907758e+00]\n",
      " [6.61285399e-01 1.30040943e+00]\n",
      " [9.79737499e-01 6.10148960e-01]\n",
      " [5.24466845e-01 3.34828907e-01]\n",
      " [3.87106955e-01 9.07337346e-01]\n",
      " [7.14643320e-01 5.21143363e-02]\n",
      " [6.14363704e-01 1.21852566e+00]\n",
      " [1.02153478e-01 8.63575095e-02]\n",
      " [7.03334853e-01 1.22467027e+00]\n",
      " [7.82209642e-01 6.19400792e-01]\n",
      " [1.20388041e-01 1.97524544e+00]\n",
      " [4.56589699e-02 9.71534263e-01]\n",
      " [2.74964352e-01 6.87185023e-01]\n",
      " [2.30098668e-01 1.97928851e+00]\n",
      " [8.44701833e-01 7.55135661e-01]\n",
      " [8.08381891e-01 4.10534224e-01]\n",
      " [1.38541886e-01 1.74252729e+00]\n",
      " [4.32005029e-01 4.88104583e-01]\n",
      " [1.70591160e-01 1.18220423e+00]\n",
      " [2.41128927e-01 1.27690917e+00]\n",
      " [3.75087038e-01 1.48457069e+00]\n",
      " [1.70803841e-04 1.55033764e+00]\n",
      " [8.81729879e-01 6.71259710e-01]\n",
      " [7.19094110e-01 1.39990924e+00]\n",
      " [8.73018887e-01 8.85866898e-01]\n",
      " [6.82099423e-01 1.41260003e+00]\n",
      " [5.31833261e-01 1.17116687e+00]\n",
      " [4.03877356e-01 1.76336421e+00]\n",
      " [3.02566593e-02 1.37745195e+00]\n",
      " [7.26383490e-01 7.81744551e-01]\n",
      " [5.89256337e-01 8.68604497e-01]\n",
      " [7.23685728e-01 1.30068293e+00]\n",
      " [8.17058301e-01 1.85695326e+00]\n",
      " [4.61666876e-01 4.99263570e-01]\n",
      " [1.00002782e-01 1.42252872e+00]\n",
      " [9.04299386e-01 1.68658557e+00]\n",
      " [1.64405905e-02 6.50604665e-01]\n",
      " [3.14537333e-01 2.26257265e-01]\n",
      " [2.38555327e-01 2.79006640e-02]\n",
      " [8.58561926e-02 1.43247651e-01]\n",
      " [7.50150391e-01 1.23367528e+00]\n",
      " [5.10058067e-01 1.44610299e+00]\n",
      " [2.29665460e-01 1.83474863e+00]\n",
      " [2.23101670e-02 1.42123709e+00]]\n"
     ]
    }
   ],
   "source": [
    "import random\n",
    "import numpy\n",
    "points = numpy.zeros((NPOINTS,2))\n",
    "points[0,0] = 0.0\n",
    "points[0,1] = 0.0\n",
    "points[NDIRICHLET,0] = L\n",
    "points[NDIRICHLET,1] = 0.0\n",
    "for i in range(1,NDIRICHLET-1):\n",
    "    points[i,0] = 0.0\n",
    "    points[i,1] = random.random() * H\n",
    "    points[i+NDIRICHLET,0] = L\n",
    "    points[i+NDIRICHLET,1] = random.random() * H\n",
    "points[NDIRICHLET-1,0] = 0.0\n",
    "points[NDIRICHLET-1,1] = H\n",
    "points[2*NDIRICHLET-1,0] = L\n",
    "points[2*NDIRICHLET-1,1] = H\n",
    "\n",
    "for i in range(NNEUMANN):\n",
    "    points[2*NDIRICHLET+i,0] = random.random() * L\n",
    "    points[2*NDIRICHLET+i,1] = 0\n",
    "    points[2*NDIRICHLET+NNEUMANN+i,0] = random.random() * L\n",
    "    points[2*NDIRICHLET+NNEUMANN+i,1] = H\n",
    "    \n",
    "for i in range(2*NDIRICHLET+2*NNEUMANN,NPOINTS):\n",
    "    points[i,0] = random.random() * L\n",
    "    points[i,1] = random.random() * H\n",
    "print(points)"
   ]
  },
  {
   "cell_type": "code",
   "execution_count": 19,
   "metadata": {},
   "outputs": [
    {
     "data": {
      "image/png": "[encoded data removed]",
      "text/plain": [
       "<matplotlib.figure.Figure at 0x7f91391faba8>"
      ]
     },
     "metadata": {},
     "output_type": "display_data"
    }
   ],
   "source": [
    "from scipy.spatial import Delaunay\n",
    "\n",
    "tri = Delaunay(points)\n",
    "\n",
    "fig1 = pylab.figure(figsize=(3,6))\n",
    "pylab.triplot(points[:,0], points[:,1], tri.simplices)\n",
    "pylab.plot(points[:,0], points[:,1], 'o')\n",
    "fig1.savefig(\"triangulation.png\",format=\"PNG\")"
   ]
  },
  {
   "cell_type": "markdown",
   "metadata": {},
   "source": [
    "The problem we would like to solve is the following:\n",
    "$$\n",
    "\\rho C \\partial_t T = k \\Delta T\\text{ with } T(0, y) = 1, T(L,y) = 0, \\partial_y T(x,y=0,H) = 0\n",
    "$$"
   ]
  },
  {
   "cell_type": "markdown",
   "metadata": {},
   "source": [
    "Assuming that $\\rho = C = k = 1$, the solution for the one-dimensional equation is the following:\n",
    "$$\n",
    "\\phi(x,t) = \\frac{L-x}{L}-\\sum_{k=1}^{\\infty}{\\frac{2}{k \\pi}\\sin\\bigl(\\frac{k \\pi}{L} x\\bigr)\\exp\\bigl(-\\frac{\\pi^2 k^2}{L^2} t\\bigr)}\n",
    "$$"
   ]
  },
  {
   "cell_type": "code",
   "execution_count": 16,
   "metadata": {},
   "outputs": [],
   "source": [
    "def updateMatrix(mass, stiffness, phi):\n",
    "    # Define first the Dirichlet boundary conditions\n",
    "    for i in range(NDIRICHLET):\n",
    "        mass[i,i] = 1\n",
    "        mass[i+NDIRICHLET,i+NDIRICHLET] = 1\n",
    "        phi[i]=1\n",
    "        phi[i+NDIRICHLET]=0\n",
    "\n",
    "    # Let's go through all the triangles\n",
    "    for triangle in tri.simplices:\n",
    "        vertex0 = triangle[0]\n",
    "        vertex1 = triangle[1]\n",
    "        vertex2 = triangle[2]\n",
    "        area = 0.5 * ( points[vertex0,0]*(points[vertex1,1]-points[vertex2,1]) \n",
    "                      -points[vertex1,0]*(points[vertex0,1]-points[vertex2,1])\n",
    "                      +points[vertex2,0]*(points[vertex0,1]-points[vertex1,1]))\n",
    "        for vertex0 in triangle:\n",
    "            if vertex0 < 2*NDIRICHLET:\n",
    "                continue\n",
    "            triangle2 = triangle.tolist()\n",
    "            triangle2.remove(vertex0)\n",
    "            vertex1 = triangle2[0]\n",
    "            vertex2 = triangle2[1]\n",
    "            mass[vertex0,vertex0] += area/12.0 * 2.0\n",
    "            mass[vertex0,vertex1] += area/12.0\n",
    "            mass[vertex0,vertex2] += area/12.0\n",
    "            if vertex0==0:\n",
    "                print(\"Triangle = \", triangle)\n",
    "            stiffness[vertex0,vertex0] += 0.25/area * ( (points[vertex2,0]-points[vertex1,0])**2 \n",
    "                                                       +(points[vertex2,1]-points[vertex1,1])**2)\n",
    "            stiffness[vertex0,vertex1] += 0.25/area * ( (points[vertex2,0]-points[vertex1,0])*(points[vertex0,0]-points[vertex2,0]) \n",
    "                                                       +(points[vertex2,1]-points[vertex1,1])*(points[vertex0,1]-points[vertex2,1]))\n",
    "            stiffness[vertex0,vertex2] += 0.25/area * ( (points[vertex2,0]-points[vertex1,0])*(-points[vertex0,0]+points[vertex1,0]) \n",
    "                                                       +(points[vertex2,1]-points[vertex1,1])*(-points[vertex0,1]+points[vertex1,1]))\n",
    "            "
   ]
  },
  {
   "cell_type": "code",
   "execution_count": 13,
   "metadata": {},
   "outputs": [],
   "source": [
    "def analytical(time):\n",
    "    numTerms = 400\n",
    "    numX = 101\n",
    "\n",
    "    x=numpy.linspace(0,L,numX)\n",
    "    sol = (L - x)/L\n",
    "    alpha = 1.0\n",
    "    for term in range(1,numTerms+1):\n",
    "        sol = sol - 2.0/(term*numpy.pi)*numpy.sin(term * numpy.pi*x/L)*numpy.exp(-alpha*(numpy.pi**2)*(term**2)/(L**2)*time)\n",
    "    return x,sol"
   ]
  },
  {
   "cell_type": "code",
   "execution_count": 17,
   "metadata": {
    "scrolled": true
   },
   "outputs": [
    {
     "data": {
      "image/png": "[encoded data removed]",
      "text/plain": [
       "<matplotlib.figure.Figure at 0x7f9139504b70>"
      ]
     },
     "metadata": {},
     "output_type": "display_data"
    },
    {
     "data": {
      "image/png": "[encoded data removed]",
      "text/plain": [
       "<matplotlib.figure.Figure at 0x7f91391faa58>"
      ]
     },
     "metadata": {},
     "output_type": "display_data"
    }
   ],
   "source": [
    "from IPython import display\n",
    "from matplotlib.tri import Triangulation, LinearTriInterpolator\n",
    "\n",
    "deltat = 0.001\n",
    "numIterations = 30\n",
    "mass = numpy.zeros((NPOINTS,NPOINTS))\n",
    "stiffness = numpy.zeros((NPOINTS,NPOINTS))\n",
    "phi  = numpy.zeros((NPOINTS,))\n",
    "phi_old = numpy.zeros((NPOINTS,))\n",
    "\n",
    "xi = np.linspace(0, L, 100)\n",
    "yi = np.linspace(0, H, 200)\n",
    "Xi, Yi = np.meshgrid(xi, yi)\n",
    "\n",
    "updateMatrix(mass,stiffness,phi)\n",
    "mat = mass/deltat + stiffness\n",
    "triang = Triangulation(points[:,0], points[:,1])\n",
    "\n",
    "for iteration in range(1,numIterations+1):\n",
    "    phi_old = phi\n",
    "        \n",
    "    rhs = numpy.dot(mass/deltat, phi_old)\n",
    "    phi = numpy.linalg.solve(mat,rhs)\n",
    "interpolator = LinearTriInterpolator(triang, phi)\n",
    "zi = interpolator(Xi, Yi)\n",
    "fig1 = pylab.figure(1)\n",
    "pylab.imshow(zi)\n",
    "\n",
    "fig2 = pylab.figure(2)\n",
    "xanal, yanal = analytical(numIterations*deltat)\n",
    "pylab.plot(xanal,yanal,\"-\")\n",
    "pylab.plot(Xi[100,:],zi[100,:])\n",
    "fig2.savefig(\"comparison.png\",format=\"PNG\")"
   ]
  },
  {
   "cell_type": "code",
   "execution_count": null,
   "metadata": {},
   "outputs": [],
   "source": []
  }
 ],
 "metadata": {
  "kernelspec": {
   "display_name": "Python 3",
   "language": "python",
   "name": "python3"
  },
  "language_info": {
   "codemirror_mode": {
    "name": "ipython",
    "version": 3
   },
   "file_extension": ".py",
   "mimetype": "text/x-python",
   "name": "python",
   "nbconvert_exporter": "python",
   "pygments_lexer": "ipython3",
   "version": "3.6.4"
  }
 },
 "nbformat": 4,
 "nbformat_minor": 2
}
